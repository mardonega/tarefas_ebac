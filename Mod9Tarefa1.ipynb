{
 "cells": [
  {
   "cell_type": "markdown",
   "metadata": {},
   "source": [
    "# Livro para consulta:\n",
    "- https://jakevdp.github.io/PythonDataScienceHandbook/03.08-aggregation-and-grouping.html\n",
    "- https://jakevdp.github.io/PythonDataScienceHandbook/03.09-pivot-tables.html\n",
    "    "
   ]
  },
  {
   "cell_type": "markdown",
   "metadata": {},
   "source": [
    "# 1. Importando bibliotecas <a name=\"import\"></a>\n",
    "\n",
    "<div style=\"text-align: right\"\n",
    "     \n",
    "[Voltar ao índice](#Contents)"
   ]
  },
  {
   "cell_type": "code",
   "execution_count": 54,
   "metadata": {
    "ExecuteTime": {
     "end_time": "2021-06-06T21:12:37.298706Z",
     "start_time": "2021-06-06T21:12:36.656481Z"
    }
   },
   "outputs": [],
   "source": [
    "import numpy as np\n",
    "import pandas as pd\n",
    "import seaborn as sns\n",
    "import matplotlib.pyplot as plt\n",
    "\n",
    "%matplotlib inline"
   ]
  },
  {
   "cell_type": "code",
   "execution_count": null,
   "metadata": {},
   "outputs": [],
   "source": []
  },
  {
   "cell_type": "markdown",
   "metadata": {},
   "source": [
    "# 2. Carregando o dataframe SINASC <a name=\"read\"></a>\n",
    "<div style=\"text-align: right\"\n",
    "     \n",
    "[Voltar ao índice](#Contents)"
   ]
  },
  {
   "cell_type": "code",
   "execution_count": 55,
   "metadata": {
    "ExecuteTime": {
     "end_time": "2021-06-06T21:12:37.762376Z",
     "start_time": "2021-06-06T21:12:37.728383Z"
    },
    "scrolled": true
   },
   "outputs": [
    {
     "data": {
      "text/html": [
       "<div>\n",
       "<style scoped>\n",
       "    .dataframe tbody tr th:only-of-type {\n",
       "        vertical-align: middle;\n",
       "    }\n",
       "\n",
       "    .dataframe tbody tr th {\n",
       "        vertical-align: top;\n",
       "    }\n",
       "\n",
       "    .dataframe thead th {\n",
       "        text-align: right;\n",
       "    }\n",
       "</style>\n",
       "<table border=\"1\" class=\"dataframe\">\n",
       "  <thead>\n",
       "    <tr style=\"text-align: right;\">\n",
       "      <th></th>\n",
       "      <th>ORIGEM</th>\n",
       "      <th>CODESTAB</th>\n",
       "      <th>CODMUNNASC</th>\n",
       "      <th>LOCNASC</th>\n",
       "      <th>IDADEMAE</th>\n",
       "      <th>ESTCIVMAE</th>\n",
       "      <th>ESCMAE</th>\n",
       "      <th>CODOCUPMAE</th>\n",
       "      <th>QTDFILVIVO</th>\n",
       "      <th>QTDFILMORT</th>\n",
       "      <th>...</th>\n",
       "      <th>KOTELCHUCK</th>\n",
       "      <th>CONTADOR</th>\n",
       "      <th>munResStatus</th>\n",
       "      <th>munResTipo</th>\n",
       "      <th>munResNome</th>\n",
       "      <th>munResUf</th>\n",
       "      <th>munResLat</th>\n",
       "      <th>munResLon</th>\n",
       "      <th>munResAlt</th>\n",
       "      <th>munResArea</th>\n",
       "    </tr>\n",
       "  </thead>\n",
       "  <tbody>\n",
       "    <tr>\n",
       "      <th>0</th>\n",
       "      <td>1</td>\n",
       "      <td>2679477.0</td>\n",
       "      <td>110001</td>\n",
       "      <td>1</td>\n",
       "      <td>19</td>\n",
       "      <td>5.0</td>\n",
       "      <td>8 a 11 anos</td>\n",
       "      <td>NaN</td>\n",
       "      <td>0.0</td>\n",
       "      <td>0.0</td>\n",
       "      <td>...</td>\n",
       "      <td>5</td>\n",
       "      <td>1</td>\n",
       "      <td>ATIVO</td>\n",
       "      <td>MUNIC</td>\n",
       "      <td>Alta Floresta D'Oeste</td>\n",
       "      <td>Rondônia</td>\n",
       "      <td>-11.93554</td>\n",
       "      <td>-61.99982</td>\n",
       "      <td>338.0</td>\n",
       "      <td>7067.025</td>\n",
       "    </tr>\n",
       "    <tr>\n",
       "      <th>1</th>\n",
       "      <td>1</td>\n",
       "      <td>2679477.0</td>\n",
       "      <td>110001</td>\n",
       "      <td>1</td>\n",
       "      <td>29</td>\n",
       "      <td>2.0</td>\n",
       "      <td>8 a 11 anos</td>\n",
       "      <td>999992.0</td>\n",
       "      <td>1.0</td>\n",
       "      <td>0.0</td>\n",
       "      <td>...</td>\n",
       "      <td>5</td>\n",
       "      <td>2</td>\n",
       "      <td>ATIVO</td>\n",
       "      <td>MUNIC</td>\n",
       "      <td>Alta Floresta D'Oeste</td>\n",
       "      <td>Rondônia</td>\n",
       "      <td>-11.93554</td>\n",
       "      <td>-61.99982</td>\n",
       "      <td>338.0</td>\n",
       "      <td>7067.025</td>\n",
       "    </tr>\n",
       "    <tr>\n",
       "      <th>2</th>\n",
       "      <td>1</td>\n",
       "      <td>2679477.0</td>\n",
       "      <td>110001</td>\n",
       "      <td>1</td>\n",
       "      <td>37</td>\n",
       "      <td>9.0</td>\n",
       "      <td>8 a 11 anos</td>\n",
       "      <td>513205.0</td>\n",
       "      <td>2.0</td>\n",
       "      <td>0.0</td>\n",
       "      <td>...</td>\n",
       "      <td>5</td>\n",
       "      <td>3</td>\n",
       "      <td>ATIVO</td>\n",
       "      <td>MUNIC</td>\n",
       "      <td>Alta Floresta D'Oeste</td>\n",
       "      <td>Rondônia</td>\n",
       "      <td>-11.93554</td>\n",
       "      <td>-61.99982</td>\n",
       "      <td>338.0</td>\n",
       "      <td>7067.025</td>\n",
       "    </tr>\n",
       "    <tr>\n",
       "      <th>3</th>\n",
       "      <td>1</td>\n",
       "      <td>2516500.0</td>\n",
       "      <td>110001</td>\n",
       "      <td>1</td>\n",
       "      <td>30</td>\n",
       "      <td>5.0</td>\n",
       "      <td>12 anos ou mais</td>\n",
       "      <td>231205.0</td>\n",
       "      <td>0.0</td>\n",
       "      <td>0.0</td>\n",
       "      <td>...</td>\n",
       "      <td>4</td>\n",
       "      <td>4</td>\n",
       "      <td>ATIVO</td>\n",
       "      <td>MUNIC</td>\n",
       "      <td>Alto Alegre dos Parecis</td>\n",
       "      <td>Rondônia</td>\n",
       "      <td>-12.13178</td>\n",
       "      <td>-61.85308</td>\n",
       "      <td>397.0</td>\n",
       "      <td>3958.273</td>\n",
       "    </tr>\n",
       "    <tr>\n",
       "      <th>4</th>\n",
       "      <td>1</td>\n",
       "      <td>2516500.0</td>\n",
       "      <td>110001</td>\n",
       "      <td>1</td>\n",
       "      <td>30</td>\n",
       "      <td>2.0</td>\n",
       "      <td>8 a 11 anos</td>\n",
       "      <td>999992.0</td>\n",
       "      <td>1.0</td>\n",
       "      <td>0.0</td>\n",
       "      <td>...</td>\n",
       "      <td>5</td>\n",
       "      <td>5</td>\n",
       "      <td>ATIVO</td>\n",
       "      <td>MUNIC</td>\n",
       "      <td>Alta Floresta D'Oeste</td>\n",
       "      <td>Rondônia</td>\n",
       "      <td>-11.93554</td>\n",
       "      <td>-61.99982</td>\n",
       "      <td>338.0</td>\n",
       "      <td>7067.025</td>\n",
       "    </tr>\n",
       "  </tbody>\n",
       "</table>\n",
       "<p>5 rows × 69 columns</p>\n",
       "</div>"
      ],
      "text/plain": [
       "   ORIGEM   CODESTAB  CODMUNNASC  LOCNASC  IDADEMAE  ESTCIVMAE  \\\n",
       "0       1  2679477.0      110001        1        19        5.0   \n",
       "1       1  2679477.0      110001        1        29        2.0   \n",
       "2       1  2679477.0      110001        1        37        9.0   \n",
       "3       1  2516500.0      110001        1        30        5.0   \n",
       "4       1  2516500.0      110001        1        30        2.0   \n",
       "\n",
       "            ESCMAE  CODOCUPMAE  QTDFILVIVO  QTDFILMORT  ...  KOTELCHUCK  \\\n",
       "0      8 a 11 anos         NaN         0.0         0.0  ...           5   \n",
       "1      8 a 11 anos    999992.0         1.0         0.0  ...           5   \n",
       "2      8 a 11 anos    513205.0         2.0         0.0  ...           5   \n",
       "3  12 anos ou mais    231205.0         0.0         0.0  ...           4   \n",
       "4      8 a 11 anos    999992.0         1.0         0.0  ...           5   \n",
       "\n",
       "  CONTADOR munResStatus munResTipo               munResNome  munResUf  \\\n",
       "0        1        ATIVO      MUNIC    Alta Floresta D'Oeste  Rondônia   \n",
       "1        2        ATIVO      MUNIC    Alta Floresta D'Oeste  Rondônia   \n",
       "2        3        ATIVO      MUNIC    Alta Floresta D'Oeste  Rondônia   \n",
       "3        4        ATIVO      MUNIC  Alto Alegre dos Parecis  Rondônia   \n",
       "4        5        ATIVO      MUNIC    Alta Floresta D'Oeste  Rondônia   \n",
       "\n",
       "   munResLat munResLon  munResAlt  munResArea  \n",
       "0  -11.93554 -61.99982      338.0    7067.025  \n",
       "1  -11.93554 -61.99982      338.0    7067.025  \n",
       "2  -11.93554 -61.99982      338.0    7067.025  \n",
       "3  -12.13178 -61.85308      397.0    3958.273  \n",
       "4  -11.93554 -61.99982      338.0    7067.025  \n",
       "\n",
       "[5 rows x 69 columns]"
      ]
     },
     "execution_count": 55,
     "metadata": {},
     "output_type": "execute_result"
    }
   ],
   "source": [
    "sinasc_raw = pd.read_csv('SINASC_RO_2019.csv')\n",
    "sinasc_raw.head()"
   ]
  },
  {
   "cell_type": "code",
   "execution_count": 56,
   "metadata": {
    "scrolled": true
   },
   "outputs": [
    {
     "name": "stdout",
     "output_type": "stream",
     "text": [
      "Index(['ORIGEM', 'CODESTAB', 'CODMUNNASC', 'LOCNASC', 'IDADEMAE', 'ESTCIVMAE',\n",
      "       'ESCMAE', 'CODOCUPMAE', 'QTDFILVIVO', 'QTDFILMORT', 'CODMUNRES',\n",
      "       'GESTACAO', 'GRAVIDEZ', 'PARTO', 'CONSULTAS', 'DTNASC', 'HORANASC',\n",
      "       'SEXO', 'APGAR1', 'APGAR5', 'RACACOR', 'PESO', 'IDANOMAL', 'DTCADASTRO',\n",
      "       'CODANOMAL', 'NUMEROLOTE', 'VERSAOSIST', 'DTRECEBIM', 'DIFDATA',\n",
      "       'DTRECORIGA', 'NATURALMAE', 'CODMUNNATU', 'CODUFNATU', 'ESCMAE2010',\n",
      "       'SERIESCMAE', 'DTNASCMAE', 'RACACORMAE', 'QTDGESTANT', 'QTDPARTNOR',\n",
      "       'QTDPARTCES', 'IDADEPAI', 'DTULTMENST', 'SEMAGESTAC', 'TPMETESTIM',\n",
      "       'CONSPRENAT', 'MESPRENAT', 'TPAPRESENT', 'STTRABPART', 'STCESPARTO',\n",
      "       'TPNASCASSI', 'TPFUNCRESP', 'TPDOCRESP', 'DTDECLARAC', 'ESCMAEAGR1',\n",
      "       'STDNEPIDEM', 'STDNNOVA', 'CODPAISRES', 'TPROBSON', 'PARIDADE',\n",
      "       'KOTELCHUCK', 'CONTADOR', 'munResStatus', 'munResTipo', 'munResNome',\n",
      "       'munResUf', 'munResLat', 'munResLon', 'munResAlt', 'munResArea'],\n",
      "      dtype='object')\n"
     ]
    }
   ],
   "source": [
    "# Exibindo os nomes de todas as colunas\n",
    "print(sinasc_raw.columns)"
   ]
  },
  {
   "cell_type": "code",
   "execution_count": null,
   "metadata": {},
   "outputs": [],
   "source": []
  },
  {
   "cell_type": "markdown",
   "metadata": {},
   "source": [
    "# Tarefa 1"
   ]
  },
  {
   "cell_type": "markdown",
   "metadata": {},
   "source": [
    "### 1. Idade media das mães e dos pais por município (coluna munResNome)\n"
   ]
  },
  {
   "cell_type": "code",
   "execution_count": 57,
   "metadata": {},
   "outputs": [],
   "source": [
    "# Calculando a idade média das mães e dos pais por município\n",
    "idade_media_por_municipio = sinasc_raw.groupby('munResNome').agg({'IDADEMAE': 'mean', 'IDADEPAI': 'mean'}).reset_index()"
   ]
  },
  {
   "cell_type": "code",
   "execution_count": 13,
   "metadata": {},
   "outputs": [
    {
     "name": "stdout",
     "output_type": "stream",
     "text": [
      "                   munResNome   IDADEMAE   IDADEPAI\n",
      "0       Alta Floresta D'Oeste  25.991826  29.548701\n",
      "1     Alto Alegre dos Parecis  24.844156  29.179104\n",
      "2                Alto Paraíso  24.960177  28.833333\n",
      "3            Alvorada D'Oeste  25.770732  30.757282\n",
      "4                   Ariquemes  25.607866  32.466667\n",
      "5                     Buritis  25.559177  30.812500\n",
      "6                      Cabixi  26.037500  34.333333\n",
      "7                 Cacaulândia  25.546667  36.333333\n",
      "8                      Cacoal  26.890102  30.931854\n",
      "9      Campo Novo de Rondônia  24.825301  30.500000\n",
      "10         Candeias do Jamari  25.243323  29.894737\n",
      "11               Castanheiras  27.281250  30.392857\n",
      "12                 Cerejeiras  27.240506  31.652778\n",
      "13                Chupinguaia  25.333333  29.629630\n",
      "14          Colorado do Oeste  27.602804  34.354839\n",
      "15                 Corumbiara  24.716535  32.470588\n",
      "16              Costa Marques  24.412017  30.613636\n",
      "17                    Cujubim  24.482927  31.400000\n",
      "18            Espigão D'Oeste  26.093333  31.198113\n",
      "19  Governador Jorge Teixeira  24.401786  29.222222\n",
      "20              Guajará-Mirim  25.462228  30.470588\n",
      "21            Itapuã do Oeste  26.064220  42.500000\n",
      "22                       Jaru  25.982974  32.197183\n",
      "23                  Ji-Paraná  26.361137  31.132239\n",
      "24         Machadinho D'Oeste  25.480000  31.326923\n",
      "25         Ministro Andreazza  27.904762  33.849315\n",
      "26           Mirante da Serra  26.304878  32.154762\n",
      "27                Monte Negro  25.648241  34.678571\n",
      "28    Município ignorado - RO  24.000000  22.000000\n",
      "29   Nova Brasilândia D'Oeste  26.222222  30.520833\n",
      "30                Nova Mamoré  25.326389  31.692308\n",
      "31                 Nova União  26.894231  31.371429\n",
      "32    Novo Horizonte do Oeste  26.938776  31.588235\n",
      "33        Ouro Preto do Oeste  26.375594  31.233244\n",
      "34                    Parecis  26.454545  32.473684\n",
      "35              Pimenta Bueno  25.199675  29.745174\n",
      "36       Pimenteiras do Oeste  25.075000  35.600000\n",
      "37                Porto Velho  26.312670  32.352679\n",
      "38          Presidente Médici  25.796053  30.150754\n",
      "39      Primavera de Rondônia  27.023256  31.888889\n",
      "40                 Rio Crespo  26.660000  28.000000\n",
      "41             Rolim de Moura  26.600863  30.360479\n",
      "42        Santa Luzia D'Oeste  26.121212  30.703297\n",
      "43               Seringueiras  24.910714  30.500000\n",
      "44         São Felipe D'Oeste  26.481481  31.395833\n",
      "45   São Francisco do Guaporé  25.660066  31.638889\n",
      "46      São Miguel do Guaporé  25.926346  32.666667\n",
      "47              Teixeirópolis  26.031250  31.500000\n",
      "48                  Theobroma  25.536082  30.083333\n",
      "49                      Urupá  26.688235  31.008929\n",
      "50              Vale do Anari  26.096774  34.000000\n",
      "51            Vale do Paraíso  25.679012  29.976744\n",
      "52                    Vilhena  26.433962  34.152941\n"
     ]
    }
   ],
   "source": [
    "# Exibindo o resultado\n",
    "print(idade_media_por_municipio)"
   ]
  },
  {
   "cell_type": "markdown",
   "metadata": {},
   "source": [
    "### 2. Peso médio dos bebes por sexo que nasceram no dia do seu aniversário por faixas de escolaridade mae\n",
    "Ex: Você, aluna(o), nasceu no dia 10/01, então você precisa filtrar o conjunto de dados nessa data e calcular o peso médio dos bebês de cada sexo por faixa de escolaridade da mãe."
   ]
  },
  {
   "cell_type": "code",
   "execution_count": 58,
   "metadata": {},
   "outputs": [],
   "source": [
    "# Convertendo a coluna 'DTNASC' para o formato datetime\n",
    "sinasc_raw['DTNASC'] = pd.to_datetime(sinasc_raw['DTNASC'], errors='coerce')"
   ]
  },
  {
   "cell_type": "code",
   "execution_count": 59,
   "metadata": {},
   "outputs": [],
   "source": [
    "# Filtrando apenas os bebês que nasceram no dia 20/03\n",
    "sinasc_raw_20_03 = sinasc_raw[sinasc_raw['DTNASC'].dt.day == 20]\n",
    "sinasc_raw_20_03 = sinasc_raw_20_03[sinasc_raw_20_03['DTNASC'].dt.month == 3]"
   ]
  },
  {
   "cell_type": "code",
   "execution_count": 60,
   "metadata": {},
   "outputs": [],
   "source": [
    "# Criando faixas de escolaridade\n",
    "faixas_escolaridade = ['Sem instrução e menos de 1 ano', '1 e 3 anos', '4 e 7 anos', '8 e 11 anos', '12 e 14 anos', '15 anos ou mais']"
   ]
  },
  {
   "cell_type": "code",
   "execution_count": 61,
   "metadata": {},
   "outputs": [],
   "source": [
    "# Criando uma nova coluna para as faixas de escolaridade\n",
    "sinasc_raw_20_03['FaixaEscolaridade'] = pd.cut(sinasc_raw_20_03['ESCMAE2010'], bins=[0, 1, 3, 7, 11, 14, 99], labels=faixas_escolaridade)"
   ]
  },
  {
   "cell_type": "code",
   "execution_count": 62,
   "metadata": {},
   "outputs": [],
   "source": [
    "# Calculando o peso médio dos bebês por sexo e faixa de escolaridade\n",
    "peso_medio_por_sexo_escolaridade =sinasc_raw_20_03.groupby(['SEXO', 'FaixaEscolaridade'])['PESO'].mean().reset_index()"
   ]
  },
  {
   "cell_type": "code",
   "execution_count": 63,
   "metadata": {},
   "outputs": [
    {
     "name": "stdout",
     "output_type": "stream",
     "text": [
      "         SEXO               FaixaEscolaridade         PESO\n",
      "0    Feminino  Sem instrução e menos de 1 ano  3445.000000\n",
      "1    Feminino                      1 e 3 anos  3186.571429\n",
      "2    Feminino                      4 e 7 anos  3242.846154\n",
      "3    Feminino                     8 e 11 anos          NaN\n",
      "4    Feminino                    12 e 14 anos          NaN\n",
      "5    Feminino                 15 anos ou mais          NaN\n",
      "6   Masculino  Sem instrução e menos de 1 ano  3900.000000\n",
      "7   Masculino                      1 e 3 anos  3477.857143\n",
      "8   Masculino                      4 e 7 anos  3461.230769\n",
      "9   Masculino                     8 e 11 anos          NaN\n",
      "10  Masculino                    12 e 14 anos          NaN\n",
      "11  Masculino                 15 anos ou mais          NaN\n"
     ]
    }
   ],
   "source": [
    "# Exibindo o resultado \n",
    "print(peso_medio_por_sexo_escolaridade)\n"
   ]
  },
  {
   "cell_type": "markdown",
   "metadata": {},
   "source": [
    "### 3. Qual o municipio que nasceu menos bebe em 2019?\n",
    "    - qual a idade media, maxima, minima das maes nesse municipio?\n",
    "    - qual a idade media, maxima, minima dos pais nesse municipio?"
   ]
  },
  {
   "cell_type": "code",
   "execution_count": 64,
   "metadata": {},
   "outputs": [],
   "source": [
    "# Somando as ocorrências de QTDFILVIVO e QTDFILMORT para cada município\n",
    "sinasc_raw['TotalNascimentos'] = sinasc_raw['QTDFILVIVO'] + sinasc_raw['QTDFILMORT']\n",
    "nascimentos_por_municipio = sinasc_raw.groupby('munResNome')['TotalNascimentos'].sum().reset_index()\n",
    "nascimentos_por_municipio.columns = ['Municipio', 'TotalNascimentos']"
   ]
  },
  {
   "cell_type": "code",
   "execution_count": 65,
   "metadata": {},
   "outputs": [],
   "source": [
    "# Encontrando o município com o menor número total de nascimentos\n",
    "menor_numero_nascimentos = nascimentos_por_municipio.loc[nascimentos_por_municipio['TotalNascimentos'].idxmin()]"
   ]
  },
  {
   "cell_type": "code",
   "execution_count": 66,
   "metadata": {},
   "outputs": [
    {
     "name": "stdout",
     "output_type": "stream",
     "text": [
      "Município com Menor Número Total de Nascimentos em 2019:\n",
      "Municipio           Município ignorado - RO\n",
      "TotalNascimentos                        2.0\n",
      "Name: 28, dtype: object\n"
     ]
    }
   ],
   "source": [
    "# Exibindo o resultado\n",
    "print(\"Município com Menor Número Total de Nascimentos em 2019:\")\n",
    "print(menor_numero_nascimentos)"
   ]
  },
  {
   "cell_type": "code",
   "execution_count": 67,
   "metadata": {},
   "outputs": [
    {
     "name": "stdout",
     "output_type": "stream",
     "text": [
      "Estatísticas de Idade das Mães no Município Município ignorado - RO:\n",
      "  Estatistica  Idade\n",
      "0        mean   24.0\n",
      "1         min   24.0\n",
      "2         max   24.0\n"
     ]
    }
   ],
   "source": [
    "# Filtrando o DataFrame para incluir apenas o município com o menor número total de nascimentos\n",
    "sinasc_municipio = sinasc_raw[sinasc_raw['munResNome'] == menor_numero_nascimentos['Municipio']]\n",
    "\n",
    "# Calculando as estatísticas de idade das mães no município selecionado\n",
    "estatisticas_idade_maes = sinasc_municipio['IDADEMAE'].agg(['mean', 'min', 'max']).reset_index()\n",
    "estatisticas_idade_maes.columns = ['Estatistica', 'Idade']\n",
    "\n",
    "# Exibindo o resultado\n",
    "print(f\"Estatísticas de Idade das Mães no Município {menor_numero_nascimentos['Municipio']}:\")\n",
    "print(estatisticas_idade_maes)"
   ]
  },
  {
   "cell_type": "code",
   "execution_count": 68,
   "metadata": {},
   "outputs": [
    {
     "name": "stdout",
     "output_type": "stream",
     "text": [
      "Estatísticas de Idade dos Pais no Município Município ignorado - RO:\n",
      "  Estatistica  Idade\n",
      "0        mean   22.0\n",
      "1         min   22.0\n",
      "2         max   22.0\n"
     ]
    }
   ],
   "source": [
    "# Calculando as estatísticas de idade dos pais no município selecionado\n",
    "estatisticas_idade_pais = sinasc_municipio['IDADEPAI'].agg(['mean', 'min', 'max']).reset_index()\n",
    "estatisticas_idade_pais.columns = ['Estatistica', 'Idade']\n",
    "\n",
    "# Exibindo o resultado\n",
    "print(f\"Estatísticas de Idade dos Pais no Município {menor_numero_nascimentos['Municipio']}:\")\n",
    "print(estatisticas_idade_pais)"
   ]
  },
  {
   "cell_type": "markdown",
   "metadata": {},
   "source": [
    "### 4. Qual o municipio que nasceu mais bebe no mês de março?\n",
    "    - qual a quantidade de filhos vivos media, maxima, minima nesse municipio?\n",
    "    - qual a idade media, maxima, minima dos pais nesse municipio?\n",
    "\n"
   ]
  },
  {
   "cell_type": "code",
   "execution_count": 69,
   "metadata": {},
   "outputs": [],
   "source": [
    "# Filtrando o DataFrame para incluir apenas os registros de março\n",
    "sinasc_marco = sinasc_raw[sinasc_raw['DTNASC'].dt.month == 3]"
   ]
  },
  {
   "cell_type": "code",
   "execution_count": 70,
   "metadata": {},
   "outputs": [],
   "source": [
    "# Contando o número de nascimentos por município em março\n",
    "nascimentos_marco_por_municipio = sinasc_marco['munResNome'].value_counts().reset_index()\n",
    "nascimentos_marco_por_municipio.columns = ['Municipio', 'NumeroNascimentosMarco']\n",
    "\n",
    "# Encontrando o município com o maior número de nascimentos em março\n",
    "maior_numero_nascimentos_marco = nascimentos_marco_por_municipio.loc[nascimentos_marco_por_municipio['NumeroNascimentosMarco'].idxmax()]"
   ]
  },
  {
   "cell_type": "code",
   "execution_count": 71,
   "metadata": {},
   "outputs": [
    {
     "name": "stdout",
     "output_type": "stream",
     "text": [
      "Município com Maior Número de Nascimentos em Março:\n",
      "Municipio                 Porto Velho\n",
      "NumeroNascimentosMarco            744\n",
      "Name: 0, dtype: object\n"
     ]
    }
   ],
   "source": [
    "# Exibindo o resultado\n",
    "print(\"Município com Maior Número de Nascimentos em Março:\")\n",
    "print(maior_numero_nascimentos_marco)"
   ]
  },
  {
   "cell_type": "code",
   "execution_count": 76,
   "metadata": {},
   "outputs": [
    {
     "name": "stdout",
     "output_type": "stream",
     "text": [
      "Estatísticas de Idade dos Pais no Município Porto Velho em Março:\n",
      "  Estatistica   IDADEPAI\n",
      "0        mean  32.352679\n",
      "1         min  16.000000\n",
      "2         max  65.000000\n"
     ]
    }
   ],
   "source": [
    "# Filtrando o DataFrame para incluir apenas os registros do município com mais nascimentos em março\n",
    "sinasc_municipio_maior_nascimentos_marco = sinasc_raw[sinasc_raw['munResNome'] == maior_numero_nascimentos_marco['Municipio']]\n",
    "\n",
    "# Verificando se a coluna 'IDADEPAI' está presente no DataFrame\n",
    "if 'IDADEPAI' in sinasc_municipio_maior_nascimentos_marco.columns:\n",
    "    # Filtrando os registros com valores não nulos na coluna 'IDADEPAI'\n",
    "    sinasc_municipio_maior_nascimentos_marco = sinasc_municipio_maior_nascimentos_marco.dropna(subset=['IDADEPAI'])\n",
    "\n",
    "    # Calculando as estatísticas de idade dos pais no município selecionado\n",
    "    estatisticas_idade_pais = sinasc_municipio_maior_nascimentos_marco['IDADEPAI'].agg(['mean', 'min', 'max']).reset_index()\n",
    "    estatisticas_idade_pais.columns = ['Estatistica', 'IDADEPAI']\n",
    "\n",
    "    # Exibindo o resultado\n",
    "    print(f\"Estatísticas de Idade dos Pais no Município {maior_numero_nascimentos_marco['Municipio']} em Março:\")\n",
    "    print(estatisticas_idade_pais)\n",
    "else:\n",
    "    print(\"A coluna 'IDADEPAI' não está presente no DataFrame do município.\")"
   ]
  },
  {
   "cell_type": "markdown",
   "metadata": {},
   "source": [
    "### Analise as respostas encontradas, tire algum insight delas, conte pra gente algo encontrado nos dados. Algo que você julgue relevante e novo pra você."
   ]
  },
  {
   "cell_type": "markdown",
   "metadata": {},
   "source": [
    "Com base nas idades das mães e dos pais por município no ano de 2019, algumas observações e insights que podem ser extraídos:\n",
    "\n",
    "Idade Mediana das Mulheres que Deram à Luz no Ano de 2019 por Município:\n",
    "\n",
    "A idade mediana das mulheres que deram à luz varia entre os municípios, com valores que vão de 23.0 a 28.0.\n",
    "Municípios como Costa Marques, Cujubim e Porto Velho apresentam idades medianas mais baixas, enquanto Cabixi, Pimenteiras do Oeste e Espigão D'Oeste têm idades medianas mais altas. Em alguns municípios, a idade mediana das mulheres que deram à luz é mais homogênea, enquanto em outros há uma variação mais significativa.\n",
    "\n",
    "Idade Mediana dos Pais no Ano de 2019 por Município:\n",
    "\n",
    "A idade mediana dos pais também varia consideravelmente entre os municípios, com valores que vão de 22.0 a 40.0.\n",
    "Municípios como Município ignorado - RO, Cacoal e São Francisco do Guaporé apresentam idades medianas mais baixas, enquanto Itapuã do Oeste, Pimenteiras do Oeste e Guajará-Mirim têm idades medianas mais altas. Em alguns municípios, a idade mediana dos pais é bastante homogênea, enquanto em outros há uma variação mais significativa.\n",
    "\n",
    "Observações Gerais:\n",
    "\n",
    "Em alguns casos, a idade mediana das mães e dos pais é semelhante, enquanto em outros casos há uma diferença significativa entre as idades medianas das duas populações. Municípios menores podem apresentar maior variabilidade nas idades medianas devido a amostras de tamanho reduzido. "
   ]
  },
  {
   "cell_type": "code",
   "execution_count": 6,
   "metadata": {},
   "outputs": [
    {
     "data": {
      "text/plain": [
       "ORIGEM          int64\n",
       "CODESTAB      float64\n",
       "CODMUNNASC      int64\n",
       "LOCNASC         int64\n",
       "IDADEMAE        int64\n",
       "               ...   \n",
       "munResUf       object\n",
       "munResLat     float64\n",
       "munResLon     float64\n",
       "munResAlt     float64\n",
       "munResArea    float64\n",
       "Length: 69, dtype: object"
      ]
     },
     "execution_count": 6,
     "metadata": {},
     "output_type": "execute_result"
    }
   ],
   "source": [
    "sinasc_raw.dtypes"
   ]
  },
  {
   "cell_type": "code",
   "execution_count": 7,
   "metadata": {},
   "outputs": [
    {
     "data": {
      "text/html": [
       "<div>\n",
       "<style scoped>\n",
       "    .dataframe tbody tr th:only-of-type {\n",
       "        vertical-align: middle;\n",
       "    }\n",
       "\n",
       "    .dataframe tbody tr th {\n",
       "        vertical-align: top;\n",
       "    }\n",
       "\n",
       "    .dataframe thead th {\n",
       "        text-align: right;\n",
       "    }\n",
       "</style>\n",
       "<table border=\"1\" class=\"dataframe\">\n",
       "  <thead>\n",
       "    <tr style=\"text-align: right;\">\n",
       "      <th></th>\n",
       "      <th>ESCMAE</th>\n",
       "      <th>GESTACAO</th>\n",
       "      <th>GRAVIDEZ</th>\n",
       "      <th>PARTO</th>\n",
       "      <th>DTNASC</th>\n",
       "      <th>SEXO</th>\n",
       "      <th>RACACOR</th>\n",
       "      <th>DTCADASTRO</th>\n",
       "      <th>CODANOMAL</th>\n",
       "      <th>VERSAOSIST</th>\n",
       "      <th>DTRECEBIM</th>\n",
       "      <th>munResStatus</th>\n",
       "      <th>munResTipo</th>\n",
       "      <th>munResNome</th>\n",
       "      <th>munResUf</th>\n",
       "    </tr>\n",
       "  </thead>\n",
       "  <tbody>\n",
       "    <tr>\n",
       "      <th>0</th>\n",
       "      <td>8 a 11 anos</td>\n",
       "      <td>37 a 41 semanas</td>\n",
       "      <td>Única</td>\n",
       "      <td>Cesáreo</td>\n",
       "      <td>2019-02-19</td>\n",
       "      <td>Masculino</td>\n",
       "      <td>Branca</td>\n",
       "      <td>2019-03-08</td>\n",
       "      <td>NaN</td>\n",
       "      <td>3.2.01</td>\n",
       "      <td>2019-03-08</td>\n",
       "      <td>ATIVO</td>\n",
       "      <td>MUNIC</td>\n",
       "      <td>Alta Floresta D'Oeste</td>\n",
       "      <td>Rondônia</td>\n",
       "    </tr>\n",
       "    <tr>\n",
       "      <th>1</th>\n",
       "      <td>8 a 11 anos</td>\n",
       "      <td>37 a 41 semanas</td>\n",
       "      <td>Única</td>\n",
       "      <td>Cesáreo</td>\n",
       "      <td>2019-02-21</td>\n",
       "      <td>Feminino</td>\n",
       "      <td>Branca</td>\n",
       "      <td>2019-03-08</td>\n",
       "      <td>NaN</td>\n",
       "      <td>3.2.01</td>\n",
       "      <td>2019-03-08</td>\n",
       "      <td>ATIVO</td>\n",
       "      <td>MUNIC</td>\n",
       "      <td>Alta Floresta D'Oeste</td>\n",
       "      <td>Rondônia</td>\n",
       "    </tr>\n",
       "    <tr>\n",
       "      <th>2</th>\n",
       "      <td>8 a 11 anos</td>\n",
       "      <td>37 a 41 semanas</td>\n",
       "      <td>Única</td>\n",
       "      <td>Cesáreo</td>\n",
       "      <td>2019-02-25</td>\n",
       "      <td>Feminino</td>\n",
       "      <td>Branca</td>\n",
       "      <td>2019-03-08</td>\n",
       "      <td>NaN</td>\n",
       "      <td>3.2.01</td>\n",
       "      <td>2019-03-08</td>\n",
       "      <td>ATIVO</td>\n",
       "      <td>MUNIC</td>\n",
       "      <td>Alta Floresta D'Oeste</td>\n",
       "      <td>Rondônia</td>\n",
       "    </tr>\n",
       "    <tr>\n",
       "      <th>3</th>\n",
       "      <td>12 anos ou mais</td>\n",
       "      <td>37 a 41 semanas</td>\n",
       "      <td>Única</td>\n",
       "      <td>Cesáreo</td>\n",
       "      <td>2019-03-20</td>\n",
       "      <td>Feminino</td>\n",
       "      <td>Parda</td>\n",
       "      <td>2019-04-03</td>\n",
       "      <td>NaN</td>\n",
       "      <td>3.2.01</td>\n",
       "      <td>2019-04-09</td>\n",
       "      <td>ATIVO</td>\n",
       "      <td>MUNIC</td>\n",
       "      <td>Alto Alegre dos Parecis</td>\n",
       "      <td>Rondônia</td>\n",
       "    </tr>\n",
       "    <tr>\n",
       "      <th>4</th>\n",
       "      <td>8 a 11 anos</td>\n",
       "      <td>37 a 41 semanas</td>\n",
       "      <td>Única</td>\n",
       "      <td>Cesáreo</td>\n",
       "      <td>2019-03-23</td>\n",
       "      <td>Feminino</td>\n",
       "      <td>Parda</td>\n",
       "      <td>2019-04-03</td>\n",
       "      <td>NaN</td>\n",
       "      <td>3.2.01</td>\n",
       "      <td>2019-04-09</td>\n",
       "      <td>ATIVO</td>\n",
       "      <td>MUNIC</td>\n",
       "      <td>Alta Floresta D'Oeste</td>\n",
       "      <td>Rondônia</td>\n",
       "    </tr>\n",
       "    <tr>\n",
       "      <th>...</th>\n",
       "      <td>...</td>\n",
       "      <td>...</td>\n",
       "      <td>...</td>\n",
       "      <td>...</td>\n",
       "      <td>...</td>\n",
       "      <td>...</td>\n",
       "      <td>...</td>\n",
       "      <td>...</td>\n",
       "      <td>...</td>\n",
       "      <td>...</td>\n",
       "      <td>...</td>\n",
       "      <td>...</td>\n",
       "      <td>...</td>\n",
       "      <td>...</td>\n",
       "      <td>...</td>\n",
       "    </tr>\n",
       "    <tr>\n",
       "      <th>27023</th>\n",
       "      <td>12 anos ou mais</td>\n",
       "      <td>32 a 36 semanas</td>\n",
       "      <td>Única</td>\n",
       "      <td>Cesáreo</td>\n",
       "      <td>2019-12-13</td>\n",
       "      <td>Masculino</td>\n",
       "      <td>Branca</td>\n",
       "      <td>2020-09-28</td>\n",
       "      <td>NaN</td>\n",
       "      <td>3.2.01</td>\n",
       "      <td>2020-10-13</td>\n",
       "      <td>ATIVO</td>\n",
       "      <td>MUNIC</td>\n",
       "      <td>Vilhena</td>\n",
       "      <td>Rondônia</td>\n",
       "    </tr>\n",
       "    <tr>\n",
       "      <th>27024</th>\n",
       "      <td>8 a 11 anos</td>\n",
       "      <td>37 a 41 semanas</td>\n",
       "      <td>Única</td>\n",
       "      <td>Vaginal</td>\n",
       "      <td>2019-10-04</td>\n",
       "      <td>Masculino</td>\n",
       "      <td>Branca</td>\n",
       "      <td>2019-10-16</td>\n",
       "      <td>NaN</td>\n",
       "      <td>3.2.01</td>\n",
       "      <td>2019-10-21</td>\n",
       "      <td>ATIVO</td>\n",
       "      <td>MUNIC</td>\n",
       "      <td>Chupinguaia</td>\n",
       "      <td>Rondônia</td>\n",
       "    </tr>\n",
       "    <tr>\n",
       "      <th>27025</th>\n",
       "      <td>8 a 11 anos</td>\n",
       "      <td>37 a 41 semanas</td>\n",
       "      <td>Única</td>\n",
       "      <td>Cesáreo</td>\n",
       "      <td>2019-08-02</td>\n",
       "      <td>Masculino</td>\n",
       "      <td>Parda</td>\n",
       "      <td>2019-08-07</td>\n",
       "      <td>NaN</td>\n",
       "      <td>3.2.00</td>\n",
       "      <td>2019-08-07</td>\n",
       "      <td>ATIVO</td>\n",
       "      <td>MUNIC</td>\n",
       "      <td>Vilhena</td>\n",
       "      <td>Rondônia</td>\n",
       "    </tr>\n",
       "    <tr>\n",
       "      <th>27026</th>\n",
       "      <td>8 a 11 anos</td>\n",
       "      <td>32 a 36 semanas</td>\n",
       "      <td>Única</td>\n",
       "      <td>Vaginal</td>\n",
       "      <td>2019-12-23</td>\n",
       "      <td>Masculino</td>\n",
       "      <td>Parda</td>\n",
       "      <td>2020-01-07</td>\n",
       "      <td>NaN</td>\n",
       "      <td>3.2.00</td>\n",
       "      <td>2020-01-07</td>\n",
       "      <td>ATIVO</td>\n",
       "      <td>MUNIC</td>\n",
       "      <td>Vilhena</td>\n",
       "      <td>Rondônia</td>\n",
       "    </tr>\n",
       "    <tr>\n",
       "      <th>27027</th>\n",
       "      <td>8 a 11 anos</td>\n",
       "      <td>37 a 41 semanas</td>\n",
       "      <td>Única</td>\n",
       "      <td>Cesáreo</td>\n",
       "      <td>2019-12-27</td>\n",
       "      <td>Masculino</td>\n",
       "      <td>Parda</td>\n",
       "      <td>2020-10-15</td>\n",
       "      <td>NaN</td>\n",
       "      <td>3.2.01</td>\n",
       "      <td>2020-10-16</td>\n",
       "      <td>ATIVO</td>\n",
       "      <td>MUNIC</td>\n",
       "      <td>Novo Horizonte do Oeste</td>\n",
       "      <td>Rondônia</td>\n",
       "    </tr>\n",
       "  </tbody>\n",
       "</table>\n",
       "<p>27028 rows × 15 columns</p>\n",
       "</div>"
      ],
      "text/plain": [
       "                ESCMAE         GESTACAO GRAVIDEZ    PARTO      DTNASC  \\\n",
       "0          8 a 11 anos  37 a 41 semanas    Única  Cesáreo  2019-02-19   \n",
       "1          8 a 11 anos  37 a 41 semanas    Única  Cesáreo  2019-02-21   \n",
       "2          8 a 11 anos  37 a 41 semanas    Única  Cesáreo  2019-02-25   \n",
       "3      12 anos ou mais  37 a 41 semanas    Única  Cesáreo  2019-03-20   \n",
       "4          8 a 11 anos  37 a 41 semanas    Única  Cesáreo  2019-03-23   \n",
       "...                ...              ...      ...      ...         ...   \n",
       "27023  12 anos ou mais  32 a 36 semanas    Única  Cesáreo  2019-12-13   \n",
       "27024      8 a 11 anos  37 a 41 semanas    Única  Vaginal  2019-10-04   \n",
       "27025      8 a 11 anos  37 a 41 semanas    Única  Cesáreo  2019-08-02   \n",
       "27026      8 a 11 anos  32 a 36 semanas    Única  Vaginal  2019-12-23   \n",
       "27027      8 a 11 anos  37 a 41 semanas    Única  Cesáreo  2019-12-27   \n",
       "\n",
       "            SEXO RACACOR  DTCADASTRO CODANOMAL VERSAOSIST   DTRECEBIM  \\\n",
       "0      Masculino  Branca  2019-03-08       NaN     3.2.01  2019-03-08   \n",
       "1       Feminino  Branca  2019-03-08       NaN     3.2.01  2019-03-08   \n",
       "2       Feminino  Branca  2019-03-08       NaN     3.2.01  2019-03-08   \n",
       "3       Feminino   Parda  2019-04-03       NaN     3.2.01  2019-04-09   \n",
       "4       Feminino   Parda  2019-04-03       NaN     3.2.01  2019-04-09   \n",
       "...          ...     ...         ...       ...        ...         ...   \n",
       "27023  Masculino  Branca  2020-09-28       NaN     3.2.01  2020-10-13   \n",
       "27024  Masculino  Branca  2019-10-16       NaN     3.2.01  2019-10-21   \n",
       "27025  Masculino   Parda  2019-08-07       NaN     3.2.00  2019-08-07   \n",
       "27026  Masculino   Parda  2020-01-07       NaN     3.2.00  2020-01-07   \n",
       "27027  Masculino   Parda  2020-10-15       NaN     3.2.01  2020-10-16   \n",
       "\n",
       "      munResStatus munResTipo               munResNome  munResUf  \n",
       "0            ATIVO      MUNIC    Alta Floresta D'Oeste  Rondônia  \n",
       "1            ATIVO      MUNIC    Alta Floresta D'Oeste  Rondônia  \n",
       "2            ATIVO      MUNIC    Alta Floresta D'Oeste  Rondônia  \n",
       "3            ATIVO      MUNIC  Alto Alegre dos Parecis  Rondônia  \n",
       "4            ATIVO      MUNIC    Alta Floresta D'Oeste  Rondônia  \n",
       "...            ...        ...                      ...       ...  \n",
       "27023        ATIVO      MUNIC                  Vilhena  Rondônia  \n",
       "27024        ATIVO      MUNIC              Chupinguaia  Rondônia  \n",
       "27025        ATIVO      MUNIC                  Vilhena  Rondônia  \n",
       "27026        ATIVO      MUNIC                  Vilhena  Rondônia  \n",
       "27027        ATIVO      MUNIC  Novo Horizonte do Oeste  Rondônia  \n",
       "\n",
       "[27028 rows x 15 columns]"
      ]
     },
     "execution_count": 7,
     "metadata": {},
     "output_type": "execute_result"
    }
   ],
   "source": [
    "sinasc_raw.select_dtypes(exclude=['int64','float64'])"
   ]
  },
  {
   "cell_type": "code",
   "execution_count": 4,
   "metadata": {},
   "outputs": [
    {
     "data": {
      "text/plain": [
       "Index(['ORIGEM', 'CODESTAB', 'CODMUNNASC', 'LOCNASC', 'IDADEMAE', 'ESTCIVMAE',\n",
       "       'ESCMAE', 'CODOCUPMAE', 'QTDFILVIVO', 'QTDFILMORT', 'CODMUNRES',\n",
       "       'GESTACAO', 'GRAVIDEZ', 'PARTO', 'CONSULTAS', 'DTNASC', 'HORANASC',\n",
       "       'SEXO', 'APGAR1', 'APGAR5', 'RACACOR', 'PESO', 'IDANOMAL', 'DTCADASTRO',\n",
       "       'CODANOMAL', 'NUMEROLOTE', 'VERSAOSIST', 'DTRECEBIM', 'DIFDATA',\n",
       "       'DTRECORIGA', 'NATURALMAE', 'CODMUNNATU', 'CODUFNATU', 'ESCMAE2010',\n",
       "       'SERIESCMAE', 'DTNASCMAE', 'RACACORMAE', 'QTDGESTANT', 'QTDPARTNOR',\n",
       "       'QTDPARTCES', 'IDADEPAI', 'DTULTMENST', 'SEMAGESTAC', 'TPMETESTIM',\n",
       "       'CONSPRENAT', 'MESPRENAT', 'TPAPRESENT', 'STTRABPART', 'STCESPARTO',\n",
       "       'TPNASCASSI', 'TPFUNCRESP', 'TPDOCRESP', 'DTDECLARAC', 'ESCMAEAGR1',\n",
       "       'STDNEPIDEM', 'STDNNOVA', 'CODPAISRES', 'TPROBSON', 'PARIDADE',\n",
       "       'KOTELCHUCK', 'CONTADOR', 'munResStatus', 'munResTipo', 'munResNome',\n",
       "       'munResUf', 'munResLat', 'munResLon', 'munResAlt', 'munResArea'],\n",
       "      dtype='object')"
      ]
     },
     "execution_count": 4,
     "metadata": {},
     "output_type": "execute_result"
    }
   ],
   "source": [
    "sinasc_raw.columns"
   ]
  }
 ],
 "metadata": {
  "kernelspec": {
   "display_name": "Python 3 (ipykernel)",
   "language": "python",
   "name": "python3"
  },
  "language_info": {
   "codemirror_mode": {
    "name": "ipython",
    "version": 3
   },
   "file_extension": ".py",
   "mimetype": "text/x-python",
   "name": "python",
   "nbconvert_exporter": "python",
   "pygments_lexer": "ipython3",
   "version": "3.11.5"
  },
  "varInspector": {
   "cols": {
    "lenName": 16,
    "lenType": 16,
    "lenVar": 40
   },
   "kernels_config": {
    "python": {
     "delete_cmd_postfix": "",
     "delete_cmd_prefix": "del ",
     "library": "var_list.py",
     "varRefreshCmd": "print(var_dic_list())"
    },
    "r": {
     "delete_cmd_postfix": ") ",
     "delete_cmd_prefix": "rm(",
     "library": "var_list.r",
     "varRefreshCmd": "cat(var_dic_list()) "
    }
   },
   "types_to_exclude": [
    "module",
    "function",
    "builtin_function_or_method",
    "instance",
    "_Feature"
   ],
   "window_display": false
  }
 },
 "nbformat": 4,
 "nbformat_minor": 4
}
