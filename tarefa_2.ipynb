{
 "cells": [
  {
   "cell_type": "markdown",
   "metadata": {},
   "source": [
    "# Regressão Logística I\n",
    "## Tarefa II\n",
    "\n",
    "Vamos trabalhar com a mesma base do exercício anterior, mas vamos aprofundar um pouco mais a nossa regressão."
   ]
  },
  {
   "cell_type": "code",
   "execution_count": 71,
   "metadata": {
    "tags": []
   },
   "outputs": [],
   "source": [
    "import pandas as pd\n",
    "import seaborn as sns\n",
    "import matplotlib.pyplot as plt\n",
    "import numpy as np\n",
    "from sklearn.model_selection import train_test_split, GridSearchCV\n",
    "from sklearn.feature_selection import SelectFromModel\n",
    "from sklearn.preprocessing import StandardScaler, label_binarize\n",
    "from sklearn.metrics import classification_report, accuracy_score, roc_auc_score, roc_curve, auc\n",
    "from sklearn.linear_model import LogisticRegression\n",
    "import warnings\n",
    "\n",
    "import statsmodels.formula.api as smf"
   ]
  },
  {
   "cell_type": "code",
   "execution_count": 2,
   "metadata": {
    "tags": []
   },
   "outputs": [
    {
     "data": {
      "text/html": [
       "<div>\n",
       "<style scoped>\n",
       "    .dataframe tbody tr th:only-of-type {\n",
       "        vertical-align: middle;\n",
       "    }\n",
       "\n",
       "    .dataframe tbody tr th {\n",
       "        vertical-align: top;\n",
       "    }\n",
       "\n",
       "    .dataframe thead th {\n",
       "        text-align: right;\n",
       "    }\n",
       "</style>\n",
       "<table border=\"1\" class=\"dataframe\">\n",
       "  <thead>\n",
       "    <tr style=\"text-align: right;\">\n",
       "      <th></th>\n",
       "      <th>age</th>\n",
       "      <th>sex</th>\n",
       "      <th>cp</th>\n",
       "      <th>trestbps</th>\n",
       "      <th>chol</th>\n",
       "      <th>fbs</th>\n",
       "      <th>restecg</th>\n",
       "      <th>thalach</th>\n",
       "      <th>exang</th>\n",
       "      <th>oldpeak</th>\n",
       "      <th>slope</th>\n",
       "      <th>ca</th>\n",
       "      <th>thal</th>\n",
       "      <th>num</th>\n",
       "      <th>flag_doente</th>\n",
       "    </tr>\n",
       "  </thead>\n",
       "  <tbody>\n",
       "    <tr>\n",
       "      <th>0</th>\n",
       "      <td>63.0</td>\n",
       "      <td>1.0</td>\n",
       "      <td>1.0</td>\n",
       "      <td>145.0</td>\n",
       "      <td>233.0</td>\n",
       "      <td>1.0</td>\n",
       "      <td>2.0</td>\n",
       "      <td>150.0</td>\n",
       "      <td>0.0</td>\n",
       "      <td>2.3</td>\n",
       "      <td>3.0</td>\n",
       "      <td>0.0</td>\n",
       "      <td>6.0</td>\n",
       "      <td>0</td>\n",
       "      <td>0</td>\n",
       "    </tr>\n",
       "    <tr>\n",
       "      <th>1</th>\n",
       "      <td>67.0</td>\n",
       "      <td>1.0</td>\n",
       "      <td>4.0</td>\n",
       "      <td>160.0</td>\n",
       "      <td>286.0</td>\n",
       "      <td>0.0</td>\n",
       "      <td>2.0</td>\n",
       "      <td>108.0</td>\n",
       "      <td>1.0</td>\n",
       "      <td>1.5</td>\n",
       "      <td>2.0</td>\n",
       "      <td>3.0</td>\n",
       "      <td>3.0</td>\n",
       "      <td>2</td>\n",
       "      <td>1</td>\n",
       "    </tr>\n",
       "    <tr>\n",
       "      <th>2</th>\n",
       "      <td>67.0</td>\n",
       "      <td>1.0</td>\n",
       "      <td>4.0</td>\n",
       "      <td>120.0</td>\n",
       "      <td>229.0</td>\n",
       "      <td>0.0</td>\n",
       "      <td>2.0</td>\n",
       "      <td>129.0</td>\n",
       "      <td>1.0</td>\n",
       "      <td>2.6</td>\n",
       "      <td>2.0</td>\n",
       "      <td>2.0</td>\n",
       "      <td>7.0</td>\n",
       "      <td>1</td>\n",
       "      <td>1</td>\n",
       "    </tr>\n",
       "    <tr>\n",
       "      <th>3</th>\n",
       "      <td>37.0</td>\n",
       "      <td>1.0</td>\n",
       "      <td>3.0</td>\n",
       "      <td>130.0</td>\n",
       "      <td>250.0</td>\n",
       "      <td>0.0</td>\n",
       "      <td>0.0</td>\n",
       "      <td>187.0</td>\n",
       "      <td>0.0</td>\n",
       "      <td>3.5</td>\n",
       "      <td>3.0</td>\n",
       "      <td>0.0</td>\n",
       "      <td>3.0</td>\n",
       "      <td>0</td>\n",
       "      <td>0</td>\n",
       "    </tr>\n",
       "    <tr>\n",
       "      <th>4</th>\n",
       "      <td>41.0</td>\n",
       "      <td>0.0</td>\n",
       "      <td>2.0</td>\n",
       "      <td>130.0</td>\n",
       "      <td>204.0</td>\n",
       "      <td>0.0</td>\n",
       "      <td>2.0</td>\n",
       "      <td>172.0</td>\n",
       "      <td>0.0</td>\n",
       "      <td>1.4</td>\n",
       "      <td>1.0</td>\n",
       "      <td>0.0</td>\n",
       "      <td>3.0</td>\n",
       "      <td>0</td>\n",
       "      <td>0</td>\n",
       "    </tr>\n",
       "  </tbody>\n",
       "</table>\n",
       "</div>"
      ],
      "text/plain": [
       "    age  sex   cp  trestbps   chol  fbs  restecg  thalach  exang  oldpeak  \\\n",
       "0  63.0  1.0  1.0     145.0  233.0  1.0      2.0    150.0    0.0      2.3   \n",
       "1  67.0  1.0  4.0     160.0  286.0  0.0      2.0    108.0    1.0      1.5   \n",
       "2  67.0  1.0  4.0     120.0  229.0  0.0      2.0    129.0    1.0      2.6   \n",
       "3  37.0  1.0  3.0     130.0  250.0  0.0      0.0    187.0    0.0      3.5   \n",
       "4  41.0  0.0  2.0     130.0  204.0  0.0      2.0    172.0    0.0      1.4   \n",
       "\n",
       "   slope   ca thal  num  flag_doente  \n",
       "0    3.0  0.0  6.0    0            0  \n",
       "1    2.0  3.0  3.0    2            1  \n",
       "2    2.0  2.0  7.0    1            1  \n",
       "3    3.0  0.0  3.0    0            0  \n",
       "4    1.0  0.0  3.0    0            0  "
      ]
     },
     "execution_count": 2,
     "metadata": {},
     "output_type": "execute_result"
    }
   ],
   "source": [
    "url = 'https://archive.ics.uci.edu/ml/machine-learning-databases/heart-disease/processed.cleveland.data'\n",
    "\n",
    "df = pd.read_csv(url, \n",
    "                 names=['age', 'sex', 'cp', 'trestbps', 'chol', 'fbs', 'restecg',\n",
    "                        'thalach', 'exang', 'oldpeak', 'slope', 'ca', 'thal', 'num'])\n",
    "df['flag_doente'] = (df['num']!=0).astype('int64')\n",
    "df.head()"
   ]
  },
  {
   "cell_type": "code",
   "execution_count": 12,
   "metadata": {
    "tags": []
   },
   "outputs": [
    {
     "name": "stdout",
     "output_type": "stream",
     "text": [
      "Index(['age', 'trestbps', 'chol', 'fbs', 'restecg', 'thalach', 'exang',\n",
      "       'oldpeak', 'slope', 'ca', 'thal', 'num', 'flag_doente', 'age_group',\n",
      "       'categoria', 'sex_0.0', 'sex_1.0', 'cp_1.0', 'cp_2.0', 'cp_3.0',\n",
      "       'cp_4.0'],\n",
      "      dtype='object')\n"
     ]
    }
   ],
   "source": [
    "# Obter os nomes das colunas\n",
    "nomes_colunas = df.columns\n",
    "\n",
    "# Exibir os nomes das colunas\n",
    "print(nomes_colunas)"
   ]
  },
  {
   "cell_type": "markdown",
   "metadata": {},
   "source": [
    "A descrição das variáveis está recortada abaixo:\n",
    "- age: idade do paciente em anos\n",
    "- sex: sexo (1 = male; 0 = female)  \n",
    "- cp: tipo de dor no peito\n",
    "  - 1: angina típica\n",
    "  - 2: angina atípica\n",
    "  - 3: dor não-angina\n",
    "  - 4: assintomático\n",
    "- trestbps: pressão sanguínea em repouso (em mm Hg na admissão ao hospital\n",
    "- chol: colesterol sérico em mg/dl\n",
    "- fbs: (açúcar no sangue em jejum > 120 mg/dl) (1 = True; 0 = False)\n",
    "- restecg: resultados eletrocardiográficos em repouso\n",
    "  - 0: normal\n",
    "  - 1: tendo anormalidade da onda ST-T (Inversões de onda T e / ou ST com elevação ou depressão de > 0.05 mV)\n",
    "  - 2: mostrando hipertrofia ventricular esquerda provável ou definitiva pelos critérios de Estes\n",
    "- thalach: frequência cardíaca máxima alcançada\n",
    "- exang: angina induzida por exercício(1 = sim; 0 = não)\n",
    "- oldpeak = Depressão de ST induzida por exercício em relação ao repouso\n",
    "- slope: Depressão de ST induzida por exercício em relação ao repouso\n",
    "  - 1: inclinação ascendente\n",
    "  - 2: estável\n",
    "  - 3: inclinação descendente\n",
    "- ca: número de vasos principais (0-3) coloridos por fluorosopia\n",
    "- thal: 3 = normal; 6 = defeito corrigido; 7 = defeito reversível\n",
    "- num: diagnóstico de doença cardíaga (status de doença angiográfica)"
   ]
  },
  {
   "cell_type": "code",
   "execution_count": 3,
   "metadata": {
    "tags": []
   },
   "outputs": [
    {
     "data": {
      "text/html": [
       "<div>\n",
       "<style scoped>\n",
       "    .dataframe tbody tr th:only-of-type {\n",
       "        vertical-align: middle;\n",
       "    }\n",
       "\n",
       "    .dataframe tbody tr th {\n",
       "        vertical-align: top;\n",
       "    }\n",
       "\n",
       "    .dataframe thead th {\n",
       "        text-align: right;\n",
       "    }\n",
       "</style>\n",
       "<table border=\"1\" class=\"dataframe\">\n",
       "  <thead>\n",
       "    <tr style=\"text-align: right;\">\n",
       "      <th></th>\n",
       "      <th>age</th>\n",
       "      <th>sex</th>\n",
       "      <th>cp</th>\n",
       "      <th>trestbps</th>\n",
       "      <th>chol</th>\n",
       "      <th>fbs</th>\n",
       "      <th>restecg</th>\n",
       "      <th>thalach</th>\n",
       "      <th>exang</th>\n",
       "      <th>oldpeak</th>\n",
       "      <th>slope</th>\n",
       "      <th>ca</th>\n",
       "      <th>thal</th>\n",
       "      <th>num</th>\n",
       "      <th>flag_doente</th>\n",
       "    </tr>\n",
       "  </thead>\n",
       "  <tbody>\n",
       "    <tr>\n",
       "      <th>0</th>\n",
       "      <td>63.0</td>\n",
       "      <td>1.0</td>\n",
       "      <td>1.0</td>\n",
       "      <td>145.0</td>\n",
       "      <td>233.0</td>\n",
       "      <td>1.0</td>\n",
       "      <td>2.0</td>\n",
       "      <td>150.0</td>\n",
       "      <td>0.0</td>\n",
       "      <td>2.3</td>\n",
       "      <td>3.0</td>\n",
       "      <td>0.0</td>\n",
       "      <td>6.0</td>\n",
       "      <td>0</td>\n",
       "      <td>0</td>\n",
       "    </tr>\n",
       "    <tr>\n",
       "      <th>1</th>\n",
       "      <td>67.0</td>\n",
       "      <td>1.0</td>\n",
       "      <td>4.0</td>\n",
       "      <td>160.0</td>\n",
       "      <td>286.0</td>\n",
       "      <td>0.0</td>\n",
       "      <td>2.0</td>\n",
       "      <td>108.0</td>\n",
       "      <td>1.0</td>\n",
       "      <td>1.5</td>\n",
       "      <td>2.0</td>\n",
       "      <td>3.0</td>\n",
       "      <td>3.0</td>\n",
       "      <td>2</td>\n",
       "      <td>1</td>\n",
       "    </tr>\n",
       "    <tr>\n",
       "      <th>2</th>\n",
       "      <td>67.0</td>\n",
       "      <td>1.0</td>\n",
       "      <td>4.0</td>\n",
       "      <td>120.0</td>\n",
       "      <td>229.0</td>\n",
       "      <td>0.0</td>\n",
       "      <td>2.0</td>\n",
       "      <td>129.0</td>\n",
       "      <td>1.0</td>\n",
       "      <td>2.6</td>\n",
       "      <td>2.0</td>\n",
       "      <td>2.0</td>\n",
       "      <td>7.0</td>\n",
       "      <td>1</td>\n",
       "      <td>1</td>\n",
       "    </tr>\n",
       "    <tr>\n",
       "      <th>3</th>\n",
       "      <td>37.0</td>\n",
       "      <td>1.0</td>\n",
       "      <td>3.0</td>\n",
       "      <td>130.0</td>\n",
       "      <td>250.0</td>\n",
       "      <td>0.0</td>\n",
       "      <td>0.0</td>\n",
       "      <td>187.0</td>\n",
       "      <td>0.0</td>\n",
       "      <td>3.5</td>\n",
       "      <td>3.0</td>\n",
       "      <td>0.0</td>\n",
       "      <td>3.0</td>\n",
       "      <td>0</td>\n",
       "      <td>0</td>\n",
       "    </tr>\n",
       "    <tr>\n",
       "      <th>4</th>\n",
       "      <td>41.0</td>\n",
       "      <td>0.0</td>\n",
       "      <td>2.0</td>\n",
       "      <td>130.0</td>\n",
       "      <td>204.0</td>\n",
       "      <td>0.0</td>\n",
       "      <td>2.0</td>\n",
       "      <td>172.0</td>\n",
       "      <td>0.0</td>\n",
       "      <td>1.4</td>\n",
       "      <td>1.0</td>\n",
       "      <td>0.0</td>\n",
       "      <td>3.0</td>\n",
       "      <td>0</td>\n",
       "      <td>0</td>\n",
       "    </tr>\n",
       "    <tr>\n",
       "      <th>...</th>\n",
       "      <td>...</td>\n",
       "      <td>...</td>\n",
       "      <td>...</td>\n",
       "      <td>...</td>\n",
       "      <td>...</td>\n",
       "      <td>...</td>\n",
       "      <td>...</td>\n",
       "      <td>...</td>\n",
       "      <td>...</td>\n",
       "      <td>...</td>\n",
       "      <td>...</td>\n",
       "      <td>...</td>\n",
       "      <td>...</td>\n",
       "      <td>...</td>\n",
       "      <td>...</td>\n",
       "    </tr>\n",
       "    <tr>\n",
       "      <th>298</th>\n",
       "      <td>45.0</td>\n",
       "      <td>1.0</td>\n",
       "      <td>1.0</td>\n",
       "      <td>110.0</td>\n",
       "      <td>264.0</td>\n",
       "      <td>0.0</td>\n",
       "      <td>0.0</td>\n",
       "      <td>132.0</td>\n",
       "      <td>0.0</td>\n",
       "      <td>1.2</td>\n",
       "      <td>2.0</td>\n",
       "      <td>0.0</td>\n",
       "      <td>7.0</td>\n",
       "      <td>1</td>\n",
       "      <td>1</td>\n",
       "    </tr>\n",
       "    <tr>\n",
       "      <th>299</th>\n",
       "      <td>68.0</td>\n",
       "      <td>1.0</td>\n",
       "      <td>4.0</td>\n",
       "      <td>144.0</td>\n",
       "      <td>193.0</td>\n",
       "      <td>1.0</td>\n",
       "      <td>0.0</td>\n",
       "      <td>141.0</td>\n",
       "      <td>0.0</td>\n",
       "      <td>3.4</td>\n",
       "      <td>2.0</td>\n",
       "      <td>2.0</td>\n",
       "      <td>7.0</td>\n",
       "      <td>2</td>\n",
       "      <td>1</td>\n",
       "    </tr>\n",
       "    <tr>\n",
       "      <th>300</th>\n",
       "      <td>57.0</td>\n",
       "      <td>1.0</td>\n",
       "      <td>4.0</td>\n",
       "      <td>130.0</td>\n",
       "      <td>131.0</td>\n",
       "      <td>0.0</td>\n",
       "      <td>0.0</td>\n",
       "      <td>115.0</td>\n",
       "      <td>1.0</td>\n",
       "      <td>1.2</td>\n",
       "      <td>2.0</td>\n",
       "      <td>1.0</td>\n",
       "      <td>7.0</td>\n",
       "      <td>3</td>\n",
       "      <td>1</td>\n",
       "    </tr>\n",
       "    <tr>\n",
       "      <th>301</th>\n",
       "      <td>57.0</td>\n",
       "      <td>0.0</td>\n",
       "      <td>2.0</td>\n",
       "      <td>130.0</td>\n",
       "      <td>236.0</td>\n",
       "      <td>0.0</td>\n",
       "      <td>2.0</td>\n",
       "      <td>174.0</td>\n",
       "      <td>0.0</td>\n",
       "      <td>0.0</td>\n",
       "      <td>2.0</td>\n",
       "      <td>1.0</td>\n",
       "      <td>3.0</td>\n",
       "      <td>1</td>\n",
       "      <td>1</td>\n",
       "    </tr>\n",
       "    <tr>\n",
       "      <th>302</th>\n",
       "      <td>38.0</td>\n",
       "      <td>1.0</td>\n",
       "      <td>3.0</td>\n",
       "      <td>138.0</td>\n",
       "      <td>175.0</td>\n",
       "      <td>0.0</td>\n",
       "      <td>0.0</td>\n",
       "      <td>173.0</td>\n",
       "      <td>0.0</td>\n",
       "      <td>0.0</td>\n",
       "      <td>1.0</td>\n",
       "      <td>?</td>\n",
       "      <td>3.0</td>\n",
       "      <td>0</td>\n",
       "      <td>0</td>\n",
       "    </tr>\n",
       "  </tbody>\n",
       "</table>\n",
       "<p>303 rows × 15 columns</p>\n",
       "</div>"
      ],
      "text/plain": [
       "      age  sex   cp  trestbps   chol  fbs  restecg  thalach  exang  oldpeak  \\\n",
       "0    63.0  1.0  1.0     145.0  233.0  1.0      2.0    150.0    0.0      2.3   \n",
       "1    67.0  1.0  4.0     160.0  286.0  0.0      2.0    108.0    1.0      1.5   \n",
       "2    67.0  1.0  4.0     120.0  229.0  0.0      2.0    129.0    1.0      2.6   \n",
       "3    37.0  1.0  3.0     130.0  250.0  0.0      0.0    187.0    0.0      3.5   \n",
       "4    41.0  0.0  2.0     130.0  204.0  0.0      2.0    172.0    0.0      1.4   \n",
       "..    ...  ...  ...       ...    ...  ...      ...      ...    ...      ...   \n",
       "298  45.0  1.0  1.0     110.0  264.0  0.0      0.0    132.0    0.0      1.2   \n",
       "299  68.0  1.0  4.0     144.0  193.0  1.0      0.0    141.0    0.0      3.4   \n",
       "300  57.0  1.0  4.0     130.0  131.0  0.0      0.0    115.0    1.0      1.2   \n",
       "301  57.0  0.0  2.0     130.0  236.0  0.0      2.0    174.0    0.0      0.0   \n",
       "302  38.0  1.0  3.0     138.0  175.0  0.0      0.0    173.0    0.0      0.0   \n",
       "\n",
       "     slope   ca thal  num  flag_doente  \n",
       "0      3.0  0.0  6.0    0            0  \n",
       "1      2.0  3.0  3.0    2            1  \n",
       "2      2.0  2.0  7.0    1            1  \n",
       "3      3.0  0.0  3.0    0            0  \n",
       "4      1.0  0.0  3.0    0            0  \n",
       "..     ...  ...  ...  ...          ...  \n",
       "298    2.0  0.0  7.0    1            1  \n",
       "299    2.0  2.0  7.0    2            1  \n",
       "300    2.0  1.0  7.0    3            1  \n",
       "301    2.0  1.0  3.0    1            1  \n",
       "302    1.0    ?  3.0    0            0  \n",
       "\n",
       "[303 rows x 15 columns]"
      ]
     },
     "execution_count": 3,
     "metadata": {},
     "output_type": "execute_result"
    }
   ],
   "source": [
    "df['flag_doente'] = (df['num'] != 0).astype('int64')\n",
    "df"
   ]
  },
  {
   "cell_type": "code",
   "execution_count": 4,
   "metadata": {
    "tags": []
   },
   "outputs": [
    {
     "name": "stdout",
     "output_type": "stream",
     "text": [
      "     Healthy  Sick  Total  Mean Sick      Odds  Odds Ratio    Logit      WOE\n",
      "sex                                                                         \n",
      "0.0       72    25     97   0.257732  0.347222    0.280214 -1.05779 -1.05779\n",
      "1.0       92   114    206   0.553398  1.239130    1.000000  0.21441  0.21441\n"
     ]
    }
   ],
   "source": [
    "# Calculando o número de saudáveis e doentes para cada categoria de sexo\n",
    "healthy_counts = df[df['num'] == 0].groupby('sex').size()\n",
    "sick_counts = df[df['num'] > 0].groupby('sex').size()\n",
    "\n",
    "# Calculando o total de indivíduos para cada categoria de sexo\n",
    "total_counts = df.groupby('sex').size()\n",
    "\n",
    "# Calculando a quantidade média de doentes para cada categoria de sexo\n",
    "mean_sick = sick_counts / total_counts\n",
    "\n",
    "# Calculando a Odds (razão de chances) para cada categoria de sexo\n",
    "odds = sick_counts / healthy_counts\n",
    "\n",
    "# Calculando o Odds ratio em relação ao sexo masculino \n",
    "odds_ratio = odds / odds[1]\n",
    "\n",
    "# Calculando o logito (LOG(Odds)) para cada categoria de sexo\n",
    "logit = odds.apply(lambda x: np.log(x))\n",
    "\n",
    "# Calculando o WOE (Weight of Evidence) para cada categoria de sexo\n",
    "woe = logit - np.log(odds_ratio[1])\n",
    "\n",
    "# Exibindo os resultados\n",
    "results = pd.DataFrame({'Healthy': healthy_counts,\n",
    "                        'Sick': sick_counts,\n",
    "                        'Total': total_counts,\n",
    "                        'Mean Sick': mean_sick,\n",
    "                        'Odds': odds,\n",
    "                        'Odds Ratio': odds_ratio,\n",
    "                        'Logit': logit,\n",
    "                        'WOE': woe})\n",
    "print(results)"
   ]
  },
  {
   "cell_type": "code",
   "execution_count": 5,
   "metadata": {
    "tags": []
   },
   "outputs": [
    {
     "name": "stdout",
     "output_type": "stream",
     "text": [
      "                Total  Sick   Mean Age  Probability  Odds Ratio     Logit  \\\n",
      "age_group                                                                   \n",
      "(28.952, 38.6]     11     6  35.181818     0.545455    0.581946 -0.606136   \n",
      "(38.6, 48.2]       71    38  43.704225     0.535211    0.571018 -0.625094   \n",
      "(48.2, 57.8]       97    84  53.567010     0.865979    0.923915 -0.143894   \n",
      "(57.8, 67.4]      107   137  61.775701     1.280374    1.366033  0.247152   \n",
      "(67.4, 77.0]       17    19  70.529412     1.117647    1.192419  0.111226   \n",
      "\n",
      "                     WOE  \n",
      "age_group                 \n",
      "(28.952, 38.6] -0.064759  \n",
      "(38.6, 48.2]   -0.064759  \n",
      "(48.2, 57.8]   -0.064759  \n",
      "(57.8, 67.4]   -0.064759  \n",
      "(67.4, 77.0]   -0.064759  \n"
     ]
    },
    {
     "name": "stderr",
     "output_type": "stream",
     "text": [
      "C:\\Users\\Donegá\\AppData\\Local\\Temp\\ipykernel_19064\\954728229.py:5: FutureWarning: The default of observed=False is deprecated and will be changed to True in a future version of pandas. Pass observed=False to retain current behavior or observed=True to adopt the future default and silence this warning.\n",
      "  group_stats = df.groupby('age_group').agg({'num': ['count', 'sum'], 'age': 'mean'})\n"
     ]
    }
   ],
   "source": [
    "# Categorizando a variável 'age' em 5 grupos\n",
    "df['age_group'] = pd.cut(df['age'], bins=5)\n",
    "\n",
    "# Calculando as estatísticas para cada grupo\n",
    "group_stats = df.groupby('age_group').agg({'num': ['count', 'sum'], 'age': 'mean'})\n",
    "\n",
    "# Renomeando as colunas para facilitar a interpretação\n",
    "group_stats.columns = ['Total', 'Sick', 'Mean Age']\n",
    "\n",
    "# Calculando as médias das estatísticas\n",
    "total_mean_age = df['age'].mean()\n",
    "total_mean_sick = df['num'].sum() / len(df)\n",
    "\n",
    "# Calculando a probabilidade para cada grupo\n",
    "group_stats['Probability'] = group_stats['Sick'] / group_stats['Total']\n",
    "\n",
    "# Filtrando valores que causam RuntimeWarning ao calcular o logaritmo\n",
    "group_stats_filtered = group_stats[group_stats['Probability'] > 0]\n",
    "\n",
    "# Calculando o Odds ratio em relação ao grupo de idade média (referência)\n",
    "group_stats_filtered['Odds Ratio'] = group_stats_filtered['Probability'] / total_mean_sick\n",
    "\n",
    "# Calculando o logito (LOG(Odds)) para cada grupo\n",
    "with np.errstate(divide='ignore'):  # Suprimindo os avisos de RuntimeWarning\n",
    "    group_stats_filtered['Logit'] = group_stats_filtered['Probability'].apply(lambda x: np.log(x))\n",
    "\n",
    "# Calculando o WOE (Weight of Evidence) para cada grupo\n",
    "group_stats_filtered['WOE'] = group_stats_filtered['Logit'] - np.log(group_stats_filtered['Odds Ratio'])\n",
    "\n",
    "# Exibindo os resultados\n",
    "print(group_stats_filtered)"
   ]
  },
  {
   "cell_type": "code",
   "execution_count": null,
   "metadata": {},
   "outputs": [],
   "source": []
  },
  {
   "cell_type": "markdown",
   "metadata": {},
   "source": [
    "1. Considere o script que monta a análise bivariada que você fez na tarefa anterior. Transforme esse script em uma função, que deve:\n",
    "- Ter como parâmetros de entrada:\n",
    "    - Um *dataframe* contendo os dados a serem avaliados\n",
    "    - Um *string* contendo o nome da variável resposta\n",
    "    - Um *string* contendo o nome da variável explicativa\n",
    "- E deve retornar um *dataframe* com os dados da bivariada. \n",
    "**Monte** a mesma bivariada pelo menos três variáveis qualitativas do *data-frame*. Qual delas parece discriminar mais o risco?"
   ]
  },
  {
   "cell_type": "code",
   "execution_count": 8,
   "metadata": {
    "tags": []
   },
   "outputs": [
    {
     "name": "stdout",
     "output_type": "stream",
     "text": [
      "Análise bivariada para a variável 'sex':\n",
      "  Variável  Categoria  Contagem  Porcentagem  Média Resposta\n",
      "0      sex        1.0       206    67.986799        1.126214\n",
      "1      sex        0.0        97    32.013201        0.536082\n",
      "\n",
      "\n",
      "Análise bivariada para a variável 'cp':\n",
      "  Variável  Categoria  Contagem  Porcentagem  Média Resposta\n",
      "0       cp        1.0        23     7.590759        0.478261\n",
      "1       cp        4.0       144    47.524752        1.569444\n",
      "2       cp        3.0        86    28.382838        0.383721\n",
      "3       cp        2.0        50    16.501650        0.280000\n",
      "\n",
      "\n",
      "Análise bivariada para a variável 'fbs':\n",
      "  Variável  Categoria  Contagem  Porcentagem  Média Resposta\n",
      "0      fbs        1.0        45    14.851485        1.111111\n",
      "1      fbs        0.0       258    85.148515        0.906977\n",
      "\n",
      "\n"
     ]
    }
   ],
   "source": [
    "def analise_bivariada(df, variavel_resposta, variavel_explicativa):\n",
    "    # Inicializando uma lista para armazenar os resultados\n",
    "    lista_bivariada = []\n",
    "    \n",
    "    # Calculando as estatísticas para cada categoria da variável explicativa\n",
    "    for categoria in df[variavel_explicativa].unique():\n",
    "        # Subconjunto de dados para a categoria atual\n",
    "        subset = df[df[variavel_explicativa] == categoria]\n",
    "        \n",
    "        # Contagem de observações na categoria atual\n",
    "        contagem = len(subset)\n",
    "        \n",
    "        # Porcentagem de observações na categoria atual\n",
    "        porcentagem = contagem / len(df) * 100\n",
    "        \n",
    "        # Média da variável resposta na categoria atual\n",
    "        media_resposta = subset[variavel_resposta].mean()\n",
    "        \n",
    "        # Adicionando as estatísticas à lista de resultados\n",
    "        lista_bivariada.append({'Variável': variavel_explicativa,\n",
    "                                'Categoria': categoria,\n",
    "                                'Contagem': contagem,\n",
    "                                'Porcentagem': porcentagem,\n",
    "                                'Média Resposta': media_resposta})\n",
    "    \n",
    "    # Convertendo a lista de resultados em um DataFrame\n",
    "    df_bivariada = pd.DataFrame(lista_bivariada)\n",
    "    \n",
    "    return df_bivariada\n",
    "\n",
    "variaveis_explicativas = ['sex', 'cp', 'fbs']\n",
    "\n",
    "for var in variaveis_explicativas:\n",
    "    print(f\"Análise bivariada para a variável '{var}':\")\n",
    "    resultado_analise = analise_bivariada(df, 'num', var)\n",
    "    print(resultado_analise)\n",
    "    print('\\n')"
   ]
  },
  {
   "cell_type": "markdown",
   "metadata": {},
   "source": [
    "2. Monte uma função semelhante para categorizar variáveis quantitativas contínuas (com muitas categorias) como ```age```.  \n",
    "    Além dos mesmos parâmetros da função anterior, defina mais um parâmetro como número de categorias que você deseja quebrar. Defina um valor '*default*' de 5 grupos para este parâmetro.  "
   ]
  },
  {
   "cell_type": "code",
   "execution_count": 9,
   "metadata": {
    "tags": []
   },
   "outputs": [
    {
     "name": "stdout",
     "output_type": "stream",
     "text": [
      "Análise bivariada para a variável 'age':\n",
      "  Variável       Categoria  Contagem  Porcentagem  Média Resposta\n",
      "0      age    (57.8, 67.4]       107    35.313531        1.280374\n",
      "1      age  (28.952, 38.6]        11     3.630363        0.545455\n",
      "2      age    (38.6, 48.2]        71    23.432343        0.535211\n",
      "3      age    (48.2, 57.8]        97    32.013201        0.865979\n",
      "4      age    (67.4, 77.0]        17     5.610561        1.117647\n"
     ]
    }
   ],
   "source": [
    "def analise_bivariada(df, variavel_resposta, variavel_explicativa, num_categorias=5):\n",
    "    # Inicializando uma lista para armazenar os resultados\n",
    "    lista_bivariada = []\n",
    "    \n",
    "    # Criando categorias para a variável explicativa\n",
    "    df['categoria'] = pd.cut(df[variavel_explicativa], bins=num_categorias)\n",
    "    \n",
    "    # Calculando as estatísticas para cada categoria da variável explicativa\n",
    "    for categoria in df['categoria'].unique():\n",
    "        # Subconjunto de dados para a categoria atual\n",
    "        subset = df[df['categoria'] == categoria]\n",
    "        \n",
    "        # Contando as observações na categoria atual\n",
    "        contagem = len(subset)\n",
    "        \n",
    "        # Porcentagem de observações na categoria atual\n",
    "        porcentagem = contagem / len(df) * 100\n",
    "        \n",
    "        # Média da variável resposta na categoria atual\n",
    "        media_resposta = subset[variavel_resposta].mean()\n",
    "        \n",
    "        # Adicionando as estatísticas à lista de resultados\n",
    "        lista_bivariada.append({'Variável': variavel_explicativa,\n",
    "                                'Categoria': categoria,\n",
    "                                'Contagem': contagem,\n",
    "                                'Porcentagem': porcentagem,\n",
    "                                'Média Resposta': media_resposta})\n",
    "    \n",
    "    # Convertendo a lista de resultados em um DataFrame\n",
    "    df_bivariada = pd.DataFrame(lista_bivariada)\n",
    "    \n",
    "    return df_bivariada\n",
    "\n",
    "resultado_analise_age = analise_bivariada(df, 'num', 'age', num_categorias=5)\n",
    "print(\"Análise bivariada para a variável 'age':\")\n",
    "print(resultado_analise_age)"
   ]
  },
  {
   "cell_type": "markdown",
   "metadata": {},
   "source": [
    "3. Construa um modelo de regressão logística com as variáveis qualitativas: ```sex + cp +  trestbps``` e com a variável quantitativa ```age```.\n",
    "\n",
    "**Interprete os parâmetros.**"
   ]
  },
  {
   "cell_type": "code",
   "execution_count": 24,
   "metadata": {
    "tags": []
   },
   "outputs": [
    {
     "name": "stdout",
     "output_type": "stream",
     "text": [
      "              precision    recall  f1-score   support\n",
      "\n",
      "           0       0.68      0.86      0.76        29\n",
      "           1       0.14      0.08      0.11        12\n",
      "           2       0.14      0.11      0.12         9\n",
      "           3       0.00      0.00      0.00         7\n",
      "           4       1.00      0.00      0.00         4\n",
      "\n",
      "    accuracy                           0.44        61\n",
      "   macro avg       0.39      0.21      0.20        61\n",
      "weighted avg       0.44      0.44      0.40        61\n",
      "\n"
     ]
    }
   ],
   "source": [
    "# Separando as variáveis independentes (X) e a variável dependente (y)\n",
    "X = df[['age', 'trestbps', 'sex_1.0', 'cp_1.0', 'cp_2.0', 'cp_3.0', 'cp_4.0']]\n",
    "y = df['num']\n",
    "\n",
    "# Dividindo o conjunto de dados em conjunto de treinamento e conjunto de teste\n",
    "X_train, X_test, y_train, y_test = train_test_split(X, y, test_size=0.2, random_state=42)\n",
    "\n",
    "# Padronizando as variáveis independentes\n",
    "scaler = StandardScaler()\n",
    "X_train_scaled = scaler.fit_transform(X_train)\n",
    "X_test_scaled = scaler.transform(X_test)\n",
    "\n",
    "# Construindo o modelo de regressão logística\n",
    "model = LogisticRegression()\n",
    "model.fit(X_train_scaled, y_train)\n",
    "\n",
    "# Avaliando o modelo\n",
    "y_pred = model.predict(X_test_scaled)\n",
    "print(classification_report(y_test, y_pred, zero_division=1))"
   ]
  },
  {
   "cell_type": "markdown",
   "metadata": {},
   "source": [
    "\n",
    "Interpretação:\n",
    "\n",
    "Para cada coeficiente estimado, podemos interpretá-lo como o efeito médio que uma unidade de mudança na variável independente tem sobre a log-odds da variável dependente (ou seja, a chance de um evento ocorrer):\n",
    "\n",
    "Para as variáveis 'cp_1', 'cp_2', 'cp_3' e 'cp_4', que representam os diferentes tipos de dor no peito, os coeficientes estimados indicam o efeito da presença de cada tipo de dor no peito na log-odds do evento ocorrer, em comparação com a ausência de dor no peito (referência).\n",
    "\n",
    "Para as variáveis 'sex_0' e 'sex_1', onde 'sex_0' representa o sexo feminino e 'sex_1' representa o sexo masculino, os coeficientes estimados indicam o efeito da mudança de sexo de feminino para masculino na log-odds do evento ocorrer, mantendo todas as outras variáveis constantes.\n",
    "\n",
    "Os coeficientes para 'age' e 'trestbps' indicam o efeito médio de um aumento de uma unidade nessas variáveis na log-odds do evento ocorrer, mantendo todas as outras variáveis constantes."
   ]
  },
  {
   "cell_type": "markdown",
   "metadata": {},
   "source": [
    "4. Avalie o seu modelo quanto a **calibragem**:\n",
    "- Calcule a probabilidade de evento predita segundo o seu modelo\n",
    "- Categorize essa probabilidade em G=5 grupos\n",
    "- Calcule a probabilidade de evento predita média por grupo\n",
    "- Calcule a taxa de eventos (média da variável indicadora de eventos) por grupo\n",
    "- Compare graficamente o valor eperado versus observado para a taxa de maus por grupo"
   ]
  },
  {
   "cell_type": "code",
   "execution_count": 26,
   "metadata": {
    "tags": []
   },
   "outputs": [
    {
     "data": {
      "image/png": "[encoded data removed]",
      "text/plain": [
       "<Figure size 640x480 with 1 Axes>"
      ]
     },
     "metadata": {},
     "output_type": "display_data"
    }
   ],
   "source": [
    "# Calculando a probabilidade de evento predita\n",
    "predicted_proba = model.predict_proba(X_test_scaled)[:, 1]\n",
    "\n",
    "# Categorizando as probabilidades em grupos\n",
    "prob_categories = pd.cut(predicted_proba, bins=5, labels=['G1', 'G2', 'G3', 'G4', 'G5'])\n",
    "\n",
    "# Criando um DataFrame para armazenar as informações\n",
    "calibration_df = pd.DataFrame({'Predicted_Probability': predicted_proba, 'Prob_Category': prob_categories, 'Actual_Event': y_test})\n",
    "\n",
    "# Calculando a probabilidade de evento predita média por grupo\n",
    "group_means = calibration_df.groupby('Prob_Category', observed=True)['Predicted_Probability'].mean()\n",
    "\n",
    "# Calculando a taxa de eventos por grupo\n",
    "event_rates = calibration_df.groupby('Prob_Category', observed=True)['Actual_Event'].mean()\n",
    "\n",
    "# Plotando o valor esperado versus observado para a taxa de eventos por grupo\n",
    "plt.plot(group_means, event_rates, marker='o', linestyle='-')\n",
    "plt.xlabel('Probabilidade de Evento Predita Média')\n",
    "plt.ylabel('Taxa de Eventos Observada')\n",
    "plt.title('Calibragem do Modelo')\n",
    "plt.grid(True)\n",
    "plt.show()"
   ]
  },
  {
   "cell_type": "markdown",
   "metadata": {},
   "source": [
    "5. Avalie o seu modelo quanto a discriminação calculando acurácia, GINI e KS."
   ]
  },
  {
   "cell_type": "code",
   "execution_count": 45,
   "metadata": {
    "tags": []
   },
   "outputs": [
    {
     "name": "stderr",
     "output_type": "stream",
     "text": [
      "C:\\Users\\Donegá\\AppData\\Roaming\\Python\\Python311\\site-packages\\sklearn\\linear_model\\_logistic.py:469: ConvergenceWarning: lbfgs failed to converge (status=1):\n",
      "STOP: TOTAL NO. of ITERATIONS REACHED LIMIT.\n",
      "\n",
      "Increase the number of iterations (max_iter) or scale the data as shown in:\n",
      "    https://scikit-learn.org/stable/modules/preprocessing.html\n",
      "Please also refer to the documentation for alternative solver options:\n",
      "    https://scikit-learn.org/stable/modules/linear_model.html#logistic-regression\n",
      "  n_iter_i = _check_optimize_result(\n"
     ]
    }
   ],
   "source": [
    "# Definindo as variáveis independentes (X) e a variável dependente (y)\n",
    "X = df[['age', 'trestbps', 'sex_0.0', 'sex_1.0', 'cp_1.0', 'cp_2.0', 'cp_3.0', 'cp_4.0']]\n",
    "y = df['num']\n",
    "\n",
    "# Dividindo os dados em conjunto de treinamento e teste\n",
    "X_train, X_test, y_train, y_test = train_test_split(X, y, test_size=0.2, random_state=42)\n",
    "\n",
    "# Treinando um modelo de regressão logística\n",
    "modelo_logistico = LogisticRegression(max_iter=1000)  # Aumente o número máximo de iterações\n",
    "modelo_logistico.fit(X_train, y_train)\n",
    "\n",
    "# Fazendo previsões nos dados de teste\n",
    "predicted_proba = modelo_logistico.predict_proba(X_test)[:, 1]\n",
    "predicted_labels = modelo_logistico.predict(X_test)"
   ]
  },
  {
   "cell_type": "code",
   "execution_count": 57,
   "metadata": {
    "tags": []
   },
   "outputs": [
    {
     "name": "stdout",
     "output_type": "stream",
     "text": [
      "Acurácia: 0.45901639344262296\n"
     ]
    }
   ],
   "source": [
    "accuracy = accuracy_score(y_test, predicted_labels)\n",
    "print(\"Acurácia:\", accuracy)"
   ]
  },
  {
   "cell_type": "code",
   "execution_count": 56,
   "metadata": {
    "tags": []
   },
   "outputs": [
    {
     "name": "stdout",
     "output_type": "stream",
     "text": [
      "Índice de Gini médio: 0.1588496893785978\n"
     ]
    }
   ],
   "source": [
    "# Calculando o índice de Gini para cada classe individualmente\n",
    "gini_scores = []\n",
    "for i in range(num_classes):\n",
    "    class_proba = predicted_proba\n",
    "    class_labels = (y_test == i).astype(int)  # Transformar em binário\n",
    "    gini_score = 2 * roc_auc_score(class_labels, class_proba) - 1\n",
    "    gini_scores.append(gini_score)\n",
    "\n",
    "# Calculando o Gini médio\n",
    "gini_mean = np.mean(gini_scores)\n",
    "\n",
    "print(\"Índice de Gini médio:\", gini_mean)"
   ]
  },
  {
   "cell_type": "code",
   "execution_count": 62,
   "metadata": {
    "tags": []
   },
   "outputs": [
    {
     "name": "stdout",
     "output_type": "stream",
     "text": [
      "KS médio: 0.3140913358456138\n"
     ]
    }
   ],
   "source": [
    "# Calculando o KS para cada classe individualmente\n",
    "ks_list = []\n",
    "for i in range(num_classes):\n",
    "    y_test_bin = (y_test == i).astype(int)  # Transformar em binário\n",
    "    fpr, tpr, thresholds = roc_curve(y_test_bin, predicted_proba)\n",
    "    ks = np.max(tpr - fpr)\n",
    "    ks_list.append(ks)\n",
    "\n",
    "# Calculando o KS médio\n",
    "ks_mean = np.mean(ks_list)\n",
    "\n",
    "print(\"KS médio:\", ks_mean)"
   ]
  },
  {
   "cell_type": "markdown",
   "metadata": {},
   "source": [
    "6. tente melhorar o modelo obtido, por exemplo inserindo ou removendo variáveis.  \n",
    "    Avalie as características do seu modelo (calibragem e acurácia)."
   ]
  },
  {
   "cell_type": "code",
   "execution_count": 66,
   "metadata": {
    "tags": []
   },
   "outputs": [
    {
     "name": "stdout",
     "output_type": "stream",
     "text": [
      "Índice de Gini para cada classe: [0.4558189655172413, 0.003401360544217802, 0.05341880341880345, -0.16666666666666663, 0.0]\n",
      "Índice de Gini médio: 0.06919449256271919\n"
     ]
    }
   ],
   "source": [
    "num_classes = len(np.unique(y_test))\n",
    "predicted_proba_binary = np.zeros((len(y_test), num_classes))\n",
    "for i in range(num_classes):\n",
    "    predicted_proba_binary[:, i] = (predicted_labels_reduced == i).astype(int)\n",
    "\n",
    "# Calculando o índice de Gini para cada classe individualmente\n",
    "gini_scores = []\n",
    "for i in range(num_classes):\n",
    "    class_proba = predicted_proba_binary[:, i]\n",
    "    class_labels = (y_test == i).astype(int)  # Transformar em binário\n",
    "    gini_score = 2 * roc_auc_score(class_labels, class_proba) - 1\n",
    "    gini_scores.append(gini_score)\n",
    "\n",
    "# Calculando o índice de Gini médio\n",
    "gini_average = np.mean(gini_scores)\n",
    "\n",
    "print(\"Índice de Gini para cada classe:\", gini_scores)\n",
    "print(\"Índice de Gini médio:\", gini_average)"
   ]
  },
  {
   "cell_type": "code",
   "execution_count": 73,
   "metadata": {
    "tags": []
   },
   "outputs": [
    {
     "name": "stdout",
     "output_type": "stream",
     "text": [
      "Área sob a curva ROC para cada classe: [0.7279094827586207, 0.5017006802721089, 0.5267094017094017, 0.4166666666666667, 0.5]\n",
      "Média da área sob a curva ROC: 0.5345972462813595\n"
     ]
    }
   ],
   "source": [
    "# Calcular a área sob a curva ROC para cada classe individualmente\n",
    "roc_auc_scores = []\n",
    "for i in range(num_classes):\n",
    "    class_labels = (y_test == i).astype(int)  # Transformar em binário\n",
    "    roc_auc = roc_auc_score(class_labels, predicted_proba_binary[:, i])\n",
    "    roc_auc_scores.append(roc_auc)\n",
    "\n",
    "# Calculando a média das áreas sob a curva ROC\n",
    "mean_roc_auc = np.mean(roc_auc_scores)\n",
    "\n",
    "print(\"Área sob a curva ROC para cada classe:\", roc_auc_scores)\n",
    "print(\"Média da área sob a curva ROC:\", mean_roc_auc)"
   ]
  },
  {
   "cell_type": "code",
   "execution_count": 80,
   "metadata": {
    "tags": []
   },
   "outputs": [
    {
     "name": "stdout",
     "output_type": "stream",
     "text": [
      "Área sob a curva ROC média micro: 0.7696183821553346\n",
      "Acurácia após ajuste de hiperparâmetros: 0.5409836065573771\n",
      "Índice de Gini após ajuste de hiperparâmetros: 0.5882827196990057\n"
     ]
    },
    {
     "name": "stderr",
     "output_type": "stream",
     "text": [
      "C:\\Users\\Donegá\\AppData\\Roaming\\Python\\Python311\\site-packages\\sklearn\\linear_model\\_logistic.py:469: ConvergenceWarning: lbfgs failed to converge (status=1):\n",
      "STOP: TOTAL NO. of ITERATIONS REACHED LIMIT.\n",
      "\n",
      "Increase the number of iterations (max_iter) or scale the data as shown in:\n",
      "    https://scikit-learn.org/stable/modules/preprocessing.html\n",
      "Please also refer to the documentation for alternative solver options:\n",
      "    https://scikit-learn.org/stable/modules/linear_model.html#logistic-regression\n",
      "  n_iter_i = _check_optimize_result(\n",
      "C:\\Users\\Donegá\\AppData\\Roaming\\Python\\Python311\\site-packages\\sklearn\\linear_model\\_logistic.py:469: ConvergenceWarning: lbfgs failed to converge (status=1):\n",
      "STOP: TOTAL NO. of ITERATIONS REACHED LIMIT.\n",
      "\n",
      "Increase the number of iterations (max_iter) or scale the data as shown in:\n",
      "    https://scikit-learn.org/stable/modules/preprocessing.html\n",
      "Please also refer to the documentation for alternative solver options:\n",
      "    https://scikit-learn.org/stable/modules/linear_model.html#logistic-regression\n",
      "  n_iter_i = _check_optimize_result(\n"
     ]
    }
   ],
   "source": [
    "# Ajustando o modelo de regressão logística\n",
    "modelo_logistico_reduced = LogisticRegression(max_iter=1000)\n",
    "modelo_logistico_reduced.fit(X_train, y_train)\n",
    "\n",
    "# Fazendo previsões com o modelo ajustado\n",
    "predicted_labels_reduced = modelo_logistico_reduced.predict(X_test)\n",
    "predicted_proba_reduced = modelo_logistico_reduced.predict_proba(X_test)\n",
    "\n",
    "# Calculando a métrica ROC-AUC média micro\n",
    "roc_auc_micro = roc_auc_score(y_test, predicted_proba_reduced, multi_class='ovr', average='micro')\n",
    "\n",
    "print(\"Área sob a curva ROC média micro:\", roc_auc_micro)\n",
    "\n",
    "# Analisando a importância das variáveis utilizando coeficientes de regressão logística\n",
    "selector = SelectFromModel(modelo_logistico_reduced)\n",
    "selector.fit(X_train, y_train)\n",
    "\n",
    "# Obtendo as variáveis selecionadas\n",
    "selected_features = X_train.columns[selector.get_support()]\n",
    "\n",
    "# Removendo as variáveis menos importantes\n",
    "X_train_reduced = X_train[selected_features]\n",
    "X_test_reduced = X_test[selected_features]\n",
    "\n",
    "# Treinando o modelo com as variáveis reduzidas\n",
    "modelo_logistico_tuned = LogisticRegression(max_iter=1000)\n",
    "modelo_logistico_tuned.fit(X_train_reduced, y_train)\n",
    "\n",
    "# Fazendo previsões com o modelo ajustado\n",
    "predicted_labels_tuned = modelo_logistico_tuned.predict(X_test_reduced)\n",
    "predicted_proba_tuned = modelo_logistico_tuned.predict_proba(X_test_reduced)\n",
    "\n",
    "# Calculando métricas de desempenho\n",
    "accuracy_tuned = accuracy_score(y_test, predicted_labels_tuned)\n",
    "gini_tuned = 2 * roc_auc_score(y_test, predicted_proba_tuned, multi_class='ovr', average='micro') - 1\n",
    "\n",
    "print(\"Acurácia após ajuste de hiperparâmetros:\", accuracy_tuned)\n",
    "print(\"Índice de Gini após ajuste de hiperparâmetros:\", gini_tuned)"
   ]
  },
  {
   "cell_type": "markdown",
   "metadata": {},
   "source": [
    "O índice de Gini aumentou de 0.3612 para 0.5883 após o ajuste. Isso sugere que o modelo melhorou em sua capacidade de classificação, especialmente em relação à classificação binária."
   ]
  }
 ],
 "metadata": {
  "kernelspec": {
   "display_name": "Python 3 (ipykernel)",
   "language": "python",
   "name": "python3"
  },
  "language_info": {
   "codemirror_mode": {
    "name": "ipython",
    "version": 3
   },
   "file_extension": ".py",
   "mimetype": "text/x-python",
   "name": "python",
   "nbconvert_exporter": "python",
   "pygments_lexer": "ipython3",
   "version": "3.11.5"
  }
 },
 "nbformat": 4,
 "nbformat_minor": 4
}
