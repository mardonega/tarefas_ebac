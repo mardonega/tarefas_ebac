{
 "cells": [
  {
   "cell_type": "markdown",
   "metadata": {},
   "source": [
    "# Módulo 07, Tarefa 01\n",
    "\n",
    "Vamos começar a mexer na nossa base de projeto? Já fizemos um exercício de montar a variável resposta, já pudemos perceber que essa atividade pode não ser trivial. Vamos agora trabalhar a base para que fique propícia ao *scikitlearn* para trabalharmos.\n",
    "\n",
    "Lembrando, a base se chama demo01.csv, e originalmente está publicada [aqui](https://www.kaggle.com/rikdifos/credit-card-approval-prediction)."
   ]
  },
  {
   "cell_type": "markdown",
   "metadata": {},
   "source": [
    "#### 1) Carregue a base e avalie:\n",
    "\n",
    "- As variáveis\n",
    "- Tipos de dados de cada variável\n",
    "- Quantidade de missings\n",
    "- Distribuição da variável resposta (mau)"
   ]
  },
  {
   "cell_type": "code",
   "execution_count": 10,
   "metadata": {},
   "outputs": [
    {
     "name": "stdout",
     "output_type": "stream",
     "text": [
      "  sexo posse_de_veiculo posse_de_imovel  qtd_filhos            tipo_renda  \\\n",
      "0    M                Y               Y           0               Working   \n",
      "1    F                N               Y           0  Commercial associate   \n",
      "2    F                N               Y           0  Commercial associate   \n",
      "3    M                Y               Y           0               Working   \n",
      "4    F                Y               N           0               Working   \n",
      "\n",
      "                        educacao          estado_civil    tipo_residencia  \\\n",
      "0  Secondary / secondary special               Married  House / apartment   \n",
      "1  Secondary / secondary special  Single / not married  House / apartment   \n",
      "2  Secondary / secondary special  Single / not married  House / apartment   \n",
      "3               Higher education               Married  House / apartment   \n",
      "4              Incomplete higher               Married  House / apartment   \n",
      "\n",
      "       idade  tempo_emprego  possui_celular  possui_fone_comercial  \\\n",
      "0  58.832877       3.106849               1                      0   \n",
      "1  52.356164       8.358904               1                      0   \n",
      "2  52.356164       8.358904               1                      0   \n",
      "3  46.224658       2.106849               1                      1   \n",
      "4  29.230137       3.021918               1                      0   \n",
      "\n",
      "   possui_fone  possui_email  qt_pessoas_residencia    mau  \n",
      "0            0             0                    2.0  False  \n",
      "1            1             1                    1.0  False  \n",
      "2            1             1                    1.0  False  \n",
      "3            1             1                    2.0  False  \n",
      "4            0             0                    2.0  False  \n"
     ]
    }
   ],
   "source": [
    "import pandas as pd\n",
    "import matplotlib.pyplot as plt\n",
    "import seaborn as sns\n",
    "from sklearn.model_selection import train_test_split\n",
    "\n",
    "df = 'demo01.csv'\n",
    "\n",
    "dados = pd.read_csv(df)\n",
    "\n",
    "print(dados.head())"
   ]
  },
  {
   "cell_type": "code",
   "execution_count": 11,
   "metadata": {},
   "outputs": [
    {
     "name": "stdout",
     "output_type": "stream",
     "text": [
      "<class 'pandas.core.frame.DataFrame'>\n",
      "RangeIndex: 16650 entries, 0 to 16649\n",
      "Data columns (total 16 columns):\n",
      " #   Column                 Non-Null Count  Dtype  \n",
      "---  ------                 --------------  -----  \n",
      " 0   sexo                   16650 non-null  object \n",
      " 1   posse_de_veiculo       16650 non-null  object \n",
      " 2   posse_de_imovel        16650 non-null  object \n",
      " 3   qtd_filhos             16650 non-null  int64  \n",
      " 4   tipo_renda             16650 non-null  object \n",
      " 5   educacao               16650 non-null  object \n",
      " 6   estado_civil           16650 non-null  object \n",
      " 7   tipo_residencia        16650 non-null  object \n",
      " 8   idade                  16650 non-null  float64\n",
      " 9   tempo_emprego          16650 non-null  float64\n",
      " 10  possui_celular         16650 non-null  int64  \n",
      " 11  possui_fone_comercial  16650 non-null  int64  \n",
      " 12  possui_fone            16650 non-null  int64  \n",
      " 13  possui_email           16650 non-null  int64  \n",
      " 14  qt_pessoas_residencia  16650 non-null  float64\n",
      " 15  mau                    16650 non-null  bool   \n",
      "dtypes: bool(1), float64(3), int64(5), object(7)\n",
      "memory usage: 1.9+ MB\n"
     ]
    }
   ],
   "source": [
    "# Exibindo informações sobre o DataFrame\n",
    "dados.info()"
   ]
  },
  {
   "cell_type": "code",
   "execution_count": 12,
   "metadata": {},
   "outputs": [
    {
     "name": "stdout",
     "output_type": "stream",
     "text": [
      "sexo                     0\n",
      "posse_de_veiculo         0\n",
      "posse_de_imovel          0\n",
      "qtd_filhos               0\n",
      "tipo_renda               0\n",
      "educacao                 0\n",
      "estado_civil             0\n",
      "tipo_residencia          0\n",
      "idade                    0\n",
      "tempo_emprego            0\n",
      "possui_celular           0\n",
      "possui_fone_comercial    0\n",
      "possui_fone              0\n",
      "possui_email             0\n",
      "qt_pessoas_residencia    0\n",
      "mau                      0\n",
      "dtype: int64\n"
     ]
    }
   ],
   "source": [
    "# Verificando a quantidade de valores nulos em cada coluna\n",
    "missings_por_coluna = dados.isnull().sum()\n",
    "print(missings_por_coluna)"
   ]
  },
  {
   "cell_type": "code",
   "execution_count": 13,
   "metadata": {},
   "outputs": [
    {
     "data": {
      "image/png": "[encoded data removed]",
      "text/plain": [
       "<Figure size 640x480 with 1 Axes>"
      ]
     },
     "metadata": {},
     "output_type": "display_data"
    }
   ],
   "source": [
    "# Para uma variável categórica\n",
    "sns.countplot(x='mau', data=dados)\n",
    "plt.title('Distribuição da variável resposta (\"mau\")')\n",
    "plt.show()"
   ]
  },
  {
   "cell_type": "markdown",
   "metadata": {},
   "source": [
    "#### 2) Vamos montar um metadados\n",
    "\n",
    "1. Crie um dataframe com os nomes de cada variável e o tipo de dados de cada variável.\n",
    "2. Adicione uma coluna nesse *dataframe* chamada \"qtd_categorias\" e coloque nela o número de categorias correspondente de cada variável. \n",
    "    Dica: \n",
    "        1. inicie uma lista vazia\n",
    "        2. faça um for ao longo dos nomes das variáveis, \n",
    "        3. conte o número de categorias dessa variável \n",
    "        4. acumule essa informação de 3. na lista que você criou em 1. \n",
    "        5. No final, essa lista pode ser atribuída à nossa variável.\n",
    "3. Crie variáveis dummy para as variáveis necessárias (i.e. aquelas que são qualitativas e não estão armazenadas como {0, 1} ou {True, False}."
   ]
  },
  {
   "cell_type": "code",
   "execution_count": 14,
   "metadata": {},
   "outputs": [
    {
     "name": "stdout",
     "output_type": "stream",
     "text": [
      "                                        Nome Tipo de Dados  qtd_categorias\n",
      "sexo                                    sexo        object             2.0\n",
      "posse_de_veiculo            posse_de_veiculo        object             2.0\n",
      "posse_de_imovel              posse_de_imovel        object             2.0\n",
      "qtd_filhos                        qtd_filhos         int64             NaN\n",
      "tipo_renda                        tipo_renda        object             5.0\n",
      "educacao                            educacao        object             5.0\n",
      "estado_civil                    estado_civil        object             5.0\n",
      "tipo_residencia              tipo_residencia        object             6.0\n",
      "idade                                  idade       float64             NaN\n",
      "tempo_emprego                  tempo_emprego       float64             NaN\n",
      "possui_celular                possui_celular         int64             NaN\n",
      "possui_fone_comercial  possui_fone_comercial         int64             NaN\n",
      "possui_fone                      possui_fone         int64             NaN\n",
      "possui_email                    possui_email         int64             NaN\n",
      "qt_pessoas_residencia  qt_pessoas_residencia       float64             NaN\n",
      "mau                                      mau          bool             NaN\n",
      "   qtd_filhos      idade  tempo_emprego  possui_celular  \\\n",
      "0           0  58.832877       3.106849               1   \n",
      "1           0  52.356164       8.358904               1   \n",
      "2           0  52.356164       8.358904               1   \n",
      "3           0  46.224658       2.106849               1   \n",
      "4           0  29.230137       3.021918               1   \n",
      "\n",
      "   possui_fone_comercial  possui_fone  possui_email  qt_pessoas_residencia  \\\n",
      "0                      0            0             0                    2.0   \n",
      "1                      0            1             1                    1.0   \n",
      "2                      0            1             1                    1.0   \n",
      "3                      1            1             1                    2.0   \n",
      "4                      0            0             0                    2.0   \n",
      "\n",
      "     mau  sexo_M  ...  educacao_Secondary / secondary special  \\\n",
      "0  False       1  ...                                       1   \n",
      "1  False       0  ...                                       1   \n",
      "2  False       0  ...                                       1   \n",
      "3  False       1  ...                                       0   \n",
      "4  False       0  ...                                       0   \n",
      "\n",
      "   estado_civil_Married  estado_civil_Separated  \\\n",
      "0                     1                       0   \n",
      "1                     0                       0   \n",
      "2                     0                       0   \n",
      "3                     1                       0   \n",
      "4                     1                       0   \n",
      "\n",
      "   estado_civil_Single / not married  estado_civil_Widow  \\\n",
      "0                                  0                   0   \n",
      "1                                  1                   0   \n",
      "2                                  1                   0   \n",
      "3                                  0                   0   \n",
      "4                                  0                   0   \n",
      "\n",
      "   tipo_residencia_House / apartment  tipo_residencia_Municipal apartment  \\\n",
      "0                                  1                                    0   \n",
      "1                                  1                                    0   \n",
      "2                                  1                                    0   \n",
      "3                                  1                                    0   \n",
      "4                                  1                                    0   \n",
      "\n",
      "   tipo_residencia_Office apartment  tipo_residencia_Rented apartment  \\\n",
      "0                                 0                                 0   \n",
      "1                                 0                                 0   \n",
      "2                                 0                                 0   \n",
      "3                                 0                                 0   \n",
      "4                                 0                                 0   \n",
      "\n",
      "   tipo_residencia_With parents  \n",
      "0                             0  \n",
      "1                             0  \n",
      "2                             0  \n",
      "3                             0  \n",
      "4                             0  \n",
      "\n",
      "[5 rows x 29 columns]\n"
     ]
    }
   ],
   "source": [
    "# Obtendo informações sobre as variáveis e seus tipos de dados\n",
    "info_variaveis = pd.DataFrame({\n",
    "    'Nome': dados.columns,\n",
    "    'Tipo de Dados': dados.dtypes\n",
    "})\n",
    "\n",
    "# Adicionando a coluna 'qtd_categorias'\n",
    "qtd_categorias = []\n",
    "\n",
    "for coluna in dados.columns:\n",
    "    if dados[coluna].dtype == 'object':\n",
    "        # Se for uma variável qualitativa, contar o número de categorias únicas\n",
    "        qtd_categorias.append(len(dados[coluna].unique()))\n",
    "    else:\n",
    "        # Se for uma variável numérica, atribuir NaN\n",
    "        qtd_categorias.append(None)\n",
    "\n",
    "info_variaveis['qtd_categorias'] = qtd_categorias\n",
    "\n",
    "# Exibindo o DataFrame resultante\n",
    "print(info_variaveis)\n",
    "\n",
    "# Criando variáveis dummy para as variáveis qualitativas\n",
    "variaveis_qualitativas = info_variaveis[info_variaveis['Tipo de Dados'] == 'object']['Nome'].tolist()\n",
    "\n",
    "# Criando variáveis dummy usando o método get_dummies do pandas\n",
    "dados_dummy = pd.get_dummies(dados, columns=variaveis_qualitativas, drop_first=True)\n",
    "\n",
    "# Exibindo as primeiras linhas do DataFrame com variáveis dummy\n",
    "print(dados_dummy.head())"
   ]
  },
  {
   "cell_type": "markdown",
   "metadata": {},
   "source": [
    "#### 3) Crie variáveis dummy para as variáveis necessárias (i.e. aquelas que são qualitativas e não estão armazenadas como {0, 1} ou {True, False}. Crie um *dataframe* apenas com as variáveis apropriadas para entrada no scikitlearn - elimine as variáveis tipo *str*, mantendo apenas suas versões *dummy*."
   ]
  },
  {
   "cell_type": "code",
   "execution_count": 15,
   "metadata": {},
   "outputs": [
    {
     "name": "stdout",
     "output_type": "stream",
     "text": [
      "  sexo posse_de_veiculo posse_de_imovel  qtd_filhos      idade  tempo_emprego  \\\n",
      "0    M                Y               Y           0  58.832877       3.106849   \n",
      "1    F                N               Y           0  52.356164       8.358904   \n",
      "2    F                N               Y           0  52.356164       8.358904   \n",
      "3    M                Y               Y           0  46.224658       2.106849   \n",
      "4    F                Y               N           0  29.230137       3.021918   \n",
      "\n",
      "   possui_celular  possui_fone_comercial  possui_fone  possui_email  ...  \\\n",
      "0               1                      0            0             0  ...   \n",
      "1               1                      0            1             1  ...   \n",
      "2               1                      0            1             1  ...   \n",
      "3               1                      1            1             1  ...   \n",
      "4               1                      0            0             0  ...   \n",
      "\n",
      "   educacao_Secondary / secondary special  estado_civil_Married  \\\n",
      "0                                       1                     1   \n",
      "1                                       1                     0   \n",
      "2                                       1                     0   \n",
      "3                                       0                     1   \n",
      "4                                       0                     1   \n",
      "\n",
      "   estado_civil_Separated  estado_civil_Single / not married  \\\n",
      "0                       0                                  0   \n",
      "1                       0                                  1   \n",
      "2                       0                                  1   \n",
      "3                       0                                  0   \n",
      "4                       0                                  0   \n",
      "\n",
      "   estado_civil_Widow  tipo_residencia_House / apartment  \\\n",
      "0                   0                                  1   \n",
      "1                   0                                  1   \n",
      "2                   0                                  1   \n",
      "3                   0                                  1   \n",
      "4                   0                                  1   \n",
      "\n",
      "   tipo_residencia_Municipal apartment  tipo_residencia_Office apartment  \\\n",
      "0                                    0                                 0   \n",
      "1                                    0                                 0   \n",
      "2                                    0                                 0   \n",
      "3                                    0                                 0   \n",
      "4                                    0                                 0   \n",
      "\n",
      "   tipo_residencia_Rented apartment  tipo_residencia_With parents  \n",
      "0                                 0                             0  \n",
      "1                                 0                             0  \n",
      "2                                 0                             0  \n",
      "3                                 0                             0  \n",
      "4                                 0                             0  \n",
      "\n",
      "[5 rows x 28 columns]\n"
     ]
    }
   ],
   "source": [
    "# Definindo as variáveis categóricas com mais de 2 categorias\n",
    "variaveis_qualitativas = ['tipo_renda', 'educacao', 'estado_civil', 'tipo_residencia']\n",
    "\n",
    "# Criando variáveis dummy para as variáveis qualitativas\n",
    "dados_dummy = pd.get_dummies(dados, columns=variaveis_qualitativas, drop_first=True)\n",
    "\n",
    "# Separando as variáveis de entrada (X) e a variável de saída (y)\n",
    "X = dados_dummy.drop(columns=['mau']) \n",
    "y = dados['mau']\n",
    "\n",
    "# Exibindo as primeiras linhas do DataFrame com variáveis dummy\n",
    "print(X.head())\n",
    "\n",
    "# Dividindo os dados em conjuntos de treinamento e teste\n",
    "X_train, X_test, y_train, y_test = train_test_split(X, y, test_size=0.2, random_state=42)\n"
   ]
  },
  {
   "cell_type": "markdown",
   "metadata": {},
   "source": [
    "#### 4) Qual variável é mais poderosa?\n",
    "\n",
    "Considere as variáveis ```possui_email``` e ```posse_de_veiculo```. Faça uma tabela cruzada entre elas e responda qual delas te parece mais poderosa para prever a probabilidade de ```mau = 1```?"
   ]
  },
  {
   "cell_type": "code",
   "execution_count": 12,
   "metadata": {},
   "outputs": [
    {
     "name": "stdout",
     "output_type": "stream",
     "text": [
      "posse_de_veiculo     N          Y       Total\n",
      "mau              False True False True       \n",
      "possui_email                                 \n",
      "0                 9108  233  5702  127  15170\n",
      "1                  823   14   627   16   1480\n",
      "Total             9931  247  6329  143  16650\n"
     ]
    }
   ],
   "source": [
    "# Selecionando as variáveis de interesse\n",
    "variaveis_interesse = ['possui_email', 'posse_de_veiculo', 'mau']\n",
    "dados_selecionados = dados[variaveis_interesse]\n",
    "\n",
    "# Criando a tabela cruzada\n",
    "tabela_cruzada = pd.crosstab(index=dados_selecionados['possui_email'], columns=[dados_selecionados['posse_de_veiculo'], dados_selecionados['mau']], margins=True, margins_name='Total')\n",
    "\n",
    "# Exibindo a tabela cruzada\n",
    "print(tabela_cruzada)"
   ]
  },
  {
   "cell_type": "code",
   "execution_count": 8,
   "metadata": {},
   "outputs": [],
   "source": [
    "# Para aqueles que não possuem email (possui_email=0), a proporção de mau=True é mais elevada em comparação com aqueles que possuem email (possui_email=1).\n",
    "# A diferença nas proporções sugere que a variável possui_email parece ser mais poderosa para prever a probabilidade de mau=True.\n",
    "# Portanto, com base nos dados apresentados, a variável possui_email parece mais poderosa para prever a probabilidade de mau=True."
   ]
  },
  {
   "cell_type": "markdown",
   "metadata": {},
   "source": [
    "#### 5) Salve a base, pois ela será utilizada no final deste módulo."
   ]
  },
  {
   "cell_type": "code",
   "execution_count": 9,
   "metadata": {},
   "outputs": [],
   "source": [
    "dados.to_csv('dados_tarefa2.csv', index=False)"
   ]
  },
  {
   "cell_type": "code",
   "execution_count": null,
   "metadata": {},
   "outputs": [],
   "source": []
  }
 ],
 "metadata": {
  "kernelspec": {
   "display_name": "Python 3 (ipykernel)",
   "language": "python",
   "name": "python3"
  },
  "language_info": {
   "codemirror_mode": {
    "name": "ipython",
    "version": 3
   },
   "file_extension": ".py",
   "mimetype": "text/x-python",
   "name": "python",
   "nbconvert_exporter": "python",
   "pygments_lexer": "ipython3",
   "version": "3.11.4"
  }
 },
 "nbformat": 4,
 "nbformat_minor": 4
}
