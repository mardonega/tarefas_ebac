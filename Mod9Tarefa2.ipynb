{
 "cells": [
  {
   "cell_type": "markdown",
   "metadata": {},
   "source": [
    "# Livro para consulta:\n",
    "- https://jakevdp.github.io/PythonDataScienceHandbook/03.08-aggregation-and-grouping.html\n",
    "- https://jakevdp.github.io/PythonDataScienceHandbook/03.09-pivot-tables.html\n",
    "    "
   ]
  },
  {
   "cell_type": "markdown",
   "metadata": {},
   "source": [
    "# 1. Importando bibliotecas <a name=\"import\"></a>\n",
    "\n",
    "<div style=\"text-align: right\"\n",
    "     \n",
    "[Voltar ao índice](#Contents)"
   ]
  },
  {
   "cell_type": "code",
   "execution_count": 1,
   "metadata": {
    "ExecuteTime": {
     "end_time": "2021-06-06T21:12:37.298706Z",
     "start_time": "2021-06-06T21:12:36.656481Z"
    }
   },
   "outputs": [],
   "source": [
    "import numpy as np\n",
    "import pandas as pd\n",
    "import seaborn as sns\n",
    "import matplotlib.pyplot as plt\n",
    "\n",
    "%matplotlib inline"
   ]
  },
  {
   "cell_type": "code",
   "execution_count": null,
   "metadata": {},
   "outputs": [],
   "source": []
  },
  {
   "cell_type": "markdown",
   "metadata": {},
   "source": [
    "# 2. Carregando o dataframe SINASC <a name=\"read\"></a>\n",
    "<div style=\"text-align: right\"\n",
    "     \n",
    "[Voltar ao índice](#Contents)"
   ]
  },
  {
   "cell_type": "code",
   "execution_count": 29,
   "metadata": {
    "ExecuteTime": {
     "end_time": "2021-06-06T21:12:37.762376Z",
     "start_time": "2021-06-06T21:12:37.728383Z"
    },
    "scrolled": true
   },
   "outputs": [],
   "source": [
    "# Carregando os DataFrames a partir dos arquivos CSV\n",
    "sinasc_raw = pd.read_csv('SINASC_RO_2019.csv')\n",
    "dados_ro = pd.read_csv('dados_extras_ro.csv', sep=';', encoding='latin_1')\n",
    "regioes_map = dict(zip(dados_ro['municipio'], dados_ro['regiao']))"
   ]
  },
  {
   "cell_type": "code",
   "execution_count": 11,
   "metadata": {},
   "outputs": [
    {
     "data": {
      "text/html": [
       "<div>\n",
       "<style scoped>\n",
       "    .dataframe tbody tr th:only-of-type {\n",
       "        vertical-align: middle;\n",
       "    }\n",
       "\n",
       "    .dataframe tbody tr th {\n",
       "        vertical-align: top;\n",
       "    }\n",
       "\n",
       "    .dataframe thead th {\n",
       "        text-align: right;\n",
       "    }\n",
       "</style>\n",
       "<table border=\"1\" class=\"dataframe\">\n",
       "  <thead>\n",
       "    <tr style=\"text-align: right;\">\n",
       "      <th></th>\n",
       "      <th>ORIGEM</th>\n",
       "      <th>CODESTAB</th>\n",
       "      <th>CODMUNNASC</th>\n",
       "      <th>LOCNASC</th>\n",
       "      <th>IDADEMAE</th>\n",
       "      <th>ESTCIVMAE</th>\n",
       "      <th>ESCMAE</th>\n",
       "      <th>CODOCUPMAE</th>\n",
       "      <th>QTDFILVIVO</th>\n",
       "      <th>QTDFILMORT</th>\n",
       "      <th>...</th>\n",
       "      <th>KOTELCHUCK</th>\n",
       "      <th>CONTADOR</th>\n",
       "      <th>munResStatus</th>\n",
       "      <th>munResTipo</th>\n",
       "      <th>munResNome</th>\n",
       "      <th>munResUf</th>\n",
       "      <th>munResLat</th>\n",
       "      <th>munResLon</th>\n",
       "      <th>munResAlt</th>\n",
       "      <th>munResArea</th>\n",
       "    </tr>\n",
       "  </thead>\n",
       "  <tbody>\n",
       "    <tr>\n",
       "      <th>0</th>\n",
       "      <td>1</td>\n",
       "      <td>2679477.0</td>\n",
       "      <td>110001</td>\n",
       "      <td>1</td>\n",
       "      <td>19</td>\n",
       "      <td>5.0</td>\n",
       "      <td>8 a 11 anos</td>\n",
       "      <td>NaN</td>\n",
       "      <td>0.0</td>\n",
       "      <td>0.0</td>\n",
       "      <td>...</td>\n",
       "      <td>5</td>\n",
       "      <td>1</td>\n",
       "      <td>ATIVO</td>\n",
       "      <td>MUNIC</td>\n",
       "      <td>Alta Floresta D'Oeste</td>\n",
       "      <td>Rondônia</td>\n",
       "      <td>-11.93554</td>\n",
       "      <td>-61.99982</td>\n",
       "      <td>338.0</td>\n",
       "      <td>7067.025</td>\n",
       "    </tr>\n",
       "    <tr>\n",
       "      <th>1</th>\n",
       "      <td>1</td>\n",
       "      <td>2679477.0</td>\n",
       "      <td>110001</td>\n",
       "      <td>1</td>\n",
       "      <td>29</td>\n",
       "      <td>2.0</td>\n",
       "      <td>8 a 11 anos</td>\n",
       "      <td>999992.0</td>\n",
       "      <td>1.0</td>\n",
       "      <td>0.0</td>\n",
       "      <td>...</td>\n",
       "      <td>5</td>\n",
       "      <td>2</td>\n",
       "      <td>ATIVO</td>\n",
       "      <td>MUNIC</td>\n",
       "      <td>Alta Floresta D'Oeste</td>\n",
       "      <td>Rondônia</td>\n",
       "      <td>-11.93554</td>\n",
       "      <td>-61.99982</td>\n",
       "      <td>338.0</td>\n",
       "      <td>7067.025</td>\n",
       "    </tr>\n",
       "    <tr>\n",
       "      <th>2</th>\n",
       "      <td>1</td>\n",
       "      <td>2679477.0</td>\n",
       "      <td>110001</td>\n",
       "      <td>1</td>\n",
       "      <td>37</td>\n",
       "      <td>9.0</td>\n",
       "      <td>8 a 11 anos</td>\n",
       "      <td>513205.0</td>\n",
       "      <td>2.0</td>\n",
       "      <td>0.0</td>\n",
       "      <td>...</td>\n",
       "      <td>5</td>\n",
       "      <td>3</td>\n",
       "      <td>ATIVO</td>\n",
       "      <td>MUNIC</td>\n",
       "      <td>Alta Floresta D'Oeste</td>\n",
       "      <td>Rondônia</td>\n",
       "      <td>-11.93554</td>\n",
       "      <td>-61.99982</td>\n",
       "      <td>338.0</td>\n",
       "      <td>7067.025</td>\n",
       "    </tr>\n",
       "    <tr>\n",
       "      <th>3</th>\n",
       "      <td>1</td>\n",
       "      <td>2516500.0</td>\n",
       "      <td>110001</td>\n",
       "      <td>1</td>\n",
       "      <td>30</td>\n",
       "      <td>5.0</td>\n",
       "      <td>12 anos ou mais</td>\n",
       "      <td>231205.0</td>\n",
       "      <td>0.0</td>\n",
       "      <td>0.0</td>\n",
       "      <td>...</td>\n",
       "      <td>4</td>\n",
       "      <td>4</td>\n",
       "      <td>ATIVO</td>\n",
       "      <td>MUNIC</td>\n",
       "      <td>Alto Alegre dos Parecis</td>\n",
       "      <td>Rondônia</td>\n",
       "      <td>-12.13178</td>\n",
       "      <td>-61.85308</td>\n",
       "      <td>397.0</td>\n",
       "      <td>3958.273</td>\n",
       "    </tr>\n",
       "    <tr>\n",
       "      <th>4</th>\n",
       "      <td>1</td>\n",
       "      <td>2516500.0</td>\n",
       "      <td>110001</td>\n",
       "      <td>1</td>\n",
       "      <td>30</td>\n",
       "      <td>2.0</td>\n",
       "      <td>8 a 11 anos</td>\n",
       "      <td>999992.0</td>\n",
       "      <td>1.0</td>\n",
       "      <td>0.0</td>\n",
       "      <td>...</td>\n",
       "      <td>5</td>\n",
       "      <td>5</td>\n",
       "      <td>ATIVO</td>\n",
       "      <td>MUNIC</td>\n",
       "      <td>Alta Floresta D'Oeste</td>\n",
       "      <td>Rondônia</td>\n",
       "      <td>-11.93554</td>\n",
       "      <td>-61.99982</td>\n",
       "      <td>338.0</td>\n",
       "      <td>7067.025</td>\n",
       "    </tr>\n",
       "  </tbody>\n",
       "</table>\n",
       "<p>5 rows × 69 columns</p>\n",
       "</div>"
      ],
      "text/plain": [
       "   ORIGEM   CODESTAB  CODMUNNASC  LOCNASC  IDADEMAE  ESTCIVMAE  \\\n",
       "0       1  2679477.0      110001        1        19        5.0   \n",
       "1       1  2679477.0      110001        1        29        2.0   \n",
       "2       1  2679477.0      110001        1        37        9.0   \n",
       "3       1  2516500.0      110001        1        30        5.0   \n",
       "4       1  2516500.0      110001        1        30        2.0   \n",
       "\n",
       "            ESCMAE  CODOCUPMAE  QTDFILVIVO  QTDFILMORT  ...  KOTELCHUCK  \\\n",
       "0      8 a 11 anos         NaN         0.0         0.0  ...           5   \n",
       "1      8 a 11 anos    999992.0         1.0         0.0  ...           5   \n",
       "2      8 a 11 anos    513205.0         2.0         0.0  ...           5   \n",
       "3  12 anos ou mais    231205.0         0.0         0.0  ...           4   \n",
       "4      8 a 11 anos    999992.0         1.0         0.0  ...           5   \n",
       "\n",
       "  CONTADOR munResStatus munResTipo               munResNome  munResUf  \\\n",
       "0        1        ATIVO      MUNIC    Alta Floresta D'Oeste  Rondônia   \n",
       "1        2        ATIVO      MUNIC    Alta Floresta D'Oeste  Rondônia   \n",
       "2        3        ATIVO      MUNIC    Alta Floresta D'Oeste  Rondônia   \n",
       "3        4        ATIVO      MUNIC  Alto Alegre dos Parecis  Rondônia   \n",
       "4        5        ATIVO      MUNIC    Alta Floresta D'Oeste  Rondônia   \n",
       "\n",
       "   munResLat munResLon  munResAlt  munResArea  \n",
       "0  -11.93554 -61.99982      338.0    7067.025  \n",
       "1  -11.93554 -61.99982      338.0    7067.025  \n",
       "2  -11.93554 -61.99982      338.0    7067.025  \n",
       "3  -12.13178 -61.85308      397.0    3958.273  \n",
       "4  -11.93554 -61.99982      338.0    7067.025  \n",
       "\n",
       "[5 rows x 69 columns]"
      ]
     },
     "execution_count": 11,
     "metadata": {},
     "output_type": "execute_result"
    }
   ],
   "source": [
    "sinasc_raw.head()"
   ]
  },
  {
   "cell_type": "code",
   "execution_count": 16,
   "metadata": {},
   "outputs": [
    {
     "name": "stdout",
     "output_type": "stream",
     "text": [
      "Index(['municipio', 'regiao', 'idh', 'ifdm', 'pib'], dtype='object')\n"
     ]
    }
   ],
   "source": [
    "print(dados_ro.columns)"
   ]
  },
  {
   "cell_type": "code",
   "execution_count": 20,
   "metadata": {},
   "outputs": [
    {
     "data": {
      "text/html": [
       "<div>\n",
       "<style scoped>\n",
       "    .dataframe tbody tr th:only-of-type {\n",
       "        vertical-align: middle;\n",
       "    }\n",
       "\n",
       "    .dataframe tbody tr th {\n",
       "        vertical-align: top;\n",
       "    }\n",
       "\n",
       "    .dataframe thead th {\n",
       "        text-align: right;\n",
       "    }\n",
       "</style>\n",
       "<table border=\"1\" class=\"dataframe\">\n",
       "  <thead>\n",
       "    <tr style=\"text-align: right;\">\n",
       "      <th></th>\n",
       "      <th>municipio</th>\n",
       "      <th>regiao</th>\n",
       "      <th>idh</th>\n",
       "      <th>ifdm</th>\n",
       "      <th>pib</th>\n",
       "    </tr>\n",
       "  </thead>\n",
       "  <tbody>\n",
       "    <tr>\n",
       "      <th>0</th>\n",
       "      <td>Alta Floresta D'Oeste</td>\n",
       "      <td>Cacoal</td>\n",
       "      <td>0.641</td>\n",
       "      <td>0.6337</td>\n",
       "      <td>496000</td>\n",
       "    </tr>\n",
       "    <tr>\n",
       "      <th>1</th>\n",
       "      <td>Alto Alegre dos Parecis</td>\n",
       "      <td>Cacoal</td>\n",
       "      <td>0.592</td>\n",
       "      <td>0.5046</td>\n",
       "      <td>213410</td>\n",
       "    </tr>\n",
       "    <tr>\n",
       "      <th>2</th>\n",
       "      <td>Alto Paraíso</td>\n",
       "      <td>Ariquemes</td>\n",
       "      <td>0.625</td>\n",
       "      <td>0.5735</td>\n",
       "      <td>358000</td>\n",
       "    </tr>\n",
       "    <tr>\n",
       "      <th>3</th>\n",
       "      <td>Alvorada D'Oeste</td>\n",
       "      <td>Ji-Paraná</td>\n",
       "      <td>0.643</td>\n",
       "      <td>0.5919</td>\n",
       "      <td>204098</td>\n",
       "    </tr>\n",
       "    <tr>\n",
       "      <th>4</th>\n",
       "      <td>Ariquemes</td>\n",
       "      <td>Ariquemes</td>\n",
       "      <td>0.702</td>\n",
       "      <td>0.7746</td>\n",
       "      <td>2579830</td>\n",
       "    </tr>\n",
       "  </tbody>\n",
       "</table>\n",
       "</div>"
      ],
      "text/plain": [
       "                 municipio     regiao    idh    ifdm      pib\n",
       "0    Alta Floresta D'Oeste     Cacoal  0.641  0.6337   496000\n",
       "1  Alto Alegre dos Parecis     Cacoal  0.592  0.5046   213410\n",
       "2             Alto Paraíso  Ariquemes  0.625  0.5735   358000\n",
       "3         Alvorada D'Oeste  Ji-Paraná  0.643  0.5919   204098\n",
       "4                Ariquemes  Ariquemes  0.702  0.7746  2579830"
      ]
     },
     "execution_count": 20,
     "metadata": {},
     "output_type": "execute_result"
    }
   ],
   "source": [
    "dados_ro.head()"
   ]
  },
  {
   "cell_type": "markdown",
   "metadata": {},
   "source": [
    "# Tarefa 2"
   ]
  },
  {
   "cell_type": "markdown",
   "metadata": {},
   "source": [
    "### 1. Crie 2 faixas de Latitude do município (munResLat) sendo uma acima e outra abaixo de -10.5 e aplique o groupby usando essas faixas como chave e realize operações de soma, media, minimo, maximo, mediana, desvio padrao, variancia pra pelo menos 2 variáveis numéricas ainda não utilizadas"
   ]
  },
  {
   "cell_type": "code",
   "execution_count": 5,
   "metadata": {},
   "outputs": [
    {
     "name": "stdout",
     "output_type": "stream",
     "text": [
      "   CONSULTAS_sum  CONSULTAS_mean  CONSULTAS_min  CONSULTAS_max  \\\n",
      "0          48001        3.694090              1              9   \n",
      "1          48662        3.467436              1              9   \n",
      "\n",
      "   CONSULTAS_median  CONSULTAS_std  CONSULTAS_var  QTDPARTCES_sum  \\\n",
      "0               4.0       0.643781       0.414454          7095.0   \n",
      "1               4.0       0.888240       0.788970          6041.0   \n",
      "\n",
      "   QTDPARTCES_mean  QTDPARTCES_min  QTDPARTCES_max  QTDPARTCES_median  \\\n",
      "0         0.552527             0.0            12.0                0.0   \n",
      "1         0.487335             0.0            12.0                0.0   \n",
      "\n",
      "   QTDPARTCES_std  QTDPARTCES_var  \n",
      "0        0.753022        0.567042  \n",
      "1        0.737899        0.544495  \n"
     ]
    }
   ],
   "source": [
    "# Definindo as faixas de Latitude\n",
    "faixa_acima = sinasc_raw['munResLat'] > -10.5\n",
    "faixa_abaixo = ~faixa_acima\n",
    "\n",
    "# Aplicando groupby com as faixas de Latitude\n",
    "grouped_latitudes = sinasc_raw.groupby([faixa_acima, faixa_abaixo])\n",
    "\n",
    "# Definindo as variáveis numéricas alvo\n",
    "variaveis_numericas = ['CONSULTAS', 'QTDPARTCES']\n",
    "\n",
    "# Calculando estatísticas para cada variável numérica\n",
    "estatisticas = grouped_latitudes[variaveis_numericas].agg(['sum', 'mean', 'min', 'max', 'median', 'std', 'var'])\n",
    "\n",
    "# Flatten (achatando) as colunas do índice resultante do groupby\n",
    "estatisticas.columns = ['_'.join(col).strip() for col in estatisticas.columns.values]\n",
    "\n",
    "# Removendo a coluna de índice para obter um DataFrame plano\n",
    "estatisticas.reset_index(drop=True, inplace=True)\n",
    "\n",
    "# Exibindo o resultado\n",
    "print(estatisticas)\n"
   ]
  },
  {
   "cell_type": "markdown",
   "metadata": {},
   "source": [
    "### 2. Crie 2 faixas da área dos municípios (munResArea) sendo uma acima e outra abaixo de 3000 e aplique o groupby usando essas faixas como chave e realize operações de soma, media, minimo, maximo, mediana, desvio padrao, variancia pra pelo menos 2 variáveis numéricas ainda não utilizadas\n"
   ]
  },
  {
   "cell_type": "code",
   "execution_count": 7,
   "metadata": {},
   "outputs": [
    {
     "name": "stdout",
     "output_type": "stream",
     "text": [
      "   QTDPARTNOR_sum  QTDPARTNOR_mean  QTDPARTNOR_min  QTDPARTNOR_max  \\\n",
      "0          1913.0         0.371456             0.0            10.0   \n",
      "1         12659.0         0.632982             0.0            41.0   \n",
      "\n",
      "   QTDPARTNOR_median  QTDPARTNOR_std  QTDPARTNOR_var  PESO_sum    PESO_mean  \\\n",
      "0                0.0        0.856402        0.733425  16799831  3218.358429   \n",
      "1                0.0        1.278932        1.635668  70857126  3249.134538   \n",
      "\n",
      "   PESO_min  PESO_max  PESO_median    PESO_std      PESO_var  \n",
      "0       258      5720       3245.0  531.532175  282526.45265  \n",
      "1       292      5985       3280.0  547.716582  299993.45372  \n"
     ]
    }
   ],
   "source": [
    "# Definindo as faixas de Área\n",
    "faixa_acima = sinasc_raw['munResArea'] > 3000\n",
    "faixa_abaixo = ~faixa_acima\n",
    "\n",
    "# Aplicando groupby com as faixas de Área\n",
    "grouped_areas = sinasc_raw.groupby([faixa_acima, faixa_abaixo])\n",
    "\n",
    "# Definindo as variáveis numéricas alvo\n",
    "variaveis_numericas = ['QTDPARTNOR', 'PESO']\n",
    "\n",
    "# Calculando estatísticas para cada variável numérica\n",
    "estatisticas = grouped_areas[variaveis_numericas].agg(['sum', 'mean', 'min', 'max', 'median', 'std', 'var'])\n",
    "\n",
    "# Flatten (achatando) as colunas do índice resultante do groupby\n",
    "estatisticas.columns = ['_'.join(col).strip() for col in estatisticas.columns.values]\n",
    "\n",
    "# Removendo a coluna de índice para obter um DataFrame plano\n",
    "estatisticas.reset_index(drop=True, inplace=True)\n",
    "\n",
    "# Exibindo o resultado\n",
    "print(estatisticas)"
   ]
  },
  {
   "cell_type": "markdown",
   "metadata": {},
   "source": [
    "### 3. Determine faixas na variável munResAlt e aplique o groupby usando essas faixas como chave e realize operações de soma, media, minimo, maximo, mediana, desvio padrao, variancia pra pelo menos 2 variáveis numéricas ainda não utilizadas"
   ]
  },
  {
   "cell_type": "code",
   "execution_count": 8,
   "metadata": {},
   "outputs": [
    {
     "name": "stdout",
     "output_type": "stream",
     "text": [
      "      munResAlt  QTDFILVIVO_sum  QTDFILVIVO_mean  QTDFILVIVO_min  \\\n",
      "0  Abaixo 400.0         25172.0         1.064085             0.0   \n",
      "1   Acima 400.0          1654.0         0.919911             0.0   \n",
      "\n",
      "   QTDFILVIVO_max  QTDFILVIVO_median  QTDFILVIVO_std  QTDFILVIVO_var  \\\n",
      "0            30.0                1.0        1.179993        1.392384   \n",
      "1            10.0                1.0        1.034859        1.070933   \n",
      "\n",
      "   QTDFILMORT_sum  QTDFILMORT_mean  QTDFILMORT_min  QTDFILMORT_max  \\\n",
      "0          6190.0         0.267583             0.0             9.0   \n",
      "1           453.0         0.252227             0.0            28.0   \n",
      "\n",
      "   QTDFILMORT_median  QTDFILMORT_std  QTDFILMORT_var  \n",
      "0                0.0        0.592465        0.351014  \n",
      "1                0.0        0.842711        0.710162  \n"
     ]
    }
   ],
   "source": [
    "# Criando faixas acima e abaixo de 400.0 para a variável 'munResAlt'\n",
    "faixas_alt = pd.cut(sinasc_raw['munResAlt'], bins=[-float('inf'), 400.0, float('inf')], labels=['Abaixo 400.0', 'Acima 400.0'])\n",
    "\n",
    "# Aplicando groupby com as faixas de Altitude\n",
    "grouped_altitudes = sinasc_raw.groupby(faixas_alt)\n",
    "\n",
    "# Definindo as variáveis numéricas alvo\n",
    "variaveis_numericas = ['QTDFILVIVO', 'QTDFILMORT']\n",
    "\n",
    "# Calculando estatísticas para cada variável numérica\n",
    "estatisticas = grouped_altitudes[variaveis_numericas].agg(['sum', 'mean', 'min', 'max', 'median', 'std', 'var'])\n",
    "\n",
    "# Achatando as colunas do índice resultante do groupby\n",
    "estatisticas.columns = ['_'.join(col).strip() for col in estatisticas.columns.values]\n",
    "\n",
    "# Resetando o índice para obter um DataFrame plano\n",
    "estatisticas.reset_index(inplace=True)\n",
    "\n",
    "# Exibindo o resultado\n",
    "print(estatisticas)"
   ]
  },
  {
   "cell_type": "markdown",
   "metadata": {},
   "source": [
    "### 4. Plote no mesmo grafico ao longo do tempo a idade media das mulheres de cada regiao imediatas de rondonia\n",
    "https://pt.wikipedia.org/wiki/Lista_de_regi%C3%B5es_geogr%C3%A1ficas_intermedi%C3%A1rias_e_imediatas_de_Rond%C3%B4nia"
   ]
  },
  {
   "cell_type": "code",
   "execution_count": 15,
   "metadata": {},
   "outputs": [
    {
     "data": {
      "image/png": "[encoded data removed]",
      "text/plain": [
       "<Figure size 1200x600 with 1 Axes>"
      ]
     },
     "metadata": {},
     "output_type": "display_data"
    }
   ],
   "source": [
    "# Convertendo a coluna 'DTNASC' para o formato de data\n",
    "sinasc_raw['DTNASC'] = pd.to_datetime(sinasc_raw['DTNASC'], errors='coerce')\n",
    "\n",
    "# Adicionando uma coluna para o ano do nascimento\n",
    "sinasc_raw['AnoNascimento'] = sinasc_raw['DTNASC'].dt.year\n",
    "\n",
    "# Mapeando os municípios para regiões usando o dicionário\n",
    "sinasc_raw['Regiao'] = sinasc_raw['munResNome'].map(dict(zip(dados_ro['municipio'], dados_ro['regiao'])))\n",
    "\n",
    "# Agrupando por 'Regiao' e 'AnoNascimento' e calculando a média da idade das mães\n",
    "idade_media_por_regiao = sinasc_raw.groupby(['Regiao', 'AnoNascimento'])['IDADEMAE'].mean().reset_index()\n",
    "\n",
    "# Criando um gráfico de linha\n",
    "plt.figure(figsize=(12, 6))\n",
    "sns.lineplot(data=idade_media_por_regiao, x='AnoNascimento', y='IDADEMAE', hue='Regiao', marker='o')\n",
    "plt.title('Idade Média das Mães por Região ao Longo do Tempo')\n",
    "plt.xlabel('Ano de Nascimento')\n",
    "plt.ylabel('Idade Média das Mães')\n",
    "plt.legend(title='Região', bbox_to_anchor=(1.05, 1), loc='upper left')\n",
    "plt.show()"
   ]
  },
  {
   "cell_type": "markdown",
   "metadata": {},
   "source": [
    "### 5. Utilize a tabela do link abaixo e crie faixas utilizando o mapping e gere agrupamentos utilizando essas faixas como chave\n"
   ]
  },
  {
   "cell_type": "markdown",
   "metadata": {},
   "source": [
    "### 5.1 IDH\n",
    "A - https://pt.wikipedia.org/wiki/Lista_de_munic%C3%ADpios_de_Rond%C3%B4nia_por_IDH-M\n"
   ]
  },
  {
   "cell_type": "code",
   "execution_count": 31,
   "metadata": {},
   "outputs": [
    {
     "name": "stdout",
     "output_type": "stream",
     "text": [
      "   FaixaIDH       Regiao  Quantidade  MédiaIDH\n",
      "0     Baixo    Ariquemes           2  0.600000\n",
      "1     Baixo       Cacoal           1  0.592000\n",
      "2     Baixo         Jaru           3  0.593667\n",
      "3     Baixo    Ji-Paraná           2  0.592500\n",
      "4     Baixo  Porto Velho           1  0.587000\n",
      "5     Baixo      Vilhena           0       NaN\n",
      "6     Médio    Ariquemes           5  0.628400\n",
      "7     Médio       Cacoal          11  0.651182\n",
      "8     Médio         Jaru           1  0.689000\n",
      "9     Médio    Ji-Paraná          10  0.637900\n",
      "10    Médio  Porto Velho           3  0.640000\n",
      "11    Médio      Vilhena           6  0.659500\n",
      "12     Alto    Ariquemes           1  0.702000\n",
      "13     Alto       Cacoal           2  0.714000\n",
      "14     Alto         Jaru           0       NaN\n",
      "15     Alto    Ji-Paraná           1  0.714000\n",
      "16     Alto  Porto Velho           1  0.736000\n",
      "17     Alto      Vilhena           1  0.731000\n"
     ]
    }
   ],
   "source": [
    "# Definindo as faixas para IDH com base nas informações fornecidas\n",
    "faixas_idh = [(0.584, 0.598, 'Baixo'), (0.607, 0.692, 'Médio'), (0.700, 0.736, 'Alto')]\n",
    "\n",
    "# Mapeando os municípios para faixas de IDH no DataFrame real 'dados_ro'\n",
    "dados_ro['FaixaIDH'] = pd.cut(dados_ro['idh'], bins=[faixa[0] for faixa in faixas_idh] + [faixas_idh[-1][1]], labels=[faixa[2] for faixa in faixas_idh])\n",
    "\n",
    "# Criando um dicionário de mapeamento de faixas para regiões\n",
    "regioes_map = dict(zip(dados_ro['municipio'], dados_ro['regiao']))\n",
    "\n",
    "# Aplicando o mapeamento de faixas para regiões\n",
    "dados_ro['Regiao'] = dados_ro['municipio'].map(regioes_map)\n",
    "\n",
    "# Agrupando por 'FaixaIDH' e 'Regiao' e realizando operações desejadas\n",
    "resultados_agrupados = dados_ro.groupby(['FaixaIDH', 'Regiao']).agg({'idh': ['count', 'mean']}).reset_index()\n",
    "\n",
    "# Renomeando as colunas para melhor visualização\n",
    "resultados_agrupados.columns = ['FaixaIDH', 'Regiao', 'Quantidade', 'MédiaIDH']\n",
    "\n",
    "# Exibindo os resultados\n",
    "print(resultados_agrupados)"
   ]
  },
  {
   "cell_type": "markdown",
   "metadata": {},
   "source": [
    "### 5.2 IFDM \n",
    "B - https://pt.wikipedia.org/wiki/Lista_de_munic%C3%ADpios_de_Rond%C3%B4nia_por_IFDM\n"
   ]
  },
  {
   "cell_type": "code",
   "execution_count": 32,
   "metadata": {},
   "outputs": [
    {
     "name": "stdout",
     "output_type": "stream",
     "text": [
      "                   FaixaIFDM       Regiao  Quantidade  MédiaIFDM\n",
      "0    Desenvolvimento Regular    Ariquemes           4   0.544575\n",
      "1    Desenvolvimento Regular       Cacoal           7   0.561757\n",
      "2    Desenvolvimento Regular         Jaru           3   0.547900\n",
      "3    Desenvolvimento Regular    Ji-Paraná           7   0.576871\n",
      "4    Desenvolvimento Regular  Porto Velho           3   0.550933\n",
      "5    Desenvolvimento Regular      Vilhena           2   0.582300\n",
      "6   Desenvolvimento Moderado    Ariquemes           4   0.659775\n",
      "7   Desenvolvimento Moderado       Cacoal           7   0.671471\n",
      "8   Desenvolvimento Moderado         Jaru           1   0.645000\n",
      "9   Desenvolvimento Moderado    Ji-Paraná           6   0.648850\n",
      "10  Desenvolvimento Moderado  Porto Velho           2   0.672800\n",
      "11  Desenvolvimento Moderado      Vilhena           5   0.666840\n"
     ]
    }
   ],
   "source": [
    "# Definindo as faixas para IFDM com base nas informações fornecidas\n",
    "faixas_ifdm = [(0.4562, 0.5973, 'Desenvolvimento Regular'), (0.6006, 0.7746, 'Desenvolvimento Moderado')]\n",
    "\n",
    "# Mapeando os municípios para faixas de IFDM no DataFrame real 'dados_ro'\n",
    "dados_ro['FaixaIFDM'] = pd.cut(dados_ro['ifdm'], bins=[faixa[0] for faixa in faixas_ifdm] + [faixas_ifdm[-1][1]], labels=[faixa[2] for faixa in faixas_ifdm])\n",
    "\n",
    "# Criando um dicionário de mapeamento de faixas para regiões\n",
    "regioes_map = dict(zip(dados_ro['municipio'], dados_ro['regiao']))\n",
    "\n",
    "# Aplicando o mapeamento de faixas para regiões\n",
    "dados_ro['Regiao'] = dados_ro['municipio'].map(regioes_map)\n",
    "\n",
    "# Agrupando por 'FaixaIFDM' e 'Regiao' e realizando operações desejadas\n",
    "resultados_agrupados_ifdm = dados_ro.groupby(['FaixaIFDM', 'Regiao']).agg({'ifdm': ['count', 'mean']}).reset_index()\n",
    "\n",
    "# Renomeando as colunas para melhor visualização\n",
    "resultados_agrupados_ifdm.columns = ['FaixaIFDM', 'Regiao', 'Quantidade', 'MédiaIFDM']\n",
    "\n",
    "# Exibindo os resultados\n",
    "print(resultados_agrupados_ifdm)"
   ]
  },
  {
   "cell_type": "markdown",
   "metadata": {},
   "source": [
    "### 5.3 PIB\n",
    "C - https://pt.wikipedia.org/wiki/Lista_de_munic%C3%ADpios_de_Rond%C3%B4nia_por_PIB\n"
   ]
  },
  {
   "cell_type": "code",
   "execution_count": 33,
   "metadata": {},
   "outputs": [
    {
     "name": "stdout",
     "output_type": "stream",
     "text": [
      "                FaixaPIB       Regiao  Quantidade      MédiaPIB\n",
      "0        Até 100 Milhões    Ariquemes           8  5.837865e+05\n",
      "1        Até 100 Milhões       Cacoal          14  5.078472e+05\n",
      "2        Até 100 Milhões         Jaru           5  5.055452e+05\n",
      "3        Até 100 Milhões    Ji-Paraná          13  5.521271e+05\n",
      "4        Até 100 Milhões  Porto Velho           5  4.002284e+06\n",
      "5        Até 100 Milhões      Vilhena           7  6.059301e+05\n",
      "6   Acima de 100 Milhões    Ariquemes           0           NaN\n",
      "7   Acima de 100 Milhões       Cacoal           0           NaN\n",
      "8   Acima de 100 Milhões         Jaru           0           NaN\n",
      "9   Acima de 100 Milhões    Ji-Paraná           0           NaN\n",
      "10  Acima de 100 Milhões  Porto Velho           0           NaN\n",
      "11  Acima de 100 Milhões      Vilhena           0           NaN\n",
      "12  Acima de 200 Milhões    Ariquemes           0           NaN\n",
      "13  Acima de 200 Milhões       Cacoal           0           NaN\n",
      "14  Acima de 200 Milhões         Jaru           0           NaN\n",
      "15  Acima de 200 Milhões    Ji-Paraná           0           NaN\n",
      "16  Acima de 200 Milhões  Porto Velho           0           NaN\n",
      "17  Acima de 200 Milhões      Vilhena           0           NaN\n",
      "18  Acima de 300 Milhões    Ariquemes           0           NaN\n",
      "19  Acima de 300 Milhões       Cacoal           0           NaN\n",
      "20  Acima de 300 Milhões         Jaru           0           NaN\n",
      "21  Acima de 300 Milhões    Ji-Paraná           0           NaN\n",
      "22  Acima de 300 Milhões  Porto Velho           0           NaN\n",
      "23  Acima de 300 Milhões      Vilhena           0           NaN\n",
      "24  Acima de 500 Milhões    Ariquemes           0           NaN\n",
      "25  Acima de 500 Milhões       Cacoal           0           NaN\n",
      "26  Acima de 500 Milhões         Jaru           0           NaN\n",
      "27  Acima de 500 Milhões    Ji-Paraná           0           NaN\n",
      "28  Acima de 500 Milhões  Porto Velho           0           NaN\n",
      "29  Acima de 500 Milhões      Vilhena           0           NaN\n",
      "30     Acima de 1 Bilhão    Ariquemes           0           NaN\n",
      "31     Acima de 1 Bilhão       Cacoal           0           NaN\n",
      "32     Acima de 1 Bilhão         Jaru           0           NaN\n",
      "33     Acima de 1 Bilhão    Ji-Paraná           0           NaN\n",
      "34     Acima de 1 Bilhão  Porto Velho           0           NaN\n",
      "35     Acima de 1 Bilhão      Vilhena           0           NaN\n"
     ]
    }
   ],
   "source": [
    "# Definindo as faixas para o PIB com base nas informações fornecidas\n",
    "faixas_pib = [0, 100000000, 200000000, 300000000, 500000000, 1000000000, float('inf')]\n",
    "rotulos_pib = ['Até 100 Milhões', 'Acima de 100 Milhões', 'Acima de 200 Milhões', 'Acima de 300 Milhões', 'Acima de 500 Milhões', 'Acima de 1 Bilhão']\n",
    "\n",
    "# Mapeando os municípios para faixas de PIB no DataFrame real 'dados_ro'\n",
    "dados_ro['FaixaPIB'] = pd.cut(dados_ro['pib'], bins=faixas_pib, labels=rotulos_pib, right=False)\n",
    "\n",
    "# Criando um dicionário de mapeamento de faixas para regiões\n",
    "regioes_map = dict(zip(dados_ro['municipio'], dados_ro['regiao']))\n",
    "\n",
    "# Aplicando o mapeamento de faixas para regiões\n",
    "dados_ro['Regiao'] = dados_ro['municipio'].map(regioes_map)\n",
    "\n",
    "# Agrupando por 'FaixaPIB' e 'Regiao' e realizando operações desejadas\n",
    "resultados_agrupados_pib = dados_ro.groupby(['FaixaPIB', 'Regiao']).agg({'pib': ['count', 'mean']}).reset_index()\n",
    "\n",
    "# Renomeando as colunas para melhor visualização\n",
    "resultados_agrupados_pib.columns = ['FaixaPIB', 'Regiao', 'Quantidade', 'MédiaPIB']\n",
    "\n",
    "# Exibindo os resultados\n",
    "print(resultados_agrupados_pib)"
   ]
  },
  {
   "cell_type": "markdown",
   "metadata": {},
   "source": [
    "### Analise as respostas encontradas, tire algum insight delas, conte pra gente algo encontrado nos dados."
   ]
  },
  {
   "cell_type": "markdown",
   "metadata": {},
   "source": [
    "\n",
    "Correlação entre IDH e Desenvolvimento Social:\n",
    "\n",
    "Verifica-se que há relação entre o Índice de Desenvolvimento Humano (IDH) e o Índice Firjan de Desenvolvimento Municipal (IFDM). Há uma correlação positiva entre essas variáveis. \n",
    "\n",
    "Distribuição do PIB por Região:\n",
    "\n",
    "A distribuição do Produto Interno Bruto (PIB) tem  maior concentração em alguns municípios. Porto Velho possui o maior PIB de Rondônia. Ji-Paraná, na região central de Rondônia, possui o 2º maior PIB. Vilhena possui o 3º maior PIB de Rondônia. A cidade de Cacoal fica na 5ª colocação. \n",
    "\n",
    "Impacto do Desenvolvimento Moderado no PIB:\n",
    "Municípios classificados com desenvolvimento moderado no IFDM também se destacam em relação ao PIB. \n",
    "\n",
    "Influência da Latitude nas Consultas Médicas:\n",
    "\n",
    "Conforme o gráfico abaixo, também existe uma provável correlação entre a localização dos municípios e o número de consultas médicas. Municípios em determinadas faixas de latitude parecem  apresentar padrões distintos em relação ao acesso a consultas médicas."
   ]
  },
  {
   "cell_type": "code",
   "execution_count": 46,
   "metadata": {},
   "outputs": [
    {
     "data": {
      "image/png": "[encoded data removed]",
      "text/plain": [
       "<Figure size 640x480 with 1 Axes>"
      ]
     },
     "metadata": {},
     "output_type": "display_data"
    }
   ],
   "source": [
    "# Criando um gráfico de dispersão\n",
    "plt.scatter(sinasc_raw['munResLat'], sinasc_raw['CONSULTAS'], alpha=0.5)\n",
    "plt.title('Relação entre Localização e Consultas')\n",
    "plt.xlabel('munResLat')\n",
    "plt.ylabel('CONSULTAS')\n",
    "plt.show()"
   ]
  },
  {
   "cell_type": "code",
   "execution_count": null,
   "metadata": {},
   "outputs": [],
   "source": []
  }
 ],
 "metadata": {
  "kernelspec": {
   "display_name": "Python 3 (ipykernel)",
   "language": "python",
   "name": "python3"
  },
  "language_info": {
   "codemirror_mode": {
    "name": "ipython",
    "version": 3
   },
   "file_extension": ".py",
   "mimetype": "text/x-python",
   "name": "python",
   "nbconvert_exporter": "python",
   "pygments_lexer": "ipython3",
   "version": "3.11.5"
  },
  "varInspector": {
   "cols": {
    "lenName": 16,
    "lenType": 16,
    "lenVar": 40
   },
   "kernels_config": {
    "python": {
     "delete_cmd_postfix": "",
     "delete_cmd_prefix": "del ",
     "library": "var_list.py",
     "varRefreshCmd": "print(var_dic_list())"
    },
    "r": {
     "delete_cmd_postfix": ") ",
     "delete_cmd_prefix": "rm(",
     "library": "var_list.r",
     "varRefreshCmd": "cat(var_dic_list()) "
    }
   },
   "types_to_exclude": [
    "module",
    "function",
    "builtin_function_or_method",
    "instance",
    "_Feature"
   ],
   "window_display": false
  }
 },
 "nbformat": 4,
 "nbformat_minor": 4
}
