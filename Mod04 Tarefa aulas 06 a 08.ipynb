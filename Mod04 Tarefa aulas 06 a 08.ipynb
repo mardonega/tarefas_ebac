{
 "cells": [
  {
   "cell_type": "markdown",
   "metadata": {},
   "source": [
    "# Tarefa 03\n",
    "\n",
    "- Leia os enunciados com atenção\n",
    "- Saiba que pode haver mais de uma resposta correta\n",
    "- Insira novas células de código sempre que achar necessário\n",
    "- Em caso de dúvidas, procure os Tutores\n",
    "- Divirta-se :)"
   ]
  },
  {
   "cell_type": "code",
   "execution_count": 3,
   "metadata": {},
   "outputs": [],
   "source": [
    "import pandas as pd\n",
    "import requests"
   ]
  },
  {
   "cell_type": "markdown",
   "metadata": {},
   "source": [
    "####  1) Lendo de APIs\n",
    "Vimos em aula como carregar dados públicos do governo através de um API (*Application Programming Interface*). No exemplo de aula, baixamos os dados de pedidos de verificação de limites (PVL) realizados por estados, e selecionamos apenas aqueles referentes ao estado de São Paulo.\n",
    "\n",
    "1. Repita os mesmos passos feitos em aula, mas selecione os PVLs realizados por municípios no estado do Rio de Janeiro.\n",
    "2. Quais são os três *status* das solicitações mais frequentes na base? Quais são suas frequências?\n",
    "3. Construa uma nova variável que contenha o ano do **status**. Observe que ```data_status``` vem como tipo *object* no **DataFrame**. Dica: você pode usar o método ```.str``` para transformar o tipo da variável em string, em seguida um método como [**slice()**](https://pandas.pydata.org/docs/reference/api/pandas.Series.str.slice.html) ou [**split()**](https://pandas.pydata.org/pandas-docs/stable/reference/api/pandas.Series.str.split.html).\n",
    "4. Indique a frequência de cada ano do campo construído no item (3)."
   ]
  },
  {
   "cell_type": "code",
   "execution_count": 4,
   "metadata": {},
   "outputs": [],
   "source": [
    "# 1) Seu código aqui\n",
    "url = 'https://apidatalake.tesouro.gov.br/ords/sadipem/tt/pvl?uf=RJ&tipo_interessado=Munic%C3%ADpio'"
   ]
  },
  {
   "cell_type": "code",
   "execution_count": 5,
   "metadata": {},
   "outputs": [
    {
     "name": "stdout",
     "output_type": "stream",
     "text": [
      "Três status mais frequentes e suas frequências:\n",
      "Deferido        105\n",
      "Arquivado        53\n",
      "Regularizado     26\n",
      "Name: status, dtype: int64\n"
     ]
    }
   ],
   "source": [
    "def consultar_dados(uf, tipo_interessado):\n",
    "    base_url = 'https://apidatalake.tesouro.gov.br/ords/sadipem/tt/pvl'\n",
    "    \n",
    "    # Parâmetros da consulta\n",
    "    params = {\n",
    "        'uf': uf,\n",
    "        'tipo_interessado': tipo_interessado\n",
    "    }\n",
    "    \n",
    "    # Realiza a requisição HTTP\n",
    "    response = requests.get(base_url, params=params)\n",
    "    \n",
    "    # Verifica se a requisição foi bem-sucedida (código 200)\n",
    "    if response.status_code == 200:\n",
    "        # Converte os dados JSON para um DataFrame\n",
    "        dados_json = response.json()\n",
    "        df = pd.json_normalize(dados_json['items'])\n",
    "        return df\n",
    "    else:\n",
    "        # Se a requisição não foi bem-sucedida, imprime o código de status\n",
    "        print(f\"Falha na requisição. Código de status: {response.status_code}\")\n",
    "        return None\n",
    "\n",
    "# Chama a função para consultar os dados\n",
    "uf_consulta = 'RJ'\n",
    "tipo_interessado_consulta = 'Município'\n",
    "df = consultar_dados(uf_consulta, tipo_interessado_consulta)\n",
    "\n",
    "# Obtém as contagens dos diferentes status\n",
    "contagem_status = df['status'].value_counts()\n",
    "\n",
    "# Obtém os três status mais frequentes\n",
    "tres_status_mais_frequentes = contagem_status.head(3)\n",
    "\n",
    "# Exibe os resultados\n",
    "print(\"Três status mais frequentes e suas frequências:\")\n",
    "print(tres_status_mais_frequentes)\n"
   ]
  },
  {
   "cell_type": "code",
   "execution_count": 6,
   "metadata": {},
   "outputs": [
    {
     "name": "stdout",
     "output_type": "stream",
     "text": [
      "    data_status  ano_status\n",
      "0    2014-05-29        2014\n",
      "1    2010-12-15        2010\n",
      "2    2023-03-28        2023\n",
      "3    2022-06-23        2022\n",
      "4    2023-07-28        2023\n",
      "..          ...         ...\n",
      "254  2023-07-31        2023\n",
      "255  2023-09-25        2023\n",
      "256  2019-10-17        2019\n",
      "257  2020-08-21        2020\n",
      "258  2010-01-12        2010\n",
      "\n",
      "[259 rows x 2 columns]\n"
     ]
    },
    {
     "name": "stderr",
     "output_type": "stream",
     "text": [
      "C:\\Users\\mardo\\AppData\\Local\\Temp\\ipykernel_9600\\4149138174.py:2: UserWarning: Parsing dates in DD/MM/YYYY format when dayfirst=False (the default) was specified. This may lead to inconsistently parsed dates! Specify a format to ensure consistent parsing.\n",
      "  df['data_status'] = pd.to_datetime(df['data_status'], errors='coerce')\n"
     ]
    }
   ],
   "source": [
    "# Converte a coluna 'data_status' para o tipo datetime\n",
    "df['data_status'] = pd.to_datetime(df['data_status'], errors='coerce')\n",
    "\n",
    "# Cria a nova variável 'ano_status'\n",
    "df['ano_status'] = df['data_status'].dt.year\n",
    "\n",
    "# Exibe o DataFrame resultante\n",
    "print(df[['data_status', 'ano_status']])\n"
   ]
  },
  {
   "cell_type": "markdown",
   "metadata": {},
   "source": [
    "####  2) Melhorando a interação com o API\n",
    "Observe dois URLs de consultas diferentes, por exemplo o URL utilizado em aula, e o URL feito no exercício anterior. Compare-os e observe as diferenças.\n",
    "\n",
    "1. Faça uma função em Python que recebe como argumento o UF da consulta e o tipo de interessado (```'Estado'```ou ```Município```), e que devolve os dados da consulta no formato *DataFrame*.\n",
    "2. Quantas solicitações para o Estado podem ser consultadas para Minas Gerais com *status* em 'Arquivado por decurso de prazo' estão registradas?\n",
    "3. Qual é o município da Bahia com mais solicitações deferidas?\n",
    "4. Salve um arquivo .csv com os dados de solicitações da Bahia, com interessado = 'Estado'"
   ]
  },
  {
   "cell_type": "code",
   "execution_count": 6,
   "metadata": {},
   "outputs": [
    {
     "name": "stdout",
     "output_type": "stream",
     "text": [
      "     id_pleito tipo_interessado     interessado  cod_ibge  uf  \\\n",
      "0         5275        Município  Rio de Janeiro   3304557  RJ   \n",
      "1         5618        Município     Nova Iguaçu   3303500  RJ   \n",
      "2        62993        Município  Paraíba do Sul   3303708  RJ   \n",
      "3        60039        Município      Petrópolis   3303906  RJ   \n",
      "4        65517        Município     Nova Iguaçu   3303500  RJ   \n",
      "..         ...              ...             ...       ...  ..   \n",
      "254      65888        Município          Paraty   3303807  RJ   \n",
      "255      66685        Município       Queimados   3304144  RJ   \n",
      "256      34031        Município        Itatiaia   3302254  RJ   \n",
      "257      40746        Município     São Gonçalo   3304904  RJ   \n",
      "258       5734        Município  Rio de Janeiro   3304557  RJ   \n",
      "\n",
      "                  num_pvl                                             status  \\\n",
      "0                    None  Encaminhado à PGFN com manifestação técnica fa...   \n",
      "1                    None                                          Arquivado   \n",
      "2    PVL02.000025/2023-98                                  Deferido (PVL-IF)   \n",
      "3    PVL02.005942/2022-88                                           Deferido   \n",
      "4    PVL02.000206/2023-14                                           Deferido   \n",
      "..                    ...                                                ...   \n",
      "254  PVL02.002201/2023-26                                 Arquivado pela STN   \n",
      "255  PVL02.003545/2023-52                                           Deferido   \n",
      "256  PVL02.003023/2019-74                                  Deferido (PVL-IF)   \n",
      "257  PVL02.008720/2019-11                                           Deferido   \n",
      "258                  None                                           Deferido   \n",
      "\n",
      "             num_processo        data_protocolo  \\\n",
      "0    17944.000075/2014-47  2014-04-01T03:00:00Z   \n",
      "1    17944.000156/2010-13  2010-12-03T02:00:00Z   \n",
      "2                    None                  None   \n",
      "3    17944.102384/2022-61  2022-06-21T13:12:44Z   \n",
      "4    17944.102874/2023-48  2023-07-25T17:16:18Z   \n",
      "..                    ...                   ...   \n",
      "254  17944.103478/2023-38  2023-07-20T14:03:39Z   \n",
      "255  17944.104385/2023-21  2023-09-22T12:24:46Z   \n",
      "256                  None                  None   \n",
      "257  17944.104597/2019-21  2020-08-20T20:20:00Z   \n",
      "258  17944.000185/2010-85  2010-10-18T02:00:00Z   \n",
      "\n",
      "                                         tipo_operacao  \\\n",
      "0    Operação contratual interna (com garantia da U...   \n",
      "1                          Operação contratual interna   \n",
      "2                          Operação contratual interna   \n",
      "3                          Operação contratual interna   \n",
      "4                          Operação contratual interna   \n",
      "..                                                 ...   \n",
      "254  Operação contratual interna (com garantia da U...   \n",
      "255                        Operação contratual interna   \n",
      "256                        Operação contratual interna   \n",
      "257                        Operação contratual interna   \n",
      "258                        Operação contratual interna   \n",
      "\n",
      "                    finalidade                      tipo_credor  \\\n",
      "0               Infraestrutura  Instituição Financeira Nacional   \n",
      "1    PAC - Saneamento - 2009 A  Instituição Financeira Nacional   \n",
      "2               Infraestrutura  Instituição Financeira Nacional   \n",
      "3               Infraestrutura  Instituição Financeira Nacional   \n",
      "4               Infraestrutura  Instituição Financeira Nacional   \n",
      "..                         ...                              ...   \n",
      "254             Infraestrutura  Instituição Financeira Nacional   \n",
      "255             Multissetorial  Instituição Financeira Nacional   \n",
      "256             Infraestrutura  Instituição Financeira Nacional   \n",
      "257                      PNAFM  Instituição Financeira Nacional   \n",
      "258  PAC - Copa Pró-Transporte  Instituição Financeira Nacional   \n",
      "\n",
      "                                                credor moeda         valor  \\\n",
      "0    Banco Nacional de Desenvolvimento Econômico e ...  Real  2.715389e+09   \n",
      "1                              Caixa Econômica Federal  Real  6.073730e+07   \n",
      "2                                  Banco do Brasil S/A  Real  3.900000e+06   \n",
      "3                              Caixa Econômica Federal  Real  2.000000e+07   \n",
      "4       Agência de Fomento do Estado do Rio de Janeiro  Real  5.000000e+07   \n",
      "..                                                 ...   ...           ...   \n",
      "254                            Caixa Econômica Federal  Real  3.000000e+07   \n",
      "255     Agência de Fomento do Estado do Rio de Janeiro  Real  5.000000e+07   \n",
      "256                                Banco do Brasil S/A  Real  5.000000e+06   \n",
      "257                            Caixa Econômica Federal  Real  1.968968e+07   \n",
      "258  Banco Nacional de Desenvolvimento Econômico e ...  Real  1.179000e+09   \n",
      "\n",
      "     pvl_assoc_divida  pvl_contradado_credor data_status  \n",
      "0                   1                      0  29/05/2014  \n",
      "1                   0                      0  15/12/2010  \n",
      "2                   0                      1  28/03/2023  \n",
      "3                   0                      1  23/06/2022  \n",
      "4                   0                      1  28/07/2023  \n",
      "..                ...                    ...         ...  \n",
      "254                 0                      0  31/07/2023  \n",
      "255                 0                      0  25/09/2023  \n",
      "256                 0                      1  17/10/2019  \n",
      "257                 0                      0  21/08/2020  \n",
      "258                 1                      0  01/12/2010  \n",
      "\n",
      "[259 rows x 18 columns]\n"
     ]
    }
   ],
   "source": [
    "def consultar_dados_uf_tipo(uf, tipo_interessado):\n",
    "    base_url = 'https://apidatalake.tesouro.gov.br/ords/sadipem/tt/pvl'\n",
    "    \n",
    "    # Parâmetros da consulta\n",
    "    params = {\n",
    "        'uf': uf,\n",
    "        'tipo_interessado': tipo_interessado\n",
    "    }\n",
    "    \n",
    "    # Realiza a requisição HTTP\n",
    "    response = requests.get(base_url, params=params)\n",
    "    \n",
    "    # Verifica se a requisição foi bem-sucedida (código 200)\n",
    "    if response.status_code == 200:\n",
    "        # Converte os dados JSON para um DataFrame\n",
    "        dados_json = response.json()\n",
    "        df = pd.json_normalize(dados_json['items'])\n",
    "        return df\n",
    "    else:\n",
    "        # Se a requisição não foi bem-sucedida, imprime o código de status\n",
    "        print(f\"Falha na requisição. Código de status: {response.status_code}\")\n",
    "        return None\n",
    "\n",
    "# Exemplo \n",
    "uf_consulta = 'RJ'\n",
    "tipo_interessado_consulta = 'Município'\n",
    "resultado_df = consultar_dados_uf_tipo(uf_consulta, tipo_interessado_consulta)\n",
    "\n",
    "# Exibe o DataFrame resultante\n",
    "print(resultado_df)"
   ]
  },
  {
   "cell_type": "code",
   "execution_count": 7,
   "metadata": {},
   "outputs": [
    {
     "name": "stdout",
     "output_type": "stream",
     "text": [
      "O número de solicitações para o Estado de Minas Gerais com status 'Arquivado por decurso de prazo' é: 1\n"
     ]
    }
   ],
   "source": [
    "# Função para contar as solicitações para o Estado de Minas Gerais com status específico\n",
    "def contar_solicitacoes_arquivadas(uf, status):\n",
    "    # Chama a função para consultar os dados para o Estado de Minas Gerais e tipo de interessado 'Estado'\n",
    "    df = consultar_dados_uf_tipo(uf, 'Estado')\n",
    "\n",
    "    # Filtra os dados com base no status específico\n",
    "    df_filtrado = df[df['status'] == status]\n",
    "\n",
    "    # Obtém o número de solicitações encontradas\n",
    "    num_solicitacoes = len(df_filtrado)\n",
    "\n",
    "    # Retorna o resultado\n",
    "    return num_solicitacoes\n",
    "\n",
    "\n",
    "uf_consulta = 'MG'\n",
    "status_consulta = 'Arquivado por decurso de prazo'\n",
    "num_solicitacoes_arquivadas = contar_solicitacoes_arquivadas(uf_consulta, status_consulta)\n",
    "\n",
    "# Exibe o resultado\n",
    "print(f\"O número de solicitações para o Estado de Minas Gerais com status '{status_consulta}' é: {num_solicitacoes_arquivadas}\")"
   ]
  },
  {
   "cell_type": "code",
   "execution_count": 15,
   "metadata": {
    "scrolled": true
   },
   "outputs": [
    {
     "name": "stdout",
     "output_type": "stream",
     "text": [
      "O município do estado BA com mais solicitações deferidas é: Luís Eduardo Magalhães\n"
     ]
    }
   ],
   "source": [
    "def consultar_dados_uf_tipo(uf, tipo_interessado, base_url='https://apidatalake.tesouro.gov.br/ords/sadipem/tt/pvl'):\n",
    "    # Parâmetros da consulta\n",
    "    params = {\n",
    "        'uf': uf,\n",
    "        'tipo_interessado': tipo_interessado\n",
    "    }\n",
    "\n",
    "    # Realiza a requisição HTTP\n",
    "    response = requests.get(base_url, params=params)\n",
    "\n",
    "    # Verifica se a requisição foi bem-sucedida (código 200)\n",
    "    if response.status_code == 200:\n",
    "        # Converte os dados JSON para um DataFrame\n",
    "        dados_json = response.json()\n",
    "        df = pd.json_normalize(dados_json['items'])\n",
    "\n",
    "        return df\n",
    "    else:\n",
    "        # Se a requisição não foi bem-sucedida, imprime o código de status\n",
    "        print(f\"Falha na requisição. Código de status: {response.status_code}\")\n",
    "        return None\n",
    "\n",
    "# Função para encontrar o município com mais solicitações deferidas\n",
    "def municipio_mais_deferido(uf, tipo_interessado):\n",
    "    # Chama a função para consultar os dados\n",
    "    df = consultar_dados_uf_tipo(uf, tipo_interessado)\n",
    "\n",
    "    # Verifica se o DataFrame não está vazio\n",
    "    if df is None or df.empty:\n",
    "        print(\"Nenhum dado encontrado.\")\n",
    "        return None\n",
    "\n",
    "    # Filtra os dados para incluir apenas as solicitações deferidas\n",
    "    df_deferidas = df[df['status'].str.lower().str.contains('deferido')]\n",
    "\n",
    "    # Verifica se há dados após o filtro\n",
    "    if df_deferidas.empty:\n",
    "        print(\"Nenhum município com solicitações deferidas encontrado.\")\n",
    "        return None\n",
    "\n",
    "    # Encontra o município com mais solicitações deferidas\n",
    "    municipio_mais_deferido = df_deferidas['interessado'].value_counts().idxmax()\n",
    "\n",
    "    # Retorna o resultado\n",
    "    return municipio_mais_deferido\n",
    "\n",
    "\n",
    "uf_consulta = 'BA'\n",
    "tipo_interessado_consulta = 'Município'\n",
    "\n",
    "municipio_resultante = municipio_mais_deferido(uf_consulta, tipo_interessado_consulta)\n",
    "\n",
    "# Exibe o resultado\n",
    "if municipio_resultante is not None:\n",
    "    print(f\"O município do estado {uf_consulta} com mais solicitações deferidas é: {municipio_resultante}\")"
   ]
  },
  {
   "cell_type": "code",
   "execution_count": 11,
   "metadata": {},
   "outputs": [
    {
     "name": "stdout",
     "output_type": "stream",
     "text": [
      "Index(['id_pleito', 'tipo_interessado', 'interessado', 'cod_ibge', 'uf',\n",
      "       'num_pvl', 'status', 'num_processo', 'data_protocolo', 'tipo_operacao',\n",
      "       'finalidade', 'tipo_credor', 'credor', 'moeda', 'valor',\n",
      "       'pvl_assoc_divida', 'pvl_contradado_credor', 'data_status',\n",
      "       'ano_status'],\n",
      "      dtype='object')\n"
     ]
    }
   ],
   "source": [
    "print(df.columns)"
   ]
  },
  {
   "cell_type": "code",
   "execution_count": 23,
   "metadata": {},
   "outputs": [
    {
     "name": "stdout",
     "output_type": "stream",
     "text": [
      "Dados salvos com sucesso em 'solicitacoes_bahia_estado.csv'.\n"
     ]
    }
   ],
   "source": [
    "def consultar_dados_uf_tipo(uf, tipo_interessado, salvar_csv=False, nome_arquivo=None):\n",
    "    base_url = 'https://apidatalake.tesouro.gov.br/ords/sadipem/tt/pvl'\n",
    "    \n",
    "    # Parâmetros da consulta\n",
    "    params = {\n",
    "        'uf': uf,\n",
    "        'tipo_interessado': tipo_interessado\n",
    "    }\n",
    "    \n",
    "    # Realiza a requisição HTTP\n",
    "    response = requests.get(base_url, params=params)\n",
    "    \n",
    "    # Verifica se a requisição foi bem-sucedida (código 200)\n",
    "    if response.status_code == 200:\n",
    "        # Converte os dados JSON para um DataFrame\n",
    "        dados_json = response.json()\n",
    "        df = pd.json_normalize(dados_json['items'])\n",
    "        \n",
    "        # Salva os dados em um arquivo CSV, se solicitado\n",
    "        if salvar_csv and nome_arquivo:\n",
    "            df.to_csv(nome_arquivo, index=False)\n",
    "        \n",
    "        return df\n",
    "    else:\n",
    "        # Se a requisição não foi bem-sucedida, imprime o código de status\n",
    "        print(f\"Falha na requisição. Código de status: {response.status_code}\")\n",
    "        return None\n",
    "\n",
    "\n",
    "uf_consulta = 'BA'\n",
    "tipo_interessado_consulta = 'Estado'\n",
    "nome_arquivo_csv = 'solicitacoes_bahia_estado.csv'\n",
    "\n",
    "df_bahia_estado = consultar_dados_uf_tipo(uf_consulta, tipo_interessado_consulta, salvar_csv=True, nome_arquivo=nome_arquivo_csv)\n",
    "\n",
    "# Verifica se o DataFrame foi carregado com sucesso antes de tentar salvar\n",
    "if df_bahia_estado is not None:\n",
    "    print(f\"Dados salvos com sucesso em '{nome_arquivo_csv}'.\")"
   ]
  },
  {
   "cell_type": "code",
   "execution_count": null,
   "metadata": {},
   "outputs": [],
   "source": []
  }
 ],
 "metadata": {
  "kernelspec": {
   "display_name": "Python 3 (ipykernel)",
   "language": "python",
   "name": "python3"
  },
  "language_info": {
   "codemirror_mode": {
    "name": "ipython",
    "version": 3
   },
   "file_extension": ".py",
   "mimetype": "text/x-python",
   "name": "python",
   "nbconvert_exporter": "python",
   "pygments_lexer": "ipython3",
   "version": "3.11.4"
  }
 },
 "nbformat": 4,
 "nbformat_minor": 4
}
