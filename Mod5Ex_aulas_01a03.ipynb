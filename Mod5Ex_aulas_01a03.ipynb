{
 "cells": [
  {
   "cell_type": "markdown",
   "metadata": {},
   "source": [
    "# Módulo 5 Tarefa 1\n",
    "## Base de nascidos vivos do DataSUS\n",
    "O DataSUS disponibiliza diversos arquivos de dados com relação a seus segurados, conforme a [lei da transparência de informações públicas](https://www.sisgov.com/transparencia-acesso-informacao/#:~:text=A%20Lei%20da%20Transpar%C3%AAncia%20(LC,em%20um%20site%20na%20internet.). \n",
    "\n",
    "Essas informações podem ser obtidas pela internet [aqui](http://www2.datasus.gov.br/DATASUS/index.php?area=0901&item=1). Como o processo de obtenção desses arquivos foge um pouco do nosso escopo, deixamos o arquivo ```SINASC_RO_2019.csv``` já como vai ser encontrado no DataSUS. O dicionário de dados está no arquivo ```estrutura_sinasc_para_CD.pdf``` (o nome do arquivo tal qual no portal do DataSUS).\n",
    "\n",
    "### Nosso objetivo\n",
    "Queremos deixar uma base organizada para podermos estudar a relação entre partos com risco para o bebê e algumas condições como tempo de parto, consultas de pré-natal etc.\n",
    "\n",
    "#### Preparação da base\n",
    "1. Carregue a base 'SINASC_RO_2019.csv'. Conte o número de registros e o número de registros não duplicados da base. Dica: você aprendeu um método que remove duplicados, encadeie este método com um outro método que conta o número de linhas. **Há linhas duplicadas?**  \n",
    "\n",
    "2. Conte o número de valores *missing* por variável.  \n",
    "\n",
    "3. Ok, no item anterior você deve ter achado pouco prático ler a informação de tantas variáveis, muitas delas nem devem ser interesantes. Então crie uma seleção dessa base somente com as colunas que interessam. São elas:\n",
    "``` \n",
    "['LOCNASC', 'IDADEMAE', 'ESTCIVMAE', 'ESCMAE', 'QTDFILVIVO', \n",
    "    'GESTACAO', 'GRAVIDEZ', 'CONSULTAS', 'APGAR5'] \n",
    "```\n",
    "Refaça a contagem de valores *missings*.  \n",
    "\n",
    "4. Apgar é uma *nota* que o pediatra dá ao bebê quando nasce de acordo com algumas características associadas principalmente à respiração. Apgar 1 e Apgar 5 são as notas 1 e 5 minutos do nascimento. Apgar5 será a nossa variável de interesse principal. Então remova todos os registros com Apgar5 não preenchido. Para esta seleção, conte novamente o número de linhas e o número de *missings*.  \n",
    "\n",
    "5. observe que as variáveis ```['ESTCIVMAE', 'CONSULTAS']``` possuem o código ```9```, que significa *ignorado*. Vamos assumir que o não preenchido é o mesmo que o código ```9```.<br>\n",
    "6. Substitua os valores faltantes da quantitativa (```QTDFILVIVO```) por zero.  \n",
    "7. Das restantes, decida que valore te parece mais adequado (um 'não preenchido' ou um valor 'mais provável' como no item anterior) e preencha. Justifique. Lembre-se de que tratamento de dados é trabalho do cientista, e que estamos tomando decisões a todo o momento - não há necessariamente certo e errado aqui.  \n",
    "8. O Apgar possui uma classificação indicando se o bebê passou por asfixia:\n",
    "- Entre 8 e 10 está em uma faixa 'normal'. \n",
    "- Entre 6 e 7, significa que o recém-nascido passou por 'asfixia leve'. \n",
    "- Entre 4 e 5 significa 'asfixia moderada'.\n",
    "- Entre 0 e 3 significa 'asfixia severa'.  \n",
    "\n",
    "Crie uma categorização dessa variável com essa codificação e calcule as frequências dessa categorização.  \n",
    "<br>\n",
    "9. Renomeie as variáveis para que fiquem no *snake case*, ou seja, em letras minúsculas, com um *underscore* entre as palávras. Dica: repare que se você não quiser criar um *dataframe* novo, você vai precisar usar a opção ```inplace = True```."
   ]
  },
  {
   "cell_type": "code",
   "execution_count": 2,
   "metadata": {},
   "outputs": [
    {
     "name": "stdout",
     "output_type": "stream",
     "text": [
      "Número total de registros: 27028\n",
      "Número de registros não duplicados: 27028\n",
      "\n",
      "Não há linhas duplicadas na base de dados.\n"
     ]
    }
   ],
   "source": [
    "import pandas as pd\n",
    "import requests\n",
    "\n",
    "# Carregando a base de dados\n",
    "sinasc = 'SINASC_RO_2019.csv'\n",
    "df = pd.read_csv(sinasc)\n",
    "\n",
    "# Contando o número total de registros\n",
    "num_registros_total = len(df)\n",
    "\n",
    "# Contando o número de registros não duplicados\n",
    "num_registros_nao_duplicados = len(df.drop_duplicates())\n",
    "\n",
    "# Verificando se há linhas duplicadas\n",
    "linhas_duplicadas = df[df.duplicated()]\n",
    "\n",
    "# Exibindo os resultados\n",
    "print(f\"Número total de registros: {num_registros_total}\")\n",
    "print(f\"Número de registros não duplicados: {num_registros_nao_duplicados}\")\n",
    "\n",
    "if not linhas_duplicadas.empty:\n",
    "    print(\"\\nLinhas duplicadas encontradas:\")\n",
    "    print(linhas_duplicadas)\n",
    "else:\n",
    "    print(\"\\nNão há linhas duplicadas na base de dados.\")"
   ]
  },
  {
   "cell_type": "code",
   "execution_count": 3,
   "metadata": {},
   "outputs": [
    {
     "name": "stdout",
     "output_type": "stream",
     "text": [
      "Número de valores missing por variável:\n",
      "ORIGEM          0\n",
      "CODESTAB      115\n",
      "CODMUNNASC      0\n",
      "LOCNASC         0\n",
      "IDADEMAE        0\n",
      "             ... \n",
      "munResUf        0\n",
      "munResLat       1\n",
      "munResLon       1\n",
      "munResAlt       1\n",
      "munResArea      1\n",
      "Length: 69, dtype: int64\n"
     ]
    }
   ],
   "source": [
    "# Contando o número de valores missing por variável\n",
    "valores_missing_por_variavel = df.isnull().sum()\n",
    "\n",
    "# Exibindo os resultados\n",
    "print(\"Número de valores missing por variável:\")\n",
    "print(valores_missing_por_variavel)\n"
   ]
  },
  {
   "cell_type": "code",
   "execution_count": 4,
   "metadata": {},
   "outputs": [
    {
     "name": "stdout",
     "output_type": "stream",
     "text": [
      "   LOCNASC  IDADEMAE  ESTCIVMAE           ESCMAE  QTDFILVIVO         GESTACAO  \\\n",
      "0        1        19        5.0      8 a 11 anos         0.0  37 a 41 semanas   \n",
      "1        1        29        2.0      8 a 11 anos         1.0  37 a 41 semanas   \n",
      "2        1        37        9.0      8 a 11 anos         2.0  37 a 41 semanas   \n",
      "3        1        30        5.0  12 anos ou mais         0.0  37 a 41 semanas   \n",
      "4        1        30        2.0      8 a 11 anos         1.0  37 a 41 semanas   \n",
      "\n",
      "  GRAVIDEZ  CONSULTAS  APGAR5  \n",
      "0    Única          4    10.0  \n",
      "1    Única          4     9.0  \n",
      "2    Única          4    10.0  \n",
      "3    Única          3    10.0  \n",
      "4    Única          4    10.0  \n"
     ]
    }
   ],
   "source": [
    "# Lista de colunas desejadas\n",
    "colunas_desejadas = ['LOCNASC', 'IDADEMAE', 'ESTCIVMAE', 'ESCMAE', 'QTDFILVIVO', 'GESTACAO', 'GRAVIDEZ', 'CONSULTAS', 'APGAR5']\n",
    "\n",
    "# Criando um novo DataFrame apenas com as colunas desejadas\n",
    "df_selecionado = df[colunas_desejadas]\n",
    "\n",
    "# Exibindo as primeiras linhas do novo DataFrame\n",
    "print(df_selecionado.head())\n"
   ]
  },
  {
   "cell_type": "code",
   "execution_count": 5,
   "metadata": {},
   "outputs": [
    {
     "name": "stdout",
     "output_type": "stream",
     "text": [
      "Número de valores missing por variável no DataFrame selecionado:\n",
      "LOCNASC          0\n",
      "IDADEMAE         0\n",
      "ESTCIVMAE      317\n",
      "ESCMAE         312\n",
      "QTDFILVIVO    1573\n",
      "GESTACAO      1232\n",
      "GRAVIDEZ        79\n",
      "CONSULTAS        0\n",
      "APGAR5         103\n",
      "dtype: int64\n"
     ]
    }
   ],
   "source": [
    "# Contando o número de valores missing por variável no novo DataFrame\n",
    "valores_missing_por_variavel = df_selecionado.isnull().sum()\n",
    "\n",
    "# Exibindo os resultados\n",
    "print(\"Número de valores missing por variável no DataFrame selecionado:\")\n",
    "print(valores_missing_por_variavel)\n"
   ]
  },
  {
   "cell_type": "code",
   "execution_count": 6,
   "metadata": {},
   "outputs": [
    {
     "name": "stdout",
     "output_type": "stream",
     "text": [
      "Número total de registros após a remoção de APGAR5 missing: 26925\n",
      "\n",
      "Número de valores missing por variável no DataFrame sem APGAR5 missing:\n",
      "LOCNASC          0\n",
      "IDADEMAE         0\n",
      "ESTCIVMAE      315\n",
      "ESCMAE         310\n",
      "QTDFILVIVO    1566\n",
      "GESTACAO      1216\n",
      "GRAVIDEZ        76\n",
      "CONSULTAS        0\n",
      "APGAR5           0\n",
      "dtype: int64\n"
     ]
    }
   ],
   "source": [
    "# Removendo registros com valores ausentes em 'APGAR5'\n",
    "df_sem_apgar5_missing = df_selecionado.dropna(subset=['APGAR5'])\n",
    "\n",
    "# Contando o número total de registros após a remoção\n",
    "num_registros_sem_apgar5_missing = len(df_sem_apgar5_missing)\n",
    "\n",
    "# Contando o número de valores missing por variável no novo DataFrame\n",
    "valores_missing_por_variavel_sem_apgar5 = df_sem_apgar5_missing.isnull().sum()\n",
    "\n",
    "# Exibindo os resultados\n",
    "print(\"Número total de registros após a remoção de APGAR5 missing:\", num_registros_sem_apgar5_missing)\n",
    "print(\"\\nNúmero de valores missing por variável no DataFrame sem APGAR5 missing:\")\n",
    "print(valores_missing_por_variavel_sem_apgar5)\n"
   ]
  },
  {
   "cell_type": "code",
   "execution_count": 10,
   "metadata": {
    "scrolled": true
   },
   "outputs": [
    {
     "name": "stdout",
     "output_type": "stream",
     "text": [
      "   LOCNASC  IDADEMAE  ESTCIVMAE           ESCMAE  QTDFILVIVO         GESTACAO  \\\n",
      "0        1        19        5.0      8 a 11 anos         0.0  37 a 41 semanas   \n",
      "1        1        29        2.0      8 a 11 anos         1.0  37 a 41 semanas   \n",
      "2        1        37        0.0      8 a 11 anos         2.0  37 a 41 semanas   \n",
      "3        1        30        5.0  12 anos ou mais         0.0  37 a 41 semanas   \n",
      "4        1        30        2.0      8 a 11 anos         1.0  37 a 41 semanas   \n",
      "\n",
      "  GRAVIDEZ  CONSULTAS  APGAR5  \n",
      "0    Única          4    10.0  \n",
      "1    Única          4     9.0  \n",
      "2    Única          4    10.0  \n",
      "3    Única          3    10.0  \n",
      "4    Única          4    10.0  \n"
     ]
    },
    {
     "name": "stderr",
     "output_type": "stream",
     "text": [
      "C:\\Users\\mardo\\AppData\\Local\\Temp\\ipykernel_20852\\2133985999.py:2: SettingWithCopyWarning: \n",
      "A value is trying to be set on a copy of a slice from a DataFrame\n",
      "\n",
      "See the caveats in the documentation: https://pandas.pydata.org/pandas-docs/stable/user_guide/indexing.html#returning-a-view-versus-a-copy\n",
      "  df_selecionado['QTDFILVIVO'].fillna(0, inplace=True)\n",
      "C:\\Users\\mardo\\AppData\\Local\\Temp\\ipykernel_20852\\2133985999.py:5: SettingWithCopyWarning: \n",
      "A value is trying to be set on a copy of a slice from a DataFrame.\n",
      "Try using .loc[row_indexer,col_indexer] = value instead\n",
      "\n",
      "See the caveats in the documentation: https://pandas.pydata.org/pandas-docs/stable/user_guide/indexing.html#returning-a-view-versus-a-copy\n",
      "  df_selecionado[['ESTCIVMAE', 'CONSULTAS']] = df_selecionado[['ESTCIVMAE', 'CONSULTAS']].replace({9: 0, pd.NA: 0})\n"
     ]
    }
   ],
   "source": [
    "# Substituindo valores faltantes em 'QTDFILVIVO' por zero\n",
    "df_selecionado['QTDFILVIVO'].fillna(0, inplace=True)\n",
    "\n",
    "# Substituindo valores faltantes e valores iguais a 9 por zero em 'ESTCIVMAE' e 'CONSULTAS'\n",
    "df_selecionado[['ESTCIVMAE', 'CONSULTAS']] = df_selecionado[['ESTCIVMAE', 'CONSULTAS']].replace({9: 0, pd.NA: 0})\n",
    "\n",
    "# Exibindo as primeiras linhas do DataFrame resultante\n",
    "print(df_selecionado.head())\n"
   ]
  },
  {
   "cell_type": "code",
   "execution_count": 11,
   "metadata": {},
   "outputs": [],
   "source": [
    "\n",
    "#'LOCNASC': Como 'LOCNASC' parece ser uma variável categórica que representa o local de nascimento, substituir os valores faltantes por um valor 'mais provável' pode ser apropriado. Isso pode ser feito usando o valor mais comum ou a moda da variável.\n",
    "\n",
    "#'IDADEMAE': Para 'IDADEMAE', que representa a idade da mãe, substituir os valores faltantes por um valor 'mais provável' pode ser arriscado, pois a idade da mãe pode variar significativamente. Nesse caso, substituir por um valor como a média ou a mediana das idades existentes pode ser uma escolha mais razoável.\n",
    "\n",
    "#'ESCMAE': Se 'ESCMAE' representa a escolaridade da mãe, você pode substituir os valores faltantes por um valor 'mais provável', como a moda, se essa informação for relevante e puder ser estimada com segurança.\n",
    "\n",
    "#'GESTACAO': Se 'GESTACAO' representa a duração da gestação, a substituição por um valor 'mais provável', como a média ou mediana, pode ser razoável, desde que a distribuição dos dados não seja altamente distorcida.\n",
    "\n",
    "#'GRAVIDEZ': Para 'GRAVIDEZ', que representa a quantidade de gravidezes, você pode substituir os valores faltantes por zero, assumindo que a ausência de informação indica nenhuma gravidez anterior. Essa é uma suposição comum nesses casos, mas a escolha depende do conhecimento específico do domínio.\n"
   ]
  },
  {
   "cell_type": "code",
   "execution_count": 14,
   "metadata": {},
   "outputs": [
    {
     "name": "stdout",
     "output_type": "stream",
     "text": [
      "   LOCNASC  IDADEMAE  ESTCIVMAE           ESCMAE  QTDFILVIVO  GESTACAO  \\\n",
      "0        1        19        5.0      8 a 11 anos         0.0       NaN   \n",
      "1        1        29        2.0      8 a 11 anos         1.0       NaN   \n",
      "2        1        37        0.0      8 a 11 anos         2.0       NaN   \n",
      "3        1        30        5.0  12 anos ou mais         0.0       NaN   \n",
      "4        1        30        2.0      8 a 11 anos         1.0       NaN   \n",
      "\n",
      "  GRAVIDEZ  CONSULTAS  APGAR5  \n",
      "0    Única          4    10.0  \n",
      "1    Única          4     9.0  \n",
      "2    Única          4    10.0  \n",
      "3    Única          3    10.0  \n",
      "4    Única          4    10.0  \n"
     ]
    },
    {
     "name": "stderr",
     "output_type": "stream",
     "text": [
      "C:\\Users\\mardo\\AppData\\Local\\Temp\\ipykernel_20852\\2507646485.py:3: SettingWithCopyWarning: \n",
      "A value is trying to be set on a copy of a slice from a DataFrame\n",
      "\n",
      "See the caveats in the documentation: https://pandas.pydata.org/pandas-docs/stable/user_guide/indexing.html#returning-a-view-versus-a-copy\n",
      "  df_selecionado['LOCNASC'].fillna(df_selecionado['LOCNASC'].mode()[0], inplace=True)\n",
      "C:\\Users\\mardo\\AppData\\Local\\Temp\\ipykernel_20852\\2507646485.py:7: SettingWithCopyWarning: \n",
      "A value is trying to be set on a copy of a slice from a DataFrame\n",
      "\n",
      "See the caveats in the documentation: https://pandas.pydata.org/pandas-docs/stable/user_guide/indexing.html#returning-a-view-versus-a-copy\n",
      "  df_selecionado['IDADEMAE'].fillna(df_selecionado['IDADEMAE'].median(), inplace=True)\n",
      "C:\\Users\\mardo\\AppData\\Local\\Temp\\ipykernel_20852\\2507646485.py:11: SettingWithCopyWarning: \n",
      "A value is trying to be set on a copy of a slice from a DataFrame\n",
      "\n",
      "See the caveats in the documentation: https://pandas.pydata.org/pandas-docs/stable/user_guide/indexing.html#returning-a-view-versus-a-copy\n",
      "  df_selecionado['ESCMAE'].fillna(df_selecionado['ESCMAE'].mode()[0], inplace=True)\n",
      "C:\\Users\\mardo\\AppData\\Local\\Temp\\ipykernel_20852\\2507646485.py:15: SettingWithCopyWarning: \n",
      "A value is trying to be set on a copy of a slice from a DataFrame.\n",
      "Try using .loc[row_indexer,col_indexer] = value instead\n",
      "\n",
      "See the caveats in the documentation: https://pandas.pydata.org/pandas-docs/stable/user_guide/indexing.html#returning-a-view-versus-a-copy\n",
      "  df_selecionado['GESTACAO'] = pd.to_numeric(df_selecionado['GESTACAO'], errors='coerce')\n",
      "C:\\Users\\mardo\\AppData\\Local\\Temp\\ipykernel_20852\\2507646485.py:16: SettingWithCopyWarning: \n",
      "A value is trying to be set on a copy of a slice from a DataFrame\n",
      "\n",
      "See the caveats in the documentation: https://pandas.pydata.org/pandas-docs/stable/user_guide/indexing.html#returning-a-view-versus-a-copy\n",
      "  df_selecionado['GESTACAO'].fillna(df_selecionado['GESTACAO'].mean(), inplace=True)\n",
      "C:\\Users\\mardo\\AppData\\Local\\Temp\\ipykernel_20852\\2507646485.py:20: SettingWithCopyWarning: \n",
      "A value is trying to be set on a copy of a slice from a DataFrame\n",
      "\n",
      "See the caveats in the documentation: https://pandas.pydata.org/pandas-docs/stable/user_guide/indexing.html#returning-a-view-versus-a-copy\n",
      "  df_selecionado['GRAVIDEZ'].fillna(0, inplace=True)\n"
     ]
    }
   ],
   "source": [
    "# Como 'LOCNASC' é uma variável categórica que representa o local de nascimento, vou substituir os valores faltantes por um valor 'mais provável'. \n",
    "# Preenchendo valores faltantes em 'LOCNASC' com a moda (valor mais comum)\n",
    "df_selecionado['LOCNASC'].fillna(df_selecionado['LOCNASC'].mode()[0], inplace=True)\n",
    "\n",
    "# Para 'IDADEMAE', que representa a idade da mãe, substituir os valores faltantes por um valor 'mais provável' é arriscado, pois a idade da mãe pode variar significativamente. Nesse caso, vou substituir por um valor como a média ou a mediana das idades existentes\n",
    "# Preenchendo valores faltantes em 'IDADEMAE' com a mediana\n",
    "df_selecionado['IDADEMAE'].fillna(df_selecionado['IDADEMAE'].median(), inplace=True)\n",
    "\n",
    "# 'ESCMAE'representa a escolaridade da mãe, vou substituir os valores faltantes por um valor 'mais provável'\n",
    "# Preenchendo valores faltantes em 'ESCMAE' com a moda\n",
    "df_selecionado['ESCMAE'].fillna(df_selecionado['ESCMAE'].mode()[0], inplace=True)\n",
    "\n",
    "# 'GESTACAO' representa a duração da gestação, a substituição por um valor 'mais provável', como a média ou mediana, pode ser razoável\n",
    "# Convertendo a coluna 'GESTACAO' para numérica e preenchendo valores faltantes com a média\n",
    "df_selecionado['GESTACAO'] = pd.to_numeric(df_selecionado['GESTACAO'], errors='coerce')\n",
    "df_selecionado['GESTACAO'].fillna(df_selecionado['GESTACAO'].mean(), inplace=True)\n",
    "\n",
    "# 'GRAVIDEZ' representa a quantidade de gravidezes, voue substituir os valores faltantes por zero, assumindo que a ausência de informação indica nenhuma gravidez anterior. \n",
    "# Preenchendo valores faltantes em 'GRAVIDEZ' com zero\n",
    "df_selecionado['GRAVIDEZ'].fillna(0, inplace=True)\n",
    "\n",
    "# Exibindo as primeiras linhas do DataFrame resultante\n",
    "print(df_selecionado.head())\n"
   ]
  },
  {
   "cell_type": "code",
   "execution_count": 15,
   "metadata": {},
   "outputs": [
    {
     "name": "stdout",
     "output_type": "stream",
     "text": [
      "Frequências da categorização do Apgar:\n",
      "normal              18311\n",
      "asfixia leve          124\n",
      "asfixia severa         59\n",
      "asfixia moderada       38\n",
      "Name: APGAR_categoria, dtype: int64\n"
     ]
    }
   ],
   "source": [
    "# Criando a coluna de categorização do Apgar\n",
    "bins = [-1, 3, 5, 7, 10]\n",
    "labels = ['asfixia severa', 'asfixia moderada', 'asfixia leve', 'normal']\n",
    "df['APGAR_categoria'] = pd.cut(df['APGAR5'], bins=bins, labels=labels, right=False)\n",
    "\n",
    "# Calculando as frequências da categorização do Apgar\n",
    "frequencias_apgar_categoria = df['APGAR_categoria'].value_counts()\n",
    "\n",
    "# Exibindo as frequências\n",
    "print(\"Frequências da categorização do Apgar:\")\n",
    "print(frequencias_apgar_categoria)\n"
   ]
  },
  {
   "cell_type": "code",
   "execution_count": 16,
   "metadata": {},
   "outputs": [
    {
     "name": "stdout",
     "output_type": "stream",
     "text": [
      "   ORIGEM   CODESTAB  CODMUNNASC  loc_nasc  idade_mae  est_civ_mae  \\\n",
      "0       1  2679477.0      110001         1         19          5.0   \n",
      "1       1  2679477.0      110001         1         29          2.0   \n",
      "2       1  2679477.0      110001         1         37          9.0   \n",
      "3       1  2516500.0      110001         1         30          5.0   \n",
      "4       1  2516500.0      110001         1         30          2.0   \n",
      "\n",
      "           esc_mae  CODOCUPMAE  qtd_fil_vivo  QTDFILMORT  ...  CONTADOR  \\\n",
      "0      8 a 11 anos         NaN           0.0         0.0  ...         1   \n",
      "1      8 a 11 anos    999992.0           1.0         0.0  ...         2   \n",
      "2      8 a 11 anos    513205.0           2.0         0.0  ...         3   \n",
      "3  12 anos ou mais    231205.0           0.0         0.0  ...         4   \n",
      "4      8 a 11 anos    999992.0           1.0         0.0  ...         5   \n",
      "\n",
      "  munResStatus munResTipo               munResNome  munResUf munResLat  \\\n",
      "0        ATIVO      MUNIC    Alta Floresta D'Oeste  Rondônia -11.93554   \n",
      "1        ATIVO      MUNIC    Alta Floresta D'Oeste  Rondônia -11.93554   \n",
      "2        ATIVO      MUNIC    Alta Floresta D'Oeste  Rondônia -11.93554   \n",
      "3        ATIVO      MUNIC  Alto Alegre dos Parecis  Rondônia -12.13178   \n",
      "4        ATIVO      MUNIC    Alta Floresta D'Oeste  Rondônia -11.93554   \n",
      "\n",
      "   munResLon munResAlt  munResArea  APGAR_categoria  \n",
      "0  -61.99982     338.0    7067.025              NaN  \n",
      "1  -61.99982     338.0    7067.025           normal  \n",
      "2  -61.99982     338.0    7067.025              NaN  \n",
      "3  -61.85308     397.0    3958.273              NaN  \n",
      "4  -61.99982     338.0    7067.025              NaN  \n",
      "\n",
      "[5 rows x 70 columns]\n"
     ]
    }
   ],
   "source": [
    "# Renomeando as variáveis para snake case\n",
    "df.rename(columns={\n",
    "    'LOCNASC': 'loc_nasc',\n",
    "    'IDADEMAE': 'idade_mae',\n",
    "    'ESTCIVMAE': 'est_civ_mae',\n",
    "    'ESCMAE': 'esc_mae',\n",
    "    'QTDFILVIVO': 'qtd_fil_vivo',\n",
    "    'GESTACAO': 'gestacao',\n",
    "    'GRAVIDEZ': 'gravidez',\n",
    "    'CONSULTAS': 'consultas',\n",
    "    'APGAR5': 'apgar5'\n",
    "}, inplace=True)\n",
    "\n",
    "# Exibindo as primeiras linhas do DataFrame resultante\n",
    "print(df.head())"
   ]
  },
  {
   "cell_type": "code",
   "execution_count": null,
   "metadata": {},
   "outputs": [],
   "source": []
  }
 ],
 "metadata": {
  "kernelspec": {
   "display_name": "Python 3 (ipykernel)",
   "language": "python",
   "name": "python3"
  },
  "language_info": {
   "codemirror_mode": {
    "name": "ipython",
    "version": 3
   },
   "file_extension": ".py",
   "mimetype": "text/x-python",
   "name": "python",
   "nbconvert_exporter": "python",
   "pygments_lexer": "ipython3",
   "version": "3.11.4"
  }
 },
 "nbformat": 4,
 "nbformat_minor": 4
}
