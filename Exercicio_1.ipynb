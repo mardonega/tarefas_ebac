{
 "cells": [
  {
   "cell_type": "markdown",
   "id": "f697b4b8",
   "metadata": {},
   "source": [
    "<span style=\"color:green; font-size:large;\">Fórmula de Bhaskara</span>"
   ]
  },
  {
   "cell_type": "markdown",
   "id": "185104de",
   "metadata": {},
   "source": [
    "A solução para uma função de segundo grau depende das suas raízes (valores de x). Como já vimos, os coeficientes precisam ser números reais e o angular diferente de zero. Sendo assum, temos a seguinte fórmula de Bhaskara:"
   ]
  },
  {
   "cell_type": "markdown",
   "id": "aade7e64",
   "metadata": {},
   "source": [
    "$$x = \\frac{{-b \\pm \\sqrt{{b^2 - 4ac}}}}{{2a}}$$"
   ]
  },
  {
   "cell_type": "markdown",
   "id": "1c3437fd",
   "metadata": {},
   "source": [
    "Para melhor compreensão o seu cálculo é dividido em duas partes: discriminante da equação e operações para determinar as raízes."
   ]
  },
  {
   "cell_type": "markdown",
   "id": "8052fde4",
   "metadata": {},
   "source": [
    "<span style=\"color:black; font-weight:bold;\">Discriminante</span>"
   ]
  },
  {
   "cell_type": "markdown",
   "id": "6188f638",
   "metadata": {},
   "source": [
    "A figura dentro da raiz na fórmula de Bhaskara é nomeada de discriminante. Seu símbolo é a letra delta e apresenta a determinada fórmula:"
   ]
  },
  {
   "cell_type": "markdown",
   "id": "6df89fda",
   "metadata": {},
   "source": [
    "$$\\Delta = b^2 - 4ac$$"
   ]
  },
  {
   "cell_type": "markdown",
   "id": "3f951b5f",
   "metadata": {},
   "source": [
    "<center><span style=\"color:black; font-size:medium;\">Fórmula da discriminante</span></center>"
   ]
  },
  {
   "cell_type": "markdown",
   "id": "5b75aab7",
   "metadata": {},
   "source": [
    "- Se o delta for maior que zero, a equação terá dois valores reais e distintos.\n",
    "- Se o delta for igual a zero, a equação terá somente um valor real ou os dois resultados iguais.\n",
    "- Se o delta for menor que zero, a equação não possui valores reais."
   ]
  },
  {
   "cell_type": "code",
   "execution_count": null,
   "id": "05b30df6",
   "metadata": {},
   "outputs": [],
   "source": []
  }
 ],
 "metadata": {
  "kernelspec": {
   "display_name": "Python 3 (ipykernel)",
   "language": "python",
   "name": "python3"
  },
  "language_info": {
   "codemirror_mode": {
    "name": "ipython",
    "version": 3
   },
   "file_extension": ".py",
   "mimetype": "text/x-python",
   "name": "python",
   "nbconvert_exporter": "python",
   "pygments_lexer": "ipython3",
   "version": "3.11.5"
  }
 },
 "nbformat": 4,
 "nbformat_minor": 5
}
