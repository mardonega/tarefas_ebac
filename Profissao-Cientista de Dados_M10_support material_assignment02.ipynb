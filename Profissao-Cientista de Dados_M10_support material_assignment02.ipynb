{
 "cells": [
  {
   "cell_type": "markdown",
   "metadata": {},
   "source": [
    "# Módulo 10 tarefa 2\n",
    "\n",
    "Considere a mesma base de dados utilizada na tarefa 1 ```previsao_de_renda.csv```."
   ]
  },
  {
   "cell_type": "markdown",
   "metadata": {},
   "source": [
    "1) Com o que você viu em aula, faça uma análise das variáveis qualitativas (posse de imóvel e posse de veículo) para verificar se são boas preditoras de *renda*. Alguma delas parece discriminar *renda* de forma estatisticamente significante?"
   ]
  },
  {
   "cell_type": "markdown",
   "metadata": {},
   "source": [
    "Para verificar se as variáveis qualitativas 'Posse de Imóvel' e 'Posse de Veículo' são boas preditoras de renda e se discriminam renda de forma estatisticamente significante, vou utilizar o teste de Análise da Variância (ANOVA) para cada uma dessas variáveis em relação à renda. "
   ]
  },
  {
   "cell_type": "code",
   "execution_count": 2,
   "metadata": {},
   "outputs": [],
   "source": [
    "import pandas as pd\n",
    "import matplotlib.pyplot as plt\n",
    "import statsmodels.api as sm\n",
    "from statsmodels.formula.api import ols\n",
    "import seaborn as sns\n",
    "import numpy as np\n",
    "\n",
    "df = pd.read_csv('previsao_de_renda.csv')\n"
   ]
  },
  {
   "cell_type": "code",
   "execution_count": 4,
   "metadata": {},
   "outputs": [
    {
     "name": "stdout",
     "output_type": "stream",
     "text": [
      "ANOVA para 'Posse de Imóvel':\n",
      "                         sum_sq       df          F        PR(>F)\n",
      "C(posse_de_imovel)    19.553316      1.0  30.833273  2.859501e-08\n",
      "Residual            9511.174211  14998.0        NaN           NaN\n",
      "\n",
      "ANOVA para 'Posse de Veículo':\n",
      "                          sum_sq       df           F        PR(>F)\n",
      "C(posse_de_veiculo)    78.103977      1.0  123.923632  1.133956e-28\n",
      "Residual             9452.623549  14998.0         NaN           NaN\n"
     ]
    }
   ],
   "source": [
    "# Calcular o logaritmo da variável 'renda'\n",
    "df['renda_log'] = np.log1p(df['renda'])\n",
    "\n",
    "# Ajustar o modelo ANOVA para 'Posse de Imóvel'\n",
    "modelo_imovel = ols('renda_log ~ C(posse_de_imovel)', data=df).fit()\n",
    "\n",
    "# Executar a ANOVA para 'Posse de Imóvel'\n",
    "anova_imovel = sm.stats.anova_lm(modelo_imovel, typ=2)\n",
    "\n",
    "# Imprimir os resultados da ANOVA para 'Posse de Imóvel'\n",
    "print(\"ANOVA para 'Posse de Imóvel':\")\n",
    "print(anova_imovel)\n",
    "\n",
    "# Ajustar o modelo ANOVA para 'Posse de Veículo'\n",
    "modelo_veiculo = ols('renda_log ~ C(posse_de_veiculo)', data=df).fit()\n",
    "\n",
    "# Executar a ANOVA para 'Posse de Veículo'\n",
    "anova_veiculo = sm.stats.anova_lm(modelo_veiculo, typ=2)\n",
    "\n",
    "# Imprimir os resultados da ANOVA para 'Posse de Veículo'\n",
    "print(\"\\nANOVA para 'Posse de Veículo':\")\n",
    "print(anova_veiculo)"
   ]
  },
  {
   "cell_type": "code",
   "execution_count": null,
   "metadata": {},
   "outputs": [],
   "source": [
    "Ambas as ANOVAs indicam que as variáveis 'Posse de Imóvel' e 'Posse de Veículo' são estatisticamente \n",
    "significativas como preditoras de renda.\n",
    "\n",
    "Interpretando os resultados:\n",
    "\n",
    "ANOVA para 'Posse de Imóvel':\n",
    "\n",
    "O valor de F é significativamente diferente de 1 (F = 30.83).\n",
    "O valor p (PR(>F)) é muito pequeno, indicando que há uma diferença estatisticamente \n",
    "significativa nas médias da renda entre os grupos de 'Posse de Imóvel'.\n",
    "\n",
    "ANOVA para 'Posse de Veículo':\n",
    "    \n",
    "O valor de F é significativamente diferente de 1 (F = 123.92).\n",
    "O valor p (PR(>F)) também é muito pequeno, indicando que há uma diferença estatisticamente \n",
    "significativa nas médias da renda entre os grupos de 'Posse de Veículo'.\n",
    "Portanto, com base nos resultados da ANOVA, parece que tanto 'Posse de Imóvel' quanto 'Posse de Veículo' são boas preditoras de renda e discriminam\n",
    "a renda de forma estatisticamente significativa. As diferenças nas médias da renda entre os diferentes níveis dessas variáveis são estatisticamente significantes."
   ]
  }
 ],
 "metadata": {
  "kernelspec": {
   "display_name": "Python 3 (ipykernel)",
   "language": "python",
   "name": "python3"
  },
  "language_info": {
   "codemirror_mode": {
    "name": "ipython",
    "version": 3
   },
   "file_extension": ".py",
   "mimetype": "text/x-python",
   "name": "python",
   "nbconvert_exporter": "python",
   "pygments_lexer": "ipython3",
   "version": "3.11.5"
  }
 },
 "nbformat": 4,
 "nbformat_minor": 4
}
