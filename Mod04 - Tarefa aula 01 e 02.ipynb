{
 "cells": [
  {
   "cell_type": "markdown",
   "metadata": {},
   "source": [
    "# Tarefa 01\n",
    "\n",
    "- Leia os enunciados com atenção\n",
    "- Saiba que pode haver mais de uma resposta correta\n",
    "- Insira novas células de código sempre que achar necessário\n",
    "- Em caso de dúvidas, procure os tutores\n",
    "- Divirta-se :)\n",
    "\n",
    "#### 1)  crie uma série do pandas a partir de uma lista com os dados abaixo:\n",
    "\n",
    "Em um estudo sobre alteração na tempreatura global, A NASA disponibiliza dados de diferenças de de temperatura média da superfície terrestre relativos às médias de temperatura entre 1951 e 1980. Os dados originais podem ser vistos no site da NASA/GISS, e estão dispostos a cada década na tabela abaixo.\n",
    "\n",
    "|ano|anomalia termica|\n",
    "|:-:|:----:|\n",
    "| 1900 | -0.08 |\n",
    "| 1920 | -0.27 |\n",
    "| 1940 | 0.12 |\n",
    "| 1960 | -0.03 |\n",
    "| 1980 | 0.26 |\n",
    "| 2000 | 0.40 |\n",
    "| 2020 | 1.02 |\n",
    "\n",
    "Crie uma séries do Pandas a partir de uma lista com esses dados."
   ]
  },
  {
   "cell_type": "code",
   "execution_count": 1,
   "metadata": {},
   "outputs": [],
   "source": [
    "import pandas as pd\n",
    "import numpy as np\n",
    "\n",
    "data = {\n",
    "    'Ano': [1900, 1920, 1940, 1960, 1980, 2000, 2020],\n",
    "    'Anomalia Termica': [-0.08, -0.27, 0.12, -0.03, 0.26, 0.40, 1.02]\n",
    "}\n",
    "\n",
    "df = pd.DataFrame(data)"
   ]
  },
  {
   "cell_type": "markdown",
   "metadata": {},
   "source": [
    "#### 2) Coloque os anos nos índices conforme a tabela."
   ]
  },
  {
   "cell_type": "code",
   "execution_count": 2,
   "metadata": {},
   "outputs": [
    {
     "name": "stdout",
     "output_type": "stream",
     "text": [
      "    Ano  Anomalia Termica\n",
      "0  1900             -0.08\n",
      "1  1920             -0.27\n",
      "2  1940              0.12\n",
      "3  1960             -0.03\n",
      "4  1980              0.26\n",
      "5  2000              0.40\n",
      "6  2020              1.02\n"
     ]
    }
   ],
   "source": [
    "\n",
    "print(df)\n"
   ]
  },
  {
   "cell_type": "markdown",
   "metadata": {},
   "source": [
    "#### 3) A partir do dicionário abaixo, crie uma séries do Pandas:"
   ]
  },
  {
   "cell_type": "code",
   "execution_count": 3,
   "metadata": {},
   "outputs": [
    {
     "name": "stdout",
     "output_type": "stream",
     "text": [
      "1900   -0.08\n",
      "1920   -0.27\n",
      "1940    0.12\n",
      "1960   -0.03\n",
      "1980    0.26\n",
      "2000    0.40\n",
      "2020    1.02\n",
      "dtype: float64\n"
     ]
    }
   ],
   "source": [
    "dic_temperaturas = {1900: -.08, 1920: -.27, 1940: .12, 1960: -.03, 1980: .26, 2000: .40, 2020: 1.02}\n",
    "\n",
    "serie_temperaturas = pd.Series(dic_temperaturas)\n",
    "print(serie_temperaturas)\n",
    "\n"
   ]
  },
  {
   "cell_type": "markdown",
   "metadata": {},
   "source": [
    "#### 4) Transforme o ndarray abaixo em um dataframe. \n",
    "O numpy é capaz de gerar arrays n-dimensionais com números pseudo-aleatórios de acordo com uma variedade de distribuições, como no exemplo abaixo. Transforme esse nd-array em um DataFrame."
   ]
  },
  {
   "cell_type": "code",
   "execution_count": 4,
   "metadata": {},
   "outputs": [
    {
     "name": "stdout",
     "output_type": "stream",
     "text": [
      "       Coluna1     Coluna2     Coluna3\n",
      "0    77.890013  103.057955  114.684023\n",
      "1   119.511942   91.382810  102.219915\n",
      "2    92.188728   99.183219  107.641870\n",
      "3    94.986203   84.555387   98.664632\n",
      "4   102.797444  101.053020   91.734456\n",
      "5    93.920671  103.745905   87.989207\n",
      "6   102.912785  101.641553  103.818751\n",
      "7    99.395429  116.852472   75.273657\n",
      "8   110.643565   79.453051   97.036177\n",
      "9    94.577630  102.202005   89.517490\n",
      "10   89.438412   90.430969  103.219539\n",
      "11  102.752067   87.622751  102.510212\n",
      "12   94.400292  116.497036   76.897984\n",
      "13   89.835511  103.702788   94.462534\n",
      "14  118.288536  110.330916   84.270008\n",
      "15  109.049980   82.976063   88.586054\n",
      "16  104.139512   93.778720   92.532190\n",
      "17  105.692042   94.048919   87.141233\n",
      "18   93.733030  106.730477  101.888405\n",
      "19   81.094051  104.138198   96.217157\n"
     ]
    }
   ],
   "source": [
    "arr = np.random.normal(100, 10, (20,3))\n",
    "\n",
    "df = pd.DataFrame(arr, columns=['Coluna1', 'Coluna2', 'Coluna3'])\n",
    "print(df)"
   ]
  },
  {
   "cell_type": "markdown",
   "metadata": {},
   "source": [
    "#### 5) Nomeie os índices das linhas com inteiros de 1 a 20, e as colunas com os nomes \"x1\", \"x2\", e \"x3\" respectivamente."
   ]
  },
  {
   "cell_type": "code",
   "execution_count": 5,
   "metadata": {},
   "outputs": [
    {
     "name": "stdout",
     "output_type": "stream",
     "text": [
      "            x1          x2          x3\n",
      "1    77.890013  103.057955  114.684023\n",
      "2   119.511942   91.382810  102.219915\n",
      "3    92.188728   99.183219  107.641870\n",
      "4    94.986203   84.555387   98.664632\n",
      "5   102.797444  101.053020   91.734456\n",
      "6    93.920671  103.745905   87.989207\n",
      "7   102.912785  101.641553  103.818751\n",
      "8    99.395429  116.852472   75.273657\n",
      "9   110.643565   79.453051   97.036177\n",
      "10   94.577630  102.202005   89.517490\n",
      "11   89.438412   90.430969  103.219539\n",
      "12  102.752067   87.622751  102.510212\n",
      "13   94.400292  116.497036   76.897984\n",
      "14   89.835511  103.702788   94.462534\n",
      "15  118.288536  110.330916   84.270008\n",
      "16  109.049980   82.976063   88.586054\n",
      "17  104.139512   93.778720   92.532190\n",
      "18  105.692042   94.048919   87.141233\n",
      "19   93.733030  106.730477  101.888405\n",
      "20   81.094051  104.138198   96.217157\n"
     ]
    }
   ],
   "source": [
    "df = pd.DataFrame(arr, columns=['x1', 'x2', 'x3'])\n",
    "df.index = range(1, 21)\n",
    "print(df)\n"
   ]
  },
  {
   "cell_type": "markdown",
   "metadata": {},
   "source": [
    "#### 6) No DataFrame do exercício 5, crie uma nova coluna como sendo a média das três colunas, e dê a ela o nome de \"media\" (não recomendo colocar acentos em nomes de variáveis)."
   ]
  },
  {
   "cell_type": "code",
   "execution_count": 6,
   "metadata": {},
   "outputs": [
    {
     "name": "stdout",
     "output_type": "stream",
     "text": [
      "            x1          x2          x3       media\n",
      "1    77.890013  103.057955  114.684023   98.543997\n",
      "2   119.511942   91.382810  102.219915  104.371556\n",
      "3    92.188728   99.183219  107.641870   99.671272\n",
      "4    94.986203   84.555387   98.664632   92.735407\n",
      "5   102.797444  101.053020   91.734456   98.528307\n",
      "6    93.920671  103.745905   87.989207   95.218594\n",
      "7   102.912785  101.641553  103.818751  102.791030\n",
      "8    99.395429  116.852472   75.273657   97.173853\n",
      "9   110.643565   79.453051   97.036177   95.710931\n",
      "10   94.577630  102.202005   89.517490   95.432375\n",
      "11   89.438412   90.430969  103.219539   94.362974\n",
      "12  102.752067   87.622751  102.510212   97.628343\n",
      "13   94.400292  116.497036   76.897984   95.931771\n",
      "14   89.835511  103.702788   94.462534   96.000278\n",
      "15  118.288536  110.330916   84.270008  104.296487\n",
      "16  109.049980   82.976063   88.586054   93.537366\n",
      "17  104.139512   93.778720   92.532190   96.816807\n",
      "18  105.692042   94.048919   87.141233   95.627398\n",
      "19   93.733030  106.730477  101.888405  100.783971\n",
      "20   81.094051  104.138198   96.217157   93.816469\n"
     ]
    }
   ],
   "source": [
    "df['media'] = df.mean(axis=1)\n",
    "print(df)"
   ]
  },
  {
   "cell_type": "markdown",
   "metadata": {},
   "source": [
    "#### 7) No DataFrame do exercício 6, crie uma nova coluna chamada \"log_med\", contendo o logaritmo natural da média calculada no exercício 6 <br>"
   ]
  },
  {
   "cell_type": "code",
   "execution_count": 7,
   "metadata": {},
   "outputs": [
    {
     "name": "stdout",
     "output_type": "stream",
     "text": [
      "            x1          x2          x3       media   log_med\n",
      "1    77.890013  103.057955  114.684023   98.543997  4.590503\n",
      "2   119.511942   91.382810  102.219915  104.371556  4.647957\n",
      "3    92.188728   99.183219  107.641870   99.671272  4.601877\n",
      "4    94.986203   84.555387   98.664632   92.735407  4.529750\n",
      "5   102.797444  101.053020   91.734456   98.528307  4.590344\n",
      "6    93.920671  103.745905   87.989207   95.218594  4.556175\n",
      "7   102.912785  101.641553  103.818751  102.791030  4.632698\n",
      "8    99.395429  116.852472   75.273657   97.173853  4.576502\n",
      "9   110.643565   79.453051   97.036177   95.710931  4.561333\n",
      "10   94.577630  102.202005   89.517490   95.432375  4.558418\n",
      "11   89.438412   90.430969  103.219539   94.362974  4.547149\n",
      "12  102.752067   87.622751  102.510212   97.628343  4.581168\n",
      "13   94.400292  116.497036   76.897984   95.931771  4.563637\n",
      "14   89.835511  103.702788   94.462534   96.000278  4.564351\n",
      "15  118.288536  110.330916   84.270008  104.296487  4.647238\n",
      "16  109.049980   82.976063   88.586054   93.537366  4.538361\n",
      "17  104.139512   93.778720   92.532190   96.816807  4.572821\n",
      "18  105.692042   94.048919   87.141233   95.627398  4.560459\n",
      "19   93.733030  106.730477  101.888405  100.783971  4.612979\n",
      "20   81.094051  104.138198   96.217157   93.816469  4.541340\n"
     ]
    }
   ],
   "source": [
    "df['log_med'] = np.log(df['media'])\n",
    "print(df)"
   ]
  },
  {
   "cell_type": "code",
   "execution_count": null,
   "metadata": {},
   "outputs": [],
   "source": []
  }
 ],
 "metadata": {
  "kernelspec": {
   "display_name": "Python 3 (ipykernel)",
   "language": "python",
   "name": "python3"
  },
  "language_info": {
   "codemirror_mode": {
    "name": "ipython",
    "version": 3
   },
   "file_extension": ".py",
   "mimetype": "text/x-python",
   "name": "python",
   "nbconvert_exporter": "python",
   "pygments_lexer": "ipython3",
   "version": "3.11.4"
  }
 },
 "nbformat": 4,
 "nbformat_minor": 4
}
