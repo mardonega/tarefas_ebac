{
 "cells": [
  {
   "cell_type": "code",
   "execution_count": 2,
   "metadata": {
    "ExecuteTime": {
     "end_time": "2021-06-06T21:12:37.298706Z",
     "start_time": "2021-06-06T21:12:36.656481Z"
    }
   },
   "outputs": [],
   "source": [
    "import numpy as np\n",
    "import pandas as pd\n",
    "import seaborn as sns\n",
    "import matplotlib.pyplot as plt\n",
    "import sys\n",
    "import os\n",
    "\n",
    "\n",
    "sns.set_theme()  \n"
   ]
  },
  {
   "cell_type": "code",
   "execution_count": 4,
   "metadata": {},
   "outputs": [
    {
     "name": "stdout",
     "output_type": "stream",
     "text": [
      "Abreviatura de mês inválida: -f\n",
      "Abreviatura de mês inválida: C:\\Users\\Donegá\\AppData\\Roaming\\jupyter\\runtime\\kernel-d059736a-f23c-41b9-bbd5-81b5df6cd9ff.json\n"
     ]
    }
   ],
   "source": [
    "# Verificar se foram fornecidos argumentos de linha de comando\n",
    "if len(sys.argv) < 2:\n",
    "    print(\"Por favor, forneça uma lista de abreviaturas de meses como argumentos.\")\n",
    "    sys.exit(1)\n",
    "\n",
    "# Lista de abreviaturas de meses fornecida como argumentos de linha de comando\n",
    "meses_abreviados = sys.argv[1:]\n",
    "\n",
    "# Criar diretório para cada mês\n",
    "for mes_abreviado in meses_abreviados:\n",
    "    nome_mes = {\n",
    "        \"JAN\": \"01\",\n",
    "        \"FEV\": \"02\",\n",
    "        \"MAR\": \"03\",\n",
    "        \"ABR\": \"04\",\n",
    "        \"MAI\": \"05\",\n",
    "        \"JUN\": \"06\",\n",
    "        \"JUL\": \"07\",\n",
    "        \"AGO\": \"08\",\n",
    "        \"SET\": \"09\",\n",
    "        \"OUT\": \"10\",\n",
    "        \"NOV\": \"11\",\n",
    "        \"DEZ\": \"12\"\n",
    "    }.get(mes_abreviado.upper(), None)\n",
    "\n",
    "    if nome_mes:\n",
    "        # Criar diretório para o mês\n",
    "        nome_diretorio = f\"2019-{nome_mes}\"\n",
    "        os.makedirs(nome_diretorio, exist_ok=True)\n",
    "\n",
    "        # Gerar os gráficos relevantes para o mês \n",
    "        print(f\"Diretório criado para o mês {nome_diretorio}\")\n",
    "    else:\n",
    "        print(f\"Abreviatura de mês inválida: {mes_abreviado}\")"
   ]
  },
  {
   "cell_type": "code",
   "execution_count": null,
   "metadata": {},
   "outputs": [],
   "source": []
  }
 ],
 "metadata": {
  "kernelspec": {
   "display_name": "Python 3 (ipykernel)",
   "language": "python",
   "name": "python3"
  },
  "language_info": {
   "codemirror_mode": {
    "name": "ipython",
    "version": 3
   },
   "file_extension": ".py",
   "mimetype": "text/x-python",
   "name": "python",
   "nbconvert_exporter": "python",
   "pygments_lexer": "ipython3",
   "version": "3.11.5"
  },
  "varInspector": {
   "cols": {
    "lenName": 16,
    "lenType": 16,
    "lenVar": 40
   },
   "kernels_config": {
    "python": {
     "delete_cmd_postfix": "",
     "delete_cmd_prefix": "del ",
     "library": "var_list.py",
     "varRefreshCmd": "print(var_dic_list())"
    },
    "r": {
     "delete_cmd_postfix": ") ",
     "delete_cmd_prefix": "rm(",
     "library": "var_list.r",
     "varRefreshCmd": "cat(var_dic_list()) "
    }
   },
   "types_to_exclude": [
    "module",
    "function",
    "builtin_function_or_method",
    "instance",
    "_Feature"
   ],
   "window_display": false
  }
 },
 "nbformat": 4,
 "nbformat_minor": 4
}
