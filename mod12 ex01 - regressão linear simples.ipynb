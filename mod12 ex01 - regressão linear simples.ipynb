{
 "cells": [
  {
   "cell_type": "markdown",
   "metadata": {},
   "source": [
    "# Regressão 01 - tarefa 01"
   ]
  },
  {
   "cell_type": "markdown",
   "metadata": {},
   "source": [
    "### 1. Explorando a base de gorjetas\n",
    "\n",
    "a. Na aula fizemos uma regressão de ```tip``` explicada por ```net_bill```. Carregue os pacotes e a base, crie as variáveis necessárias como na aula, e reproduza esta regressão.\n",
    "\n",
    "b. Reproduza também o gráfico de dispersão dessas duas variáveis."
   ]
  },
  {
   "cell_type": "code",
   "execution_count": 11,
   "metadata": {},
   "outputs": [],
   "source": [
    "import pandas as pd\n",
    "import seaborn as sns\n",
    "from seaborn import load_dataset\n",
    "import matplotlib.pyplot as plt\n",
    "import seaborn as sns\n",
    "import numpy as np\n",
    "\n",
    "import patsy\n",
    "import statsmodels.api as sm\n",
    "import statsmodels.formula.api as smf\n",
    "from sklearn.metrics import r2_score\n",
    "\n",
    "\n",
    "%matplotlib inline"
   ]
  },
  {
   "cell_type": "code",
   "execution_count": 2,
   "metadata": {},
   "outputs": [
    {
     "data": {
      "text/html": [
       "<div>\n",
       "<style scoped>\n",
       "    .dataframe tbody tr th:only-of-type {\n",
       "        vertical-align: middle;\n",
       "    }\n",
       "\n",
       "    .dataframe tbody tr th {\n",
       "        vertical-align: top;\n",
       "    }\n",
       "\n",
       "    .dataframe thead th {\n",
       "        text-align: right;\n",
       "    }\n",
       "</style>\n",
       "<table border=\"1\" class=\"dataframe\">\n",
       "  <thead>\n",
       "    <tr style=\"text-align: right;\">\n",
       "      <th></th>\n",
       "      <th>total_bill</th>\n",
       "      <th>tip</th>\n",
       "      <th>sex</th>\n",
       "      <th>smoker</th>\n",
       "      <th>day</th>\n",
       "      <th>time</th>\n",
       "      <th>size</th>\n",
       "      <th>tip_pct</th>\n",
       "      <th>net_bill</th>\n",
       "    </tr>\n",
       "  </thead>\n",
       "  <tbody>\n",
       "    <tr>\n",
       "      <th>0</th>\n",
       "      <td>16.99</td>\n",
       "      <td>1.01</td>\n",
       "      <td>Female</td>\n",
       "      <td>No</td>\n",
       "      <td>Sun</td>\n",
       "      <td>Dinner</td>\n",
       "      <td>2</td>\n",
       "      <td>0.063204</td>\n",
       "      <td>15.98</td>\n",
       "    </tr>\n",
       "    <tr>\n",
       "      <th>1</th>\n",
       "      <td>10.34</td>\n",
       "      <td>1.66</td>\n",
       "      <td>Male</td>\n",
       "      <td>No</td>\n",
       "      <td>Sun</td>\n",
       "      <td>Dinner</td>\n",
       "      <td>3</td>\n",
       "      <td>0.191244</td>\n",
       "      <td>8.68</td>\n",
       "    </tr>\n",
       "    <tr>\n",
       "      <th>2</th>\n",
       "      <td>21.01</td>\n",
       "      <td>3.50</td>\n",
       "      <td>Male</td>\n",
       "      <td>No</td>\n",
       "      <td>Sun</td>\n",
       "      <td>Dinner</td>\n",
       "      <td>3</td>\n",
       "      <td>0.199886</td>\n",
       "      <td>17.51</td>\n",
       "    </tr>\n",
       "    <tr>\n",
       "      <th>3</th>\n",
       "      <td>23.68</td>\n",
       "      <td>3.31</td>\n",
       "      <td>Male</td>\n",
       "      <td>No</td>\n",
       "      <td>Sun</td>\n",
       "      <td>Dinner</td>\n",
       "      <td>2</td>\n",
       "      <td>0.162494</td>\n",
       "      <td>20.37</td>\n",
       "    </tr>\n",
       "    <tr>\n",
       "      <th>4</th>\n",
       "      <td>24.59</td>\n",
       "      <td>3.61</td>\n",
       "      <td>Female</td>\n",
       "      <td>No</td>\n",
       "      <td>Sun</td>\n",
       "      <td>Dinner</td>\n",
       "      <td>4</td>\n",
       "      <td>0.172069</td>\n",
       "      <td>20.98</td>\n",
       "    </tr>\n",
       "  </tbody>\n",
       "</table>\n",
       "</div>"
      ],
      "text/plain": [
       "   total_bill   tip     sex smoker  day    time  size   tip_pct  net_bill\n",
       "0       16.99  1.01  Female     No  Sun  Dinner     2  0.063204     15.98\n",
       "1       10.34  1.66    Male     No  Sun  Dinner     3  0.191244      8.68\n",
       "2       21.01  3.50    Male     No  Sun  Dinner     3  0.199886     17.51\n",
       "3       23.68  3.31    Male     No  Sun  Dinner     2  0.162494     20.37\n",
       "4       24.59  3.61  Female     No  Sun  Dinner     4  0.172069     20.98"
      ]
     },
     "execution_count": 2,
     "metadata": {},
     "output_type": "execute_result"
    }
   ],
   "source": [
    "tips = sns.load_dataset(\"tips\")\n",
    "tips['tip_pct'] = tips['tip'] / (tips['total_bill'] - tips['tip'])\n",
    "tips['net_bill'] = tips['total_bill'] - tips['tip']\n",
    "tips.head()"
   ]
  },
  {
   "cell_type": "code",
   "execution_count": 3,
   "metadata": {},
   "outputs": [],
   "source": [
    "reg = smf.ols('np.log(tip) ~ C(size) + np.log(net_bill)', data = tips).fit()"
   ]
  },
  {
   "cell_type": "code",
   "execution_count": 4,
   "metadata": {},
   "outputs": [
    {
     "data": {
      "text/html": [
       "<table class=\"simpletable\">\n",
       "<caption>OLS Regression Results</caption>\n",
       "<tr>\n",
       "  <th>Dep. Variable:</th>       <td>np.log(tip)</td>   <th>  R-squared:         </th> <td>   0.361</td>\n",
       "</tr>\n",
       "<tr>\n",
       "  <th>Model:</th>                   <td>OLS</td>       <th>  Adj. R-squared:    </th> <td>   0.345</td>\n",
       "</tr>\n",
       "<tr>\n",
       "  <th>Method:</th>             <td>Least Squares</td>  <th>  F-statistic:       </th> <td>   22.31</td>\n",
       "</tr>\n",
       "<tr>\n",
       "  <th>Date:</th>             <td>Mon, 22 Jan 2024</td> <th>  Prob (F-statistic):</th> <td>8.67e-21</td>\n",
       "</tr>\n",
       "<tr>\n",
       "  <th>Time:</th>                 <td>16:38:11</td>     <th>  Log-Likelihood:    </th> <td> -88.627</td>\n",
       "</tr>\n",
       "<tr>\n",
       "  <th>No. Observations:</th>      <td>   244</td>      <th>  AIC:               </th> <td>   191.3</td>\n",
       "</tr>\n",
       "<tr>\n",
       "  <th>Df Residuals:</th>          <td>   237</td>      <th>  BIC:               </th> <td>   215.7</td>\n",
       "</tr>\n",
       "<tr>\n",
       "  <th>Df Model:</th>              <td>     6</td>      <th>                     </th>     <td> </td>   \n",
       "</tr>\n",
       "<tr>\n",
       "  <th>Covariance Type:</th>      <td>nonrobust</td>    <th>                     </th>     <td> </td>   \n",
       "</tr>\n",
       "</table>\n",
       "<table class=\"simpletable\">\n",
       "<tr>\n",
       "          <td></td>            <th>coef</th>     <th>std err</th>      <th>t</th>      <th>P>|t|</th>  <th>[0.025</th>    <th>0.975]</th>  \n",
       "</tr>\n",
       "<tr>\n",
       "  <th>Intercept</th>        <td>   -0.3111</td> <td>    0.202</td> <td>   -1.543</td> <td> 0.124</td> <td>   -0.708</td> <td>    0.086</td>\n",
       "</tr>\n",
       "<tr>\n",
       "  <th>C(size)[T.2]</th>     <td>    0.2169</td> <td>    0.187</td> <td>    1.161</td> <td> 0.247</td> <td>   -0.151</td> <td>    0.585</td>\n",
       "</tr>\n",
       "<tr>\n",
       "  <th>C(size)[T.3]</th>     <td>    0.3430</td> <td>    0.200</td> <td>    1.712</td> <td> 0.088</td> <td>   -0.052</td> <td>    0.738</td>\n",
       "</tr>\n",
       "<tr>\n",
       "  <th>C(size)[T.4]</th>     <td>    0.4559</td> <td>    0.206</td> <td>    2.210</td> <td> 0.028</td> <td>    0.049</td> <td>    0.862</td>\n",
       "</tr>\n",
       "<tr>\n",
       "  <th>C(size)[T.5]</th>     <td>    0.4122</td> <td>    0.255</td> <td>    1.618</td> <td> 0.107</td> <td>   -0.090</td> <td>    0.914</td>\n",
       "</tr>\n",
       "<tr>\n",
       "  <th>C(size)[T.6]</th>     <td>    0.6721</td> <td>    0.270</td> <td>    2.493</td> <td> 0.013</td> <td>    0.141</td> <td>    1.203</td>\n",
       "</tr>\n",
       "<tr>\n",
       "  <th>np.log(net_bill)</th> <td>    0.3810</td> <td>    0.059</td> <td>    6.420</td> <td> 0.000</td> <td>    0.264</td> <td>    0.498</td>\n",
       "</tr>\n",
       "</table>\n",
       "<table class=\"simpletable\">\n",
       "<tr>\n",
       "  <th>Omnibus:</th>       <td> 6.180</td> <th>  Durbin-Watson:     </th> <td>   1.905</td>\n",
       "</tr>\n",
       "<tr>\n",
       "  <th>Prob(Omnibus):</th> <td> 0.046</td> <th>  Jarque-Bera (JB):  </th> <td>   8.912</td>\n",
       "</tr>\n",
       "<tr>\n",
       "  <th>Skew:</th>          <td> 0.108</td> <th>  Prob(JB):          </th> <td>  0.0116</td>\n",
       "</tr>\n",
       "<tr>\n",
       "  <th>Kurtosis:</th>      <td> 3.911</td> <th>  Cond. No.          </th> <td>    62.1</td>\n",
       "</tr>\n",
       "</table><br/><br/>Notes:<br/>[1] Standard Errors assume that the covariance matrix of the errors is correctly specified."
      ],
      "text/latex": [
       "\\begin{center}\n",
       "\\begin{tabular}{lclc}\n",
       "\\toprule\n",
       "\\textbf{Dep. Variable:}    &   np.log(tip)    & \\textbf{  R-squared:         } &     0.361   \\\\\n",
       "\\textbf{Model:}            &       OLS        & \\textbf{  Adj. R-squared:    } &     0.345   \\\\\n",
       "\\textbf{Method:}           &  Least Squares   & \\textbf{  F-statistic:       } &     22.31   \\\\\n",
       "\\textbf{Date:}             & Mon, 22 Jan 2024 & \\textbf{  Prob (F-statistic):} &  8.67e-21   \\\\\n",
       "\\textbf{Time:}             &     16:38:11     & \\textbf{  Log-Likelihood:    } &   -88.627   \\\\\n",
       "\\textbf{No. Observations:} &         244      & \\textbf{  AIC:               } &     191.3   \\\\\n",
       "\\textbf{Df Residuals:}     &         237      & \\textbf{  BIC:               } &     215.7   \\\\\n",
       "\\textbf{Df Model:}         &           6      & \\textbf{                     } &             \\\\\n",
       "\\textbf{Covariance Type:}  &    nonrobust     & \\textbf{                     } &             \\\\\n",
       "\\bottomrule\n",
       "\\end{tabular}\n",
       "\\begin{tabular}{lcccccc}\n",
       "                           & \\textbf{coef} & \\textbf{std err} & \\textbf{t} & \\textbf{P$> |$t$|$} & \\textbf{[0.025} & \\textbf{0.975]}  \\\\\n",
       "\\midrule\n",
       "\\textbf{Intercept}         &      -0.3111  &        0.202     &    -1.543  &         0.124        &       -0.708    &        0.086     \\\\\n",
       "\\textbf{C(size)[T.2]}      &       0.2169  &        0.187     &     1.161  &         0.247        &       -0.151    &        0.585     \\\\\n",
       "\\textbf{C(size)[T.3]}      &       0.3430  &        0.200     &     1.712  &         0.088        &       -0.052    &        0.738     \\\\\n",
       "\\textbf{C(size)[T.4]}      &       0.4559  &        0.206     &     2.210  &         0.028        &        0.049    &        0.862     \\\\\n",
       "\\textbf{C(size)[T.5]}      &       0.4122  &        0.255     &     1.618  &         0.107        &       -0.090    &        0.914     \\\\\n",
       "\\textbf{C(size)[T.6]}      &       0.6721  &        0.270     &     2.493  &         0.013        &        0.141    &        1.203     \\\\\n",
       "\\textbf{np.log(net\\_bill)} &       0.3810  &        0.059     &     6.420  &         0.000        &        0.264    &        0.498     \\\\\n",
       "\\bottomrule\n",
       "\\end{tabular}\n",
       "\\begin{tabular}{lclc}\n",
       "\\textbf{Omnibus:}       &  6.180 & \\textbf{  Durbin-Watson:     } &    1.905  \\\\\n",
       "\\textbf{Prob(Omnibus):} &  0.046 & \\textbf{  Jarque-Bera (JB):  } &    8.912  \\\\\n",
       "\\textbf{Skew:}          &  0.108 & \\textbf{  Prob(JB):          } &   0.0116  \\\\\n",
       "\\textbf{Kurtosis:}      &  3.911 & \\textbf{  Cond. No.          } &     62.1  \\\\\n",
       "\\bottomrule\n",
       "\\end{tabular}\n",
       "%\\caption{OLS Regression Results}\n",
       "\\end{center}\n",
       "\n",
       "Notes: \\newline\n",
       " [1] Standard Errors assume that the covariance matrix of the errors is correctly specified."
      ],
      "text/plain": [
       "<class 'statsmodels.iolib.summary.Summary'>\n",
       "\"\"\"\n",
       "                            OLS Regression Results                            \n",
       "==============================================================================\n",
       "Dep. Variable:            np.log(tip)   R-squared:                       0.361\n",
       "Model:                            OLS   Adj. R-squared:                  0.345\n",
       "Method:                 Least Squares   F-statistic:                     22.31\n",
       "Date:                Mon, 22 Jan 2024   Prob (F-statistic):           8.67e-21\n",
       "Time:                        16:38:11   Log-Likelihood:                -88.627\n",
       "No. Observations:                 244   AIC:                             191.3\n",
       "Df Residuals:                     237   BIC:                             215.7\n",
       "Df Model:                           6                                         \n",
       "Covariance Type:            nonrobust                                         \n",
       "====================================================================================\n",
       "                       coef    std err          t      P>|t|      [0.025      0.975]\n",
       "------------------------------------------------------------------------------------\n",
       "Intercept           -0.3111      0.202     -1.543      0.124      -0.708       0.086\n",
       "C(size)[T.2]         0.2169      0.187      1.161      0.247      -0.151       0.585\n",
       "C(size)[T.3]         0.3430      0.200      1.712      0.088      -0.052       0.738\n",
       "C(size)[T.4]         0.4559      0.206      2.210      0.028       0.049       0.862\n",
       "C(size)[T.5]         0.4122      0.255      1.618      0.107      -0.090       0.914\n",
       "C(size)[T.6]         0.6721      0.270      2.493      0.013       0.141       1.203\n",
       "np.log(net_bill)     0.3810      0.059      6.420      0.000       0.264       0.498\n",
       "==============================================================================\n",
       "Omnibus:                        6.180   Durbin-Watson:                   1.905\n",
       "Prob(Omnibus):                  0.046   Jarque-Bera (JB):                8.912\n",
       "Skew:                           0.108   Prob(JB):                       0.0116\n",
       "Kurtosis:                       3.911   Cond. No.                         62.1\n",
       "==============================================================================\n",
       "\n",
       "Notes:\n",
       "[1] Standard Errors assume that the covariance matrix of the errors is correctly specified.\n",
       "\"\"\""
      ]
     },
     "execution_count": 4,
     "metadata": {},
     "output_type": "execute_result"
    }
   ],
   "source": [
    "tips['res_log'] = reg.resid\n",
    "\n",
    "reg.summary()"
   ]
  },
  {
   "cell_type": "code",
   "execution_count": 5,
   "metadata": {},
   "outputs": [
    {
     "data": {
      "text/plain": [
       "<matplotlib.lines.Line2D at 0x16bb758b090>"
      ]
     },
     "execution_count": 5,
     "metadata": {},
     "output_type": "execute_result"
    },
    {
     "data": {
      "image/png": "[encoded data removed]",
      "text/plain": [
       "<Figure size 640x480 with 1 Axes>"
      ]
     },
     "metadata": {},
     "output_type": "display_data"
    }
   ],
   "source": [
    "sns.scatterplot(x = 'net_bill', y = 'res_log', data = tips)\n",
    "plt.axhline(y=0, color='r', linestyle='--')"
   ]
  },
  {
   "cell_type": "markdown",
   "metadata": {},
   "source": [
    "### 2. Mudança de perspectiva\n",
    "\n",
    "Agora ajuste um modelo de regressão de ```tip_pct``` por ```net_bill```. Construa o gráfico de dispersão correspondente."
   ]
  },
  {
   "cell_type": "code",
   "execution_count": 6,
   "metadata": {},
   "outputs": [
    {
     "name": "stdout",
     "output_type": "stream",
     "text": [
      "                            OLS Regression Results                            \n",
      "==============================================================================\n",
      "Dep. Variable:                tip_pct   R-squared:                       0.091\n",
      "Model:                            OLS   Adj. R-squared:                  0.088\n",
      "Method:                 Least Squares   F-statistic:                     24.31\n",
      "Date:                Mon, 22 Jan 2024   Prob (F-statistic):           1.52e-06\n",
      "Time:                        16:44:00   Log-Likelihood:                 108.00\n",
      "No. Observations:                 244   AIC:                            -212.0\n",
      "Df Residuals:                     242   BIC:                            -205.0\n",
      "Df Model:                           1                                         \n",
      "Covariance Type:            nonrobust                                         \n",
      "==============================================================================\n",
      "                 coef    std err          t      P>|t|      [0.025      0.975]\n",
      "------------------------------------------------------------------------------\n",
      "Intercept      0.3053      0.023     13.166      0.000       0.260       0.351\n",
      "net_bill      -0.0061      0.001     -4.931      0.000      -0.009      -0.004\n",
      "==============================================================================\n",
      "Omnibus:                      468.674   Durbin-Watson:                   1.987\n",
      "Prob(Omnibus):                  0.000   Jarque-Bera (JB):           234437.604\n",
      "Skew:                          11.104   Prob(JB):                         0.00\n",
      "Kurtosis:                     153.221   Cond. No.                         43.3\n",
      "==============================================================================\n",
      "\n",
      "Notes:\n",
      "[1] Standard Errors assume that the covariance matrix of the errors is correctly specified.\n"
     ]
    }
   ],
   "source": [
    "# Ajustando o modelo de regressão\n",
    "reg_tip_pct = smf.ols('tip_pct ~ net_bill', data=tips).fit()\n",
    "\n",
    "# Visualizando o resumo do modelo\n",
    "print(reg_tip_pct.summary())"
   ]
  },
  {
   "cell_type": "code",
   "execution_count": 7,
   "metadata": {},
   "outputs": [
    {
     "data": {
      "image/png": "[encoded data removed]",
      "text/plain": [
       "<Figure size 640x480 with 1 Axes>"
      ]
     },
     "metadata": {},
     "output_type": "display_data"
    }
   ],
   "source": [
    "# Gráfico de dispersão\n",
    "plt.scatter(tips['net_bill'], tips['tip_pct'], alpha=0.5, label='Dados Observados')\n",
    "plt.xlabel('net_bill')\n",
    "plt.ylabel('tip_pct')\n",
    "plt.title('Gráfico de Dispersão: tip_pct por net_bill')\n",
    "plt.legend()\n",
    "plt.show()"
   ]
  },
  {
   "cell_type": "markdown",
   "metadata": {},
   "source": [
    "### 3. Comente\n",
    "\n",
    "Compare os dois gráficos e comente (de forma objetiva e suscinta) a relação entre eles e a diferença do ajuste. Podemos comparar diretamente os $R^2$s?"
   ]
  },
  {
   "cell_type": "markdown",
   "metadata": {},
   "source": [
    "Com base na observação dos gráficos e nos resultados, com a mudança no modelo (de logaritmo de tip para tip_pct por net_bill) verifica-se que afetou a representação dos dados. A nova abordagem parece mais apropriada. Embora seja possível comparar diretamente os valores de 𝑅² entre os dois modelos, é importante considerar que modelos com diferentes variáveis independentes podem ter 𝑅² diferentes mesmo quando são igualmente bons em ajustar os dados, portanto 𝑅² não deve ser a única métrica de avaliação. "
   ]
  },
  {
   "cell_type": "markdown",
   "metadata": {},
   "source": [
    "### 4. Ajuste do modelo em outra escala\n",
    "\n",
    "Com o modelo no item 3, obtenha a preditiva do valor da gorjeta:\n",
    "  1. obtenha o valor predito ```pred``` para ```tip_pct``` (dica, veja o atributo ```reg.fittedvalues```)\n",
    "  2. obtenha o valor predito para ```tip``` como ```tip_pct * net_bill```\n",
    "  3. calcule o $R^2$ do modelo para ```tip```\n",
    "  4. compare esse $R^2$ com o do item 1"
   ]
  },
  {
   "cell_type": "code",
   "execution_count": 8,
   "metadata": {},
   "outputs": [
    {
     "name": "stdout",
     "output_type": "stream",
     "text": [
      "     net_bill   tip_pct  pred_tip_pct\n",
      "0       15.98  0.063204      0.961532\n",
      "1        8.68  0.191244      0.855170\n",
      "2       17.51  0.199886      1.122512\n",
      "3       20.37  0.162494      1.054002\n",
      "4       20.98  0.172069      1.304248\n",
      "..        ...       ...           ...\n",
      "239     23.11  0.256166      1.228227\n",
      "240     25.18  0.079428      1.134762\n",
      "241     20.67  0.096759      1.059572\n",
      "242     16.07  0.108899      0.963672\n",
      "243     15.78  0.190114      0.956734\n",
      "\n",
      "[244 rows x 3 columns]\n"
     ]
    }
   ],
   "source": [
    "pred_tip_pct = reg.fittedvalues\n",
    "\n",
    "# Adicionando 'pred_tip_pct' como uma nova coluna em 'tips'\n",
    "tips['pred_tip_pct'] = pred_tip_pct\n",
    "\n",
    "# Visualizando os valores preditos\n",
    "print(tips[['net_bill', 'tip_pct', 'pred_tip_pct']])"
   ]
  },
  {
   "cell_type": "code",
   "execution_count": 9,
   "metadata": {},
   "outputs": [
    {
     "name": "stdout",
     "output_type": "stream",
     "text": [
      "     net_bill   tip_pct  pred_tip\n",
      "0       15.98  0.063204      1.01\n",
      "1        8.68  0.191244      1.66\n",
      "2       17.51  0.199886      3.50\n",
      "3       20.37  0.162494      3.31\n",
      "4       20.98  0.172069      3.61\n",
      "..        ...       ...       ...\n",
      "239     23.11  0.256166      5.92\n",
      "240     25.18  0.079428      2.00\n",
      "241     20.67  0.096759      2.00\n",
      "242     16.07  0.108899      1.75\n",
      "243     15.78  0.190114      3.00\n",
      "\n",
      "[244 rows x 3 columns]\n"
     ]
    }
   ],
   "source": [
    "# Calculando o valor predito para tip usando tip_pct * net_bill\n",
    "tips['pred_tip'] = tips['tip_pct'] * tips['net_bill']\n",
    "\n",
    "# Visualizando os valores preditos\n",
    "print(tips[['net_bill', 'tip_pct', 'pred_tip']])"
   ]
  },
  {
   "cell_type": "code",
   "execution_count": 12,
   "metadata": {},
   "outputs": [
    {
     "name": "stdout",
     "output_type": "stream",
     "text": [
      "R-squared para o modelo de tip_pct * net_bill: 1.0\n"
     ]
    }
   ],
   "source": [
    "# Calculando R-squared\n",
    "r_squared_tip = r2_score(tips['tip'], tips['pred_tip'])\n",
    "\n",
    "# Visualizando o valor de R-squared\n",
    "print(\"R-squared para o modelo de tip_pct * net_bill:\", r_squared_tip)"
   ]
  },
  {
   "cell_type": "code",
   "execution_count": 13,
   "metadata": {},
   "outputs": [
    {
     "name": "stdout",
     "output_type": "stream",
     "text": [
      "R-squared para o modelo original (np.log(tip) ~ C(size) + np.log(net_bill)): 0.3609869602736895\n",
      "R-squared para o modelo de tip_pct * net_bill: 1.0\n"
     ]
    }
   ],
   "source": [
    "# R-squared anterior do modelo original\n",
    "print(\"R-squared para o modelo original (np.log(tip) ~ C(size) + np.log(net_bill)):\", reg.rsquared)\n",
    "\n",
    "# R-squared atual do modelo tip_pct * net_bill\n",
    "print(\"R-squared para o modelo de tip_pct * net_bill:\", r_squared_tip)"
   ]
  },
  {
   "cell_type": "markdown",
   "metadata": {},
   "source": [
    "A comparação dos valores de  𝑅2  revela uma diferença notável entre os dois modelos:\n",
    "Modelo Original (np.log(tip) ~ C(size) + np.log(net_bill)):\n",
    "  𝑅2 = 0.361: O modelo original explica aproximadamente 36.1% da variabilidade em tip com base nas variáveis independentes incluídas (tamanho e logaritmo de net_bill).\n",
    "  \n",
    "Modelo tip_pct * net_bill:\n",
    "  R2 = 1.0: O novo modelo, que prevê tip diretamente como o produto de tip_pct e net_bill, parece ter um ajuste perfeito (R2 = 1). Isso indica que o novo modelo explica completamente a variabilidade em tip com base nas variáveis consideradas.\n",
    "  \n",
    "O modelo que utiliza a multiplicação de tip_pct por net_bill apresenta um R2 de 1.0, indicando que ele explica completamente a variação em tip com base nessas variáveis. Isso contrasta com o modelo original, que tinha um R2 de 0.361 e explicava apenas uma parte da variabilidade em tip. A mudança no modelo resultou em um ajuste muito mais preciso aos dados, pelo menos em termos do R2.\n",
    "  "
   ]
  }
 ],
 "metadata": {
  "kernelspec": {
   "display_name": "Python 3 (ipykernel)",
   "language": "python",
   "name": "python3"
  },
  "language_info": {
   "codemirror_mode": {
    "name": "ipython",
    "version": 3
   },
   "file_extension": ".py",
   "mimetype": "text/x-python",
   "name": "python",
   "nbconvert_exporter": "python",
   "pygments_lexer": "ipython3",
   "version": "3.11.5"
  }
 },
 "nbformat": 4,
 "nbformat_minor": 4
}
